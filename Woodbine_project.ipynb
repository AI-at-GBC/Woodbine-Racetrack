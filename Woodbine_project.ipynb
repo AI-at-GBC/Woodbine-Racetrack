{
 "cells": [
  {
   "cell_type": "code",
   "execution_count": 293,
   "id": "6ed24d92-f93f-4a38-a2cb-7045fcc4b1ff",
   "metadata": {},
   "outputs": [],
   "source": [
    "#To do:  Robust comments, sensitivity analysis, hyperparameter tuning, regression forecasting, traditional ML models for comparison"
   ]
  },
  {
   "cell_type": "code",
   "execution_count": 294,
   "id": "71164ce0-e447-4cee-9ff1-cd9a1d15f895",
   "metadata": {},
   "outputs": [],
   "source": [
    "import pandas as pd\n",
    "import numpy as np\n",
    "import glob\n",
    "import os\n",
    "import re\n",
    "from sklearn.preprocessing import OneHotEncoder\n",
    "import numpy as np\n",
    "import pandas as pd\n",
    "import matplotlib.pyplot as plt\n",
    "from sklearn.utils import shuffle\n",
    "from sklearn.preprocessing import LabelEncoder\n",
    "from sklearn import preprocessing, model_selection\n",
    "import tensorflow as tf\n",
    "from sklearn.metrics import confusion_matrix\n",
    "from tensorflow import keras\n",
    "from tensorflow.keras import layers\n",
    "from tensorflow.keras.callbacks import ModelCheckpoint\n",
    "from sklearn.linear_model import LinearRegression\n",
    "from sklearn.metrics import r2_score\n",
    "from sklearn import svm, datasets\n",
    "from sklearn.model_selection import cross_val_score\n",
    "\n",
    "%matplotlib inline\n",
    "import matplotlib.pyplot as plt\n",
    "import seaborn as sns"
   ]
  },
  {
   "cell_type": "code",
   "execution_count": 295,
   "id": "ade465fc-314d-47da-b99a-938bd3c0ae21",
   "metadata": {},
   "outputs": [
    {
     "data": {
      "text/plain": [
       "(4370, 27)"
      ]
     },
     "execution_count": 295,
     "metadata": {},
     "output_type": "execute_result"
    }
   ],
   "source": [
    "df = pd.read_csv('woodbine_horses.csv')\n",
    "df.shape"
   ]
  },
  {
   "cell_type": "code",
   "execution_count": 296,
   "id": "39555956-fd71-48f4-bb5a-928835ea9b21",
   "metadata": {},
   "outputs": [
    {
     "name": "stdout",
     "output_type": "stream",
     "text": [
      "Index(['track', 'card_id', 'race_date', 'breed', 'name', 'weight', 'age',\n",
      "       'sex', 'meds_and_equip', 'jockey', 'dollar_odds', 'program_number',\n",
      "       'post_position', 'claim_price', 'start_position', 'finish_position',\n",
      "       'finish_time', 'speed_rating', 'trainer', 'owner', 'win_payoff',\n",
      "       'place_payoff', 'show_payoff', 'weather', 'distance', 'race_type',\n",
      "       'track_conditions'],\n",
      "      dtype='object')\n"
     ]
    }
   ],
   "source": [
    "print(df.columns)"
   ]
  },
  {
   "cell_type": "code",
   "execution_count": 297,
   "id": "7af033c4-110c-426d-96ca-b12375eea748",
   "metadata": {},
   "outputs": [
    {
     "data": {
      "text/html": [
       "<div>\n",
       "<style scoped>\n",
       "    .dataframe tbody tr th:only-of-type {\n",
       "        vertical-align: middle;\n",
       "    }\n",
       "\n",
       "    .dataframe tbody tr th {\n",
       "        vertical-align: top;\n",
       "    }\n",
       "\n",
       "    .dataframe thead th {\n",
       "        text-align: right;\n",
       "    }\n",
       "</style>\n",
       "<table border=\"1\" class=\"dataframe\">\n",
       "  <thead>\n",
       "    <tr style=\"text-align: right;\">\n",
       "      <th></th>\n",
       "      <th>track</th>\n",
       "      <th>card_id</th>\n",
       "      <th>race_date</th>\n",
       "      <th>breed</th>\n",
       "      <th>name</th>\n",
       "      <th>weight</th>\n",
       "      <th>age</th>\n",
       "      <th>sex</th>\n",
       "      <th>meds_and_equip</th>\n",
       "      <th>jockey</th>\n",
       "      <th>...</th>\n",
       "      <th>speed_rating</th>\n",
       "      <th>trainer</th>\n",
       "      <th>owner</th>\n",
       "      <th>win_payoff</th>\n",
       "      <th>place_payoff</th>\n",
       "      <th>show_payoff</th>\n",
       "      <th>weather</th>\n",
       "      <th>distance</th>\n",
       "      <th>race_type</th>\n",
       "      <th>track_conditions</th>\n",
       "    </tr>\n",
       "  </thead>\n",
       "  <tbody>\n",
       "    <tr>\n",
       "      <th>0</th>\n",
       "      <td>WO</td>\n",
       "      <td>D</td>\n",
       "      <td>2015-06-20 00:00:00</td>\n",
       "      <td>TB</td>\n",
       "      <td>Madam Premier</td>\n",
       "      <td>119</td>\n",
       "      <td>4</td>\n",
       "      <td>M</td>\n",
       "      <td>Lb</td>\n",
       "      <td>S   Ryan</td>\n",
       "      <td>...</td>\n",
       "      <td>44.0</td>\n",
       "      <td>O'Keefe Thomas</td>\n",
       "      <td>Emily Anne Walker</td>\n",
       "      <td>0.0</td>\n",
       "      <td>0.0</td>\n",
       "      <td>0.0</td>\n",
       "      <td>Cloudy</td>\n",
       "      <td>900.0</td>\n",
       "      <td>Claiming</td>\n",
       "      <td>FT</td>\n",
       "    </tr>\n",
       "    <tr>\n",
       "      <th>1</th>\n",
       "      <td>WO</td>\n",
       "      <td>D</td>\n",
       "      <td>2015-07-19 00:00:00</td>\n",
       "      <td>TB</td>\n",
       "      <td>Notion Sonet</td>\n",
       "      <td>118</td>\n",
       "      <td>3</td>\n",
       "      <td>C</td>\n",
       "      <td>L</td>\n",
       "      <td>L   Contreras</td>\n",
       "      <td>...</td>\n",
       "      <td>96.0</td>\n",
       "      <td>Carroll Josie</td>\n",
       "      <td>Ivan Dalos</td>\n",
       "      <td>0.0</td>\n",
       "      <td>0.0</td>\n",
       "      <td>0.0</td>\n",
       "      <td>Cloudy</td>\n",
       "      <td>650.0</td>\n",
       "      <td>Allowance</td>\n",
       "      <td>FT</td>\n",
       "    </tr>\n",
       "    <tr>\n",
       "      <th>2</th>\n",
       "      <td>WO</td>\n",
       "      <td>D</td>\n",
       "      <td>2015-07-25 00:00:00</td>\n",
       "      <td>TB</td>\n",
       "      <td>Big Red Bugsy</td>\n",
       "      <td>121</td>\n",
       "      <td>5</td>\n",
       "      <td>G</td>\n",
       "      <td>L</td>\n",
       "      <td>S R Bahen</td>\n",
       "      <td>...</td>\n",
       "      <td>83.0</td>\n",
       "      <td>Fournier Mark</td>\n",
       "      <td>Carruthers, Carruthers, Carruthers, Carruthers...</td>\n",
       "      <td>0.0</td>\n",
       "      <td>0.0</td>\n",
       "      <td>0.0</td>\n",
       "      <td>Cloudy</td>\n",
       "      <td>700.0</td>\n",
       "      <td>Claiming</td>\n",
       "      <td>FT</td>\n",
       "    </tr>\n",
       "    <tr>\n",
       "      <th>3</th>\n",
       "      <td>WO</td>\n",
       "      <td>D</td>\n",
       "      <td>2015-08-14 00:00:00</td>\n",
       "      <td>TB</td>\n",
       "      <td>Lillz Pearl</td>\n",
       "      <td>121</td>\n",
       "      <td>5</td>\n",
       "      <td>G</td>\n",
       "      <td>Lb</td>\n",
       "      <td>J   McAleney</td>\n",
       "      <td>...</td>\n",
       "      <td>88.0</td>\n",
       "      <td>Singh Ricky</td>\n",
       "      <td>Ricky Singh</td>\n",
       "      <td>0.0</td>\n",
       "      <td>5.7</td>\n",
       "      <td>3.3</td>\n",
       "      <td>Clear</td>\n",
       "      <td>500.0</td>\n",
       "      <td>Allowance</td>\n",
       "      <td>FT</td>\n",
       "    </tr>\n",
       "    <tr>\n",
       "      <th>4</th>\n",
       "      <td>WO</td>\n",
       "      <td>D</td>\n",
       "      <td>2015-08-29 00:00:00</td>\n",
       "      <td>TB</td>\n",
       "      <td>Sweet Rose</td>\n",
       "      <td>121</td>\n",
       "      <td>4</td>\n",
       "      <td>F</td>\n",
       "      <td>NaN</td>\n",
       "      <td>L   Contreras</td>\n",
       "      <td>...</td>\n",
       "      <td>86.0</td>\n",
       "      <td>Attard Sid C</td>\n",
       "      <td>Stronach Stables</td>\n",
       "      <td>0.0</td>\n",
       "      <td>0.0</td>\n",
       "      <td>3.1</td>\n",
       "      <td>Cloudy</td>\n",
       "      <td>500.0</td>\n",
       "      <td>Allowance</td>\n",
       "      <td>FT</td>\n",
       "    </tr>\n",
       "  </tbody>\n",
       "</table>\n",
       "<p>5 rows × 27 columns</p>\n",
       "</div>"
      ],
      "text/plain": [
       "  track card_id            race_date breed           name  weight  age sex  \\\n",
       "0   WO        D  2015-06-20 00:00:00    TB  Madam Premier     119    4   M   \n",
       "1   WO        D  2015-07-19 00:00:00    TB   Notion Sonet     118    3   C   \n",
       "2   WO        D  2015-07-25 00:00:00    TB  Big Red Bugsy     121    5   G   \n",
       "3   WO        D  2015-08-14 00:00:00    TB    Lillz Pearl     121    5   G   \n",
       "4   WO        D  2015-08-29 00:00:00    TB     Sweet Rose     121    4   F   \n",
       "\n",
       "  meds_and_equip         jockey  ...  speed_rating         trainer  \\\n",
       "0             Lb       S   Ryan  ...          44.0  O'Keefe Thomas   \n",
       "1              L  L   Contreras  ...          96.0   Carroll Josie   \n",
       "2              L      S R Bahen  ...          83.0   Fournier Mark   \n",
       "3             Lb   J   McAleney  ...          88.0     Singh Ricky   \n",
       "4            NaN  L   Contreras  ...          86.0    Attard Sid C   \n",
       "\n",
       "                                               owner  win_payoff  \\\n",
       "0                                  Emily Anne Walker         0.0   \n",
       "1                                         Ivan Dalos         0.0   \n",
       "2  Carruthers, Carruthers, Carruthers, Carruthers...         0.0   \n",
       "3                                        Ricky Singh         0.0   \n",
       "4                                   Stronach Stables         0.0   \n",
       "\n",
       "   place_payoff  show_payoff  weather  distance  race_type track_conditions  \n",
       "0           0.0          0.0   Cloudy     900.0   Claiming               FT  \n",
       "1           0.0          0.0   Cloudy     650.0  Allowance               FT  \n",
       "2           0.0          0.0   Cloudy     700.0   Claiming               FT  \n",
       "3           5.7          3.3    Clear     500.0  Allowance               FT  \n",
       "4           0.0          3.1   Cloudy     500.0  Allowance               FT  \n",
       "\n",
       "[5 rows x 27 columns]"
      ]
     },
     "execution_count": 297,
     "metadata": {},
     "output_type": "execute_result"
    }
   ],
   "source": [
    "#Exploratory analysis\n",
    "df.head()"
   ]
  },
  {
   "cell_type": "code",
   "execution_count": 298,
   "id": "5d067598-678e-4996-b993-c924ead88136",
   "metadata": {},
   "outputs": [
    {
     "data": {
      "text/plain": [
       "WO     4370\n",
       "Name: track, dtype: int64"
      ]
     },
     "execution_count": 298,
     "metadata": {},
     "output_type": "execute_result"
    }
   ],
   "source": [
    "#There's only 1 value for the track feature, making it unnecessary\n",
    "df['track'].value_counts()"
   ]
  },
  {
   "cell_type": "code",
   "execution_count": 299,
   "id": "5f9a1652-c122-447a-aae4-4b5c0fe3ee28",
   "metadata": {},
   "outputs": [
    {
     "data": {
      "text/plain": [
       "D    4370\n",
       "Name: card_id, dtype: int64"
      ]
     },
     "execution_count": 299,
     "metadata": {},
     "output_type": "execute_result"
    }
   ],
   "source": [
    "#There's only 1 value for the track feature, making it unnecessary\n",
    "df['card_id'].value_counts()"
   ]
  },
  {
   "cell_type": "code",
   "execution_count": 300,
   "id": "bb26c2aa-8249-4305-bcdd-69db76520921",
   "metadata": {},
   "outputs": [
    {
     "data": {
      "text/plain": [
       "2016-10-16 00:00:00    106\n",
       "2016-09-25 00:00:00     92\n",
       "2016-10-29 00:00:00     89\n",
       "2016-10-09 00:00:00     89\n",
       "2016-09-17 00:00:00     88\n",
       "                      ... \n",
       "2016-05-19 00:00:00      1\n",
       "2016-05-15 00:00:00      1\n",
       "2016-05-14 00:00:00      1\n",
       "2016-05-13 00:00:00      1\n",
       "2017-04-05 00:00:00      1\n",
       "Name: race_date, Length: 205, dtype: int64"
      ]
     },
     "execution_count": 300,
     "metadata": {},
     "output_type": "execute_result"
    }
   ],
   "source": [
    "df['race_date'].value_counts()"
   ]
  },
  {
   "cell_type": "code",
   "execution_count": 301,
   "id": "853aa525-7036-4969-a718-01a7faffe592",
   "metadata": {},
   "outputs": [
    {
     "data": {
      "text/plain": [
       "TB    4370\n",
       "Name: breed, dtype: int64"
      ]
     },
     "execution_count": 301,
     "metadata": {},
     "output_type": "execute_result"
    }
   ],
   "source": [
    "df['breed'].value_counts()"
   ]
  },
  {
   "cell_type": "code",
   "execution_count": 302,
   "id": "85a0f7cc-bb23-400f-a163-b509be0a5458",
   "metadata": {},
   "outputs": [
    {
     "data": {
      "text/plain": [
       "Primordia               9\n",
       "Cape Zavata             8\n",
       "Foxy Phill              8\n",
       "Erie Breeze             8\n",
       "Buckden House           8\n",
       "                       ..\n",
       "dq-Too Many Egbert's    1\n",
       "Nezwaah (GB)            1\n",
       "Bangla Dancer           1\n",
       "Uncle Shaggy            1\n",
       "My Cantata              1\n",
       "Name: name, Length: 1600, dtype: int64"
      ]
     },
     "execution_count": 302,
     "metadata": {},
     "output_type": "execute_result"
    }
   ],
   "source": [
    "df['name'].value_counts()"
   ]
  },
  {
   "cell_type": "code",
   "execution_count": 303,
   "id": "03053399-6a88-4fcc-8d27-fe7d47b67d98",
   "metadata": {},
   "outputs": [
    {
     "data": {
      "text/plain": [
       "119    1119\n",
       "121    1064\n",
       "118     587\n",
       "120     417\n",
       "0       317\n",
       "117     237\n",
       "123     198\n",
       "116     162\n",
       "115     100\n",
       "114      83\n",
       "122      44\n",
       "124      15\n",
       "113      13\n",
       "126      12\n",
       "112       1\n",
       "109       1\n",
       "Name: weight, dtype: int64"
      ]
     },
     "execution_count": 303,
     "metadata": {},
     "output_type": "execute_result"
    }
   ],
   "source": [
    "df['weight'].value_counts()"
   ]
  },
  {
   "cell_type": "code",
   "execution_count": 304,
   "id": "996fd21b-683f-4757-a00a-b904cab7d05a",
   "metadata": {},
   "outputs": [
    {
     "data": {
      "text/plain": [
       "3     1181\n",
       "4     1023\n",
       "2      674\n",
       "5      562\n",
       "6      331\n",
       "0      317\n",
       "7      208\n",
       "8       44\n",
       "9       23\n",
       "10       4\n",
       "11       3\n",
       "Name: age, dtype: int64"
      ]
     },
     "execution_count": 304,
     "metadata": {},
     "output_type": "execute_result"
    }
   ],
   "source": [
    "df['age'].value_counts()"
   ]
  },
  {
   "cell_type": "code",
   "execution_count": 305,
   "id": "7fb562e4-954e-4903-8d0c-eee7444997e2",
   "metadata": {},
   "outputs": [
    {
     "data": {
      "text/plain": [
       "G    1824\n",
       "F    1060\n",
       "M     853\n",
       "C     184\n",
       "H     111\n",
       "R      21\n",
       "Name: sex, dtype: int64"
      ]
     },
     "execution_count": 305,
     "metadata": {},
     "output_type": "execute_result"
    }
   ],
   "source": [
    "df['sex'].value_counts()"
   ]
  },
  {
   "cell_type": "code",
   "execution_count": 306,
   "id": "88226229-8322-4386-8659-25a0e8c4445c",
   "metadata": {},
   "outputs": [
    {
     "data": {
      "text/plain": [
       "Lb      1709\n",
       "L       1533\n",
       "Lbf      243\n",
       "Lf       213\n",
       "b        131\n",
       "Ly        14\n",
       "Lv        13\n",
       "y         10\n",
       "bf         8\n",
       "Lby        6\n",
       "f          5\n",
       "Lvf        5\n",
       "Lfy        5\n",
       "by         4\n",
       "v          4\n",
       "Lbfy       1\n",
       "bfy        1\n",
       "Lbfr       1\n",
       "Lbr        1\n",
       "Name: meds_and_equip, dtype: int64"
      ]
     },
     "execution_count": 306,
     "metadata": {},
     "output_type": "execute_result"
    }
   ],
   "source": [
    "df['meds_and_equip'].value_counts()"
   ]
  },
  {
   "cell_type": "code",
   "execution_count": 307,
   "id": "617e286c-4335-4752-be3b-71c86a81f443",
   "metadata": {},
   "outputs": [
    {
     "data": {
      "text/plain": [
       "E R Da Silva     285\n",
       "R M Hernandez    284\n",
       "L   Contreras    258\n",
       "G   Boulanger    249\n",
       "D   Moran        240\n",
       "                ... \n",
       "W T Buick          1\n",
       "C P DeCarlo        1\n",
       "O   Murphy         1\n",
       "P   Morales        1\n",
       "H F Newell         1\n",
       "Name: jockey, Length: 86, dtype: int64"
      ]
     },
     "execution_count": 307,
     "metadata": {},
     "output_type": "execute_result"
    }
   ],
   "source": [
    "df['jockey'].value_counts()"
   ]
  },
  {
   "cell_type": "code",
   "execution_count": 308,
   "id": "22b77f31-6b0d-416d-9beb-65ab5e6ebd35",
   "metadata": {},
   "outputs": [
    {
     "data": {
      "text/plain": [
       "0.00      319\n",
       "2.65       26\n",
       "3.00       25\n",
       "2.80       24\n",
       "2.20       22\n",
       "         ... \n",
       "79.35       1\n",
       "158.15      1\n",
       "19.20       1\n",
       "76.35       1\n",
       "25.40       1\n",
       "Name: dollar_odds, Length: 1212, dtype: int64"
      ]
     },
     "execution_count": 308,
     "metadata": {},
     "output_type": "execute_result"
    }
   ],
   "source": [
    "df['dollar_odds'].value_counts()"
   ]
  },
  {
   "cell_type": "code",
   "execution_count": 309,
   "id": "112608d1-316d-4b31-9cfc-ad606855fd8f",
   "metadata": {},
   "outputs": [
    {
     "data": {
      "text/plain": [
       "5.0     446\n",
       "2.0     443\n",
       "1.0     436\n",
       "4.0     435\n",
       "3.0     433\n",
       "6.0     430\n",
       "7.0     383\n",
       "8.0     323\n",
       "9.0     240\n",
       "10.0    161\n",
       "11.0    121\n",
       "12.0     90\n",
       "13.0     55\n",
       "14.0     42\n",
       "15.0     10\n",
       "16.0      5\n",
       "Name: program_number, dtype: int64"
      ]
     },
     "execution_count": 309,
     "metadata": {},
     "output_type": "execute_result"
    }
   ],
   "source": [
    "df['program_number'].value_counts()"
   ]
  },
  {
   "cell_type": "code",
   "execution_count": 310,
   "id": "cee09b1f-c9d7-40cb-b9db-6abfec0aadbc",
   "metadata": {},
   "outputs": [
    {
     "data": {
      "text/plain": [
       "1     461\n",
       "2     459\n",
       "3     457\n",
       "4     455\n",
       "5     454\n",
       "6     448\n",
       "7     383\n",
       "0     317\n",
       "8     313\n",
       "9     228\n",
       "10    144\n",
       "11    107\n",
       "12     78\n",
       "13     40\n",
       "14     26\n",
       "Name: post_position, dtype: int64"
      ]
     },
     "execution_count": 310,
     "metadata": {},
     "output_type": "execute_result"
    }
   ],
   "source": [
    "df['post_position'].value_counts()"
   ]
  },
  {
   "cell_type": "code",
   "execution_count": 311,
   "id": "9bb70280-1fc5-4a3e-9f64-62d52177f5e4",
   "metadata": {},
   "outputs": [
    {
     "data": {
      "text/plain": [
       "0        1859\n",
       "9500      475\n",
       "20000     270\n",
       "10000     264\n",
       "40000     245\n",
       "7500      172\n",
       "19000     135\n",
       "8000      121\n",
       "6000      110\n",
       "37500     105\n",
       "12500      87\n",
       "25000      85\n",
       "11500      82\n",
       "32000      67\n",
       "16000      64\n",
       "15000      54\n",
       "6250       45\n",
       "30000      33\n",
       "60000      30\n",
       "62500      20\n",
       "23500      20\n",
       "75000      12\n",
       "50000       9\n",
       "47500       4\n",
       "72500       1\n",
       "80000       1\n",
       "Name: claim_price, dtype: int64"
      ]
     },
     "execution_count": 311,
     "metadata": {},
     "output_type": "execute_result"
    }
   ],
   "source": [
    "df['claim_price'].value_counts()"
   ]
  },
  {
   "cell_type": "code",
   "execution_count": 312,
   "id": "3b1fa226-789e-4186-b09e-df2965a259e8",
   "metadata": {},
   "outputs": [
    {
     "data": {
      "text/plain": [
       "1.0     464\n",
       "3.0     458\n",
       "4.0     456\n",
       "2.0     451\n",
       "5.0     438\n",
       "6.0     432\n",
       "0.0     409\n",
       "7.0     373\n",
       "8.0     300\n",
       "9.0     211\n",
       "10.0    139\n",
       "11.0    102\n",
       "12.0     72\n",
       "13.0     39\n",
       "14.0     26\n",
       "Name: start_position, dtype: int64"
      ]
     },
     "execution_count": 312,
     "metadata": {},
     "output_type": "execute_result"
    }
   ],
   "source": [
    "df['start_position'].value_counts()"
   ]
  },
  {
   "cell_type": "code",
   "execution_count": 313,
   "id": "d97f173d-d9b0-4ca6-968b-191e09d59c34",
   "metadata": {},
   "outputs": [
    {
     "data": {
      "text/plain": [
       "3.0     470\n",
       "2.0     466\n",
       "1.0     464\n",
       "4.0     457\n",
       "5.0     454\n",
       "6.0     444\n",
       "7.0     383\n",
       "0.0     317\n",
       "8.0     305\n",
       "9.0     227\n",
       "10.0    139\n",
       "11.0    104\n",
       "12.0     73\n",
       "13.0     41\n",
       "14.0     26\n",
       "Name: finish_position, dtype: int64"
      ]
     },
     "execution_count": 313,
     "metadata": {},
     "output_type": "execute_result"
    }
   ],
   "source": [
    "df['finish_position'].value_counts()"
   ]
  },
  {
   "cell_type": "code",
   "execution_count": 314,
   "id": "9ca70758-3ff0-4aa9-acd7-c1bac6e96af2",
   "metadata": {},
   "outputs": [
    {
     "data": {
      "text/plain": [
       "0.0    4053\n",
       "Name: finish_time, dtype: int64"
      ]
     },
     "execution_count": 314,
     "metadata": {},
     "output_type": "execute_result"
    }
   ],
   "source": [
    "df['finish_time'].value_counts()"
   ]
  },
  {
   "cell_type": "code",
   "execution_count": 315,
   "id": "e389ab73-6edd-4d59-961b-1a746efb3924",
   "metadata": {},
   "outputs": [
    {
     "data": {
      "text/plain": [
       "68.0     119\n",
       "80.0     117\n",
       "72.0     113\n",
       "69.0     112\n",
       "75.0     111\n",
       "        ... \n",
       "22.0       1\n",
       "19.0       1\n",
       "17.0       1\n",
       "27.0       1\n",
       "107.0      1\n",
       "Name: speed_rating, Length: 118, dtype: int64"
      ]
     },
     "execution_count": 315,
     "metadata": {},
     "output_type": "execute_result"
    }
   ],
   "source": [
    "df['speed_rating'].value_counts()"
   ]
  },
  {
   "cell_type": "code",
   "execution_count": 316,
   "id": "5f74fd63-b81f-4529-9378-f62d250d8019",
   "metadata": {},
   "outputs": [
    {
     "data": {
      "text/plain": [
       "Casse Mark E          158\n",
       "Attard Kevin          106\n",
       "De Paulo Michael P     98\n",
       "McKnight Norman        94\n",
       "Doyle Michael J        88\n",
       "                     ... \n",
       "Benson Liam Daniel      1\n",
       "Connelly Teresa         1\n",
       "Hickst Waldemar         1\n",
       "Concessi Armand         1\n",
       "Smith Andrew            1\n",
       "Name: trainer, Length: 285, dtype: int64"
      ]
     },
     "execution_count": 316,
     "metadata": {},
     "output_type": "execute_result"
    }
   ],
   "source": [
    "df['trainer'].value_counts()"
   ]
  },
  {
   "cell_type": "code",
   "execution_count": 317,
   "id": "be05be2f-40d1-42af-8e70-9b6856f48699",
   "metadata": {},
   "outputs": [
    {
     "data": {
      "text/plain": [
       "Colebrook Farms                                 62\n",
       "Bruno Schickedanz                               58\n",
       "Joey Gee Thoroughbreds                          47\n",
       "Tucci Stables                                   45\n",
       "Chiefswood Stable                               45\n",
       "                                                ..\n",
       "Silver King Farm                                 1\n",
       "Sheikh Ahmed Al Maktoum Lessee and Godolphin     1\n",
       "Golden Eagle Farm                                1\n",
       "Ramsey, Kenneth L. and Sarah K.                  1\n",
       "JMC's Racing Stable                              1\n",
       "Name: owner, Length: 864, dtype: int64"
      ]
     },
     "execution_count": 317,
     "metadata": {},
     "output_type": "execute_result"
    }
   ],
   "source": [
    "df['owner'].value_counts()"
   ]
  },
  {
   "cell_type": "code",
   "execution_count": 318,
   "id": "d14be57a-0680-454d-be6f-7637bcc1fccf",
   "metadata": {},
   "outputs": [
    {
     "data": {
      "text/plain": [
       "0.0     3906\n",
       "5.5        9\n",
       "6.5        9\n",
       "4.7        8\n",
       "5.7        8\n",
       "        ... \n",
       "46.0       1\n",
       "44.8       1\n",
       "35.8       1\n",
       "14.0       1\n",
       "19.5       1\n",
       "Name: win_payoff, Length: 194, dtype: int64"
      ]
     },
     "execution_count": 318,
     "metadata": {},
     "output_type": "execute_result"
    }
   ],
   "source": [
    "df['win_payoff'].value_counts()"
   ]
  },
  {
   "cell_type": "code",
   "execution_count": 319,
   "id": "1dc3c289-19d9-4ce8-bfa1-fef1fdbbf428",
   "metadata": {},
   "outputs": [
    {
     "data": {
      "text/plain": [
       "0.0     3440\n",
       "3.0       29\n",
       "2.9       29\n",
       "3.6       28\n",
       "3.3       26\n",
       "        ... \n",
       "14.8       1\n",
       "25.8       1\n",
       "22.3       1\n",
       "14.7       1\n",
       "27.7       1\n",
       "Name: place_payoff, Length: 157, dtype: int64"
      ]
     },
     "execution_count": 319,
     "metadata": {},
     "output_type": "execute_result"
    }
   ],
   "source": [
    "df['place_payoff'].value_counts()"
   ]
  },
  {
   "cell_type": "code",
   "execution_count": 320,
   "id": "70f385a5-920b-4eac-bf37-29ae9ebf36af",
   "metadata": {},
   "outputs": [
    {
     "data": {
      "text/plain": [
       "0.0     2994\n",
       "2.1       83\n",
       "2.9       61\n",
       "2.8       59\n",
       "2.6       57\n",
       "        ... \n",
       "11.1       1\n",
       "12.9       1\n",
       "19.8       1\n",
       "14.6       1\n",
       "44.9       1\n",
       "Name: show_payoff, Length: 117, dtype: int64"
      ]
     },
     "execution_count": 320,
     "metadata": {},
     "output_type": "execute_result"
    }
   ],
   "source": [
    "df['show_payoff'].value_counts()"
   ]
  },
  {
   "cell_type": "code",
   "execution_count": 321,
   "id": "3854d586-f845-4b6e-b085-4dd800129a71",
   "metadata": {},
   "outputs": [
    {
     "data": {
      "text/plain": [
       "Cloudy     3145\n",
       "Showery     544\n",
       "Clear       425\n",
       "Rainy       231\n",
       "Snowing      25\n",
       "Name: weather, dtype: int64"
      ]
     },
     "execution_count": 321,
     "metadata": {},
     "output_type": "execute_result"
    }
   ],
   "source": [
    "df['weather'].value_counts()"
   ]
  },
  {
   "cell_type": "code",
   "execution_count": 322,
   "id": "511b5e10-9e7d-47c9-b8c5-0f98c6ca2f21",
   "metadata": {},
   "outputs": [
    {
     "data": {
      "text/plain": [
       "850.0     1083\n",
       "600.0      920\n",
       "700.0      788\n",
       "650.0      525\n",
       "500.0      386\n",
       "900.0      343\n",
       "800.0      152\n",
       "550.0       78\n",
       "1000.0      39\n",
       "1200.0      25\n",
       "1400.0      14\n",
       "1500.0       9\n",
       "1300.0       8\n",
       "Name: distance, dtype: int64"
      ]
     },
     "execution_count": 322,
     "metadata": {},
     "output_type": "execute_result"
    }
   ],
   "source": [
    "df['distance'].value_counts()"
   ]
  },
  {
   "cell_type": "code",
   "execution_count": 323,
   "id": "c375fdf0-9e62-4c58-98be-b1088ae80ecb",
   "metadata": {},
   "outputs": [
    {
     "data": {
      "text/plain": [
       "Claiming                       1756\n",
       "Maiden Claiming                 797\n",
       "Allowance                       600\n",
       "Maiden Special Weight           424\n",
       "Stakes                          365\n",
       "Allowance Optional Claiming     188\n",
       "Maiden Optional Claiming        140\n",
       "Starters Allowance               85\n",
       "Optional Claiming                15\n",
       "Name: race_type, dtype: int64"
      ]
     },
     "execution_count": 323,
     "metadata": {},
     "output_type": "execute_result"
    }
   ],
   "source": [
    "df['race_type'].value_counts()"
   ]
  },
  {
   "cell_type": "code",
   "execution_count": 324,
   "id": "b5259b66-2b65-48ee-8e2a-ebb38de7eeb3",
   "metadata": {},
   "outputs": [
    {
     "data": {
      "text/plain": [
       "FT    3771\n",
       "GD     340\n",
       "FM     252\n",
       "YL       7\n",
       "Name: track_conditions, dtype: int64"
      ]
     },
     "execution_count": 324,
     "metadata": {},
     "output_type": "execute_result"
    }
   ],
   "source": [
    "df['track_conditions'].value_counts()"
   ]
  },
  {
   "cell_type": "code",
   "execution_count": 325,
   "metadata": {},
   "outputs": [
    {
     "data": {
      "image/png": "[encoded data removed]",
      "text/plain": [
       "<Figure size 1080x504 with 2 Axes>"
      ]
     },
     "metadata": {
      "needs_background": "light"
     },
     "output_type": "display_data"
    }
   ],
   "source": [
    "heatmap_columns = df.drop(['race_date','track', 'card_id', 'breed', 'finish_time'], axis=1)\n",
    "matrix = heatmap_columns.corr().round(2)\n",
    "f, ax = plt.subplots(figsize =(15, 7))\n",
    "sns.heatmap(matrix, annot=True,linewidths = 0.1,cmap =\"YlGnBu\")\n",
    "plt.show()\n",
    "\n",
    "#Lets see the correlation between features in our dataset"
   ]
  },
  {
   "cell_type": "code",
   "execution_count": 331,
   "id": "daa69fe7",
   "metadata": {},
   "outputs": [
    {
     "data": {
      "image/png": "[encoded data removed]",
      "text/plain": [
       "<Figure size 1080x504 with 2 Axes>"
      ]
     },
     "metadata": {
      "needs_background": "light"
     },
     "output_type": "display_data"
    }
   ],
   "source": [
    "heatmap_columns2 = df.drop(['race_date','track', 'card_id', 'breed', 'finish_time'], axis=1)\n",
    "heatmap_columns2 = heatmap_columns[heatmap_columns.apply(lambda x: x[\"finish_position\"] == 1, axis=1)]\n",
    "matrix = heatmap_columns2.corr().round(2)\n",
    "f, ax = plt.subplots(figsize =(15, 7))\n",
    "sns.heatmap(matrix, annot=True,linewidths = 0.1,cmap =\"YlGnBu\")\n",
    "plt.show()\n",
    "\n",
    "#Lets see the correlation between features in our dataset, only for the winners, or finish position 1"
   ]
  },
  {
   "cell_type": "code",
   "execution_count": 252,
   "id": "f9d71f97",
   "metadata": {},
   "outputs": [
    {
     "data": {
      "text/plain": [
       "3234.5166666666664"
      ]
     },
     "execution_count": 252,
     "metadata": {},
     "output_type": "execute_result"
    },
    {
     "data": {
      "image/png": "[encoded data removed]",
      "text/plain": [
       "<Figure size 432x288 with 1 Axes>"
      ]
     },
     "metadata": {
      "needs_background": "light"
     },
     "output_type": "display_data"
    }
   ],
   "source": [
    "fig, ax = plt.subplots()\n",
    "df.sort_values('speed_rating')\n",
    "df.groupby('trainer').mean()['speed_rating'].sort_values(ascending=False).head(15).plot(kind = 'bar', ax = ax, color = 'blue')\n",
    "plt.title('The fastest horses by Trainer')\n",
    "plt.xlabel('Trainer') \n",
    "plt.ylabel('Speed Rating')\n",
    "\n",
    "df.groupby('trainer').mean()['speed_rating'].sort_values(ascending=False).head(30).sum()"
   ]
  },
  {
   "cell_type": "code",
   "execution_count": 253,
   "id": "ce82681c",
   "metadata": {},
   "outputs": [
    {
     "data": {
      "text/plain": [
       "749.9143600431051"
      ]
     },
     "execution_count": 253,
     "metadata": {},
     "output_type": "execute_result"
    },
    {
     "data": {
      "image/png": "[encoded data removed]",
      "text/plain": [
       "<Figure size 432x288 with 1 Axes>"
      ]
     },
     "metadata": {
      "needs_background": "light"
     },
     "output_type": "display_data"
    }
   ],
   "source": [
    "fig, ax = plt.subplots()\n",
    "df.sort_values('speed_rating')\n",
    "df.groupby('age').mean()['speed_rating'].sort_values(ascending=False).head(15).plot(kind = 'bar', ax = ax, color = 'blue')\n",
    "plt.title('The fastest horses by Age')\n",
    "plt.xlabel('age') \n",
    "plt.ylabel('Speed Rating')\n",
    "\n",
    "df.groupby('age').mean()['speed_rating'].sort_values(ascending=False).head(15).sum()\n",
    "\n",
    "#It looks like horses more experience are faster, and the preferable range of ages are from 7 to 10 year, when horses start to decrease performance"
   ]
  },
  {
   "cell_type": "code",
   "execution_count": 254,
   "id": "5dbe75c6",
   "metadata": {},
   "outputs": [
    {
     "data": {
      "text/plain": [
       "909.0339789969942"
      ]
     },
     "execution_count": 254,
     "metadata": {},
     "output_type": "execute_result"
    },
    {
     "data": {
      "image/png": "[encoded data removed]",
      "text/plain": [
       "<Figure size 432x288 with 1 Axes>"
      ]
     },
     "metadata": {
      "needs_background": "light"
     },
     "output_type": "display_data"
    }
   ],
   "source": [
    "fig, ax = plt.subplots()\n",
    "df.sort_values('speed_rating')\n",
    "df.groupby('finish_position').mean()['speed_rating'].sort_values(ascending=False).head(15).plot(kind = 'bar', ax = ax, color = 'blue')\n",
    "plt.title('Correlation between the winner and velocity')\n",
    "plt.xlabel('finish_position') \n",
    "plt.ylabel('Speed Rating')\n",
    "\n",
    "df.groupby('finish_position').mean()['speed_rating'].sort_values(ascending=False).head(15).sum()\n",
    "\n",
    "# As we can see, the fastest horse is always the winner."
   ]
  },
  {
   "cell_type": "code",
   "execution_count": 255,
   "id": "6046e218",
   "metadata": {},
   "outputs": [
    {
     "data": {
      "text/plain": [
       "1120.7705220738842"
      ]
     },
     "execution_count": 255,
     "metadata": {},
     "output_type": "execute_result"
    },
    {
     "data": {
      "image/png": "[encoded data removed]",
      "text/plain": [
       "<Figure size 432x288 with 1 Axes>"
      ]
     },
     "metadata": {
      "needs_background": "light"
     },
     "output_type": "display_data"
    }
   ],
   "source": [
    "fig, ax = plt.subplots()\n",
    "df.sort_values('speed_rating')\n",
    "df.groupby('weight').mean()['speed_rating'].sort_values(ascending=False).head(15).plot(kind = 'bar', ax = ax, color = 'blue')\n",
    "plt.title('Correlation between weights and speed')\n",
    "plt.xlabel('weight') \n",
    "plt.ylabel('Speed Rating')\n",
    "\n",
    "df.groupby('weight').mean()['speed_rating'].sort_values(ascending=False).head(15).sum()\n",
    "\n",
    "#It looks like the weight is really important for the wiinner, as the weightest horses are also the fastest ones, whith some small exceptions."
   ]
  },
  {
   "cell_type": "code",
   "execution_count": 256,
   "id": "06d655f8-6646-4666-a4a7-9c189ac5a012",
   "metadata": {},
   "outputs": [
    {
     "name": "stdout",
     "output_type": "stream",
     "text": [
      "<class 'pandas.core.frame.DataFrame'>\n",
      "RangeIndex: 4370 entries, 0 to 4369\n",
      "Data columns (total 23 columns):\n",
      " #   Column            Non-Null Count  Dtype  \n",
      "---  ------            --------------  -----  \n",
      " 0   race_date         4370 non-null   object \n",
      " 1   name              4370 non-null   object \n",
      " 2   weight            4370 non-null   int64  \n",
      " 3   age               4370 non-null   int64  \n",
      " 4   sex               4053 non-null   object \n",
      " 5   meds_and_equip    3907 non-null   object \n",
      " 6   jockey            4053 non-null   object \n",
      " 7   dollar_odds       4370 non-null   float64\n",
      " 8   program_number    4053 non-null   float64\n",
      " 9   post_position     4370 non-null   int64  \n",
      " 10  claim_price       4370 non-null   int64  \n",
      " 11  start_position    4370 non-null   float64\n",
      " 12  finish_position   4370 non-null   float64\n",
      " 13  speed_rating      4053 non-null   float64\n",
      " 14  trainer           4053 non-null   object \n",
      " 15  owner             4053 non-null   object \n",
      " 16  win_payoff        4370 non-null   float64\n",
      " 17  place_payoff      4370 non-null   float64\n",
      " 18  show_payoff       4370 non-null   float64\n",
      " 19  weather           4370 non-null   object \n",
      " 20  distance          4370 non-null   float64\n",
      " 21  race_type         4370 non-null   object \n",
      " 22  track_conditions  4370 non-null   object \n",
      "dtypes: float64(9), int64(4), object(10)\n",
      "memory usage: 785.4+ KB\n"
     ]
    }
   ],
   "source": [
    "df = df.drop(['track', 'card_id', 'breed', 'finish_time'], axis=1)\n",
    "df.info()"
   ]
  },
  {
   "cell_type": "code",
   "execution_count": 257,
   "id": "aeb31f65-6669-4b89-a14d-355b34707916",
   "metadata": {},
   "outputs": [
    {
     "name": "stdout",
     "output_type": "stream",
     "text": [
      "<class 'pandas.core.frame.DataFrame'>\n",
      "Int64Index: 4053 entries, 0 to 4369\n",
      "Data columns (total 23 columns):\n",
      " #   Column            Non-Null Count  Dtype  \n",
      "---  ------            --------------  -----  \n",
      " 0   race_date         4053 non-null   object \n",
      " 1   name              4053 non-null   object \n",
      " 2   weight            4053 non-null   int64  \n",
      " 3   age               4053 non-null   int64  \n",
      " 4   sex               4053 non-null   object \n",
      " 5   meds_and_equip    3907 non-null   object \n",
      " 6   jockey            4053 non-null   object \n",
      " 7   dollar_odds       4053 non-null   float64\n",
      " 8   program_number    4053 non-null   float64\n",
      " 9   post_position     4053 non-null   int64  \n",
      " 10  claim_price       4053 non-null   int64  \n",
      " 11  start_position    4053 non-null   float64\n",
      " 12  finish_position   4053 non-null   float64\n",
      " 13  speed_rating      4053 non-null   float64\n",
      " 14  trainer           4053 non-null   object \n",
      " 15  owner             4053 non-null   object \n",
      " 16  win_payoff        4053 non-null   float64\n",
      " 17  place_payoff      4053 non-null   float64\n",
      " 18  show_payoff       4053 non-null   float64\n",
      " 19  weather           4053 non-null   object \n",
      " 20  distance          4053 non-null   float64\n",
      " 21  race_type         4053 non-null   object \n",
      " 22  track_conditions  4053 non-null   object \n",
      "dtypes: float64(9), int64(4), object(10)\n",
      "memory usage: 759.9+ KB\n"
     ]
    }
   ],
   "source": [
    "#Upon review there are numerous records with missing values, only including basic information making them unsuitable for our model\n",
    "df.dropna(subset = [\"trainer\"], inplace=True)\n",
    "df.info()"
   ]
  },
  {
   "cell_type": "code",
   "execution_count": 258,
   "id": "3827c2cc-99cf-4212-97af-3850b30b7937",
   "metadata": {},
   "outputs": [
    {
     "name": "stdout",
     "output_type": "stream",
     "text": [
      "<class 'pandas.core.frame.DataFrame'>\n",
      "Int64Index: 4053 entries, 0 to 4369\n",
      "Data columns (total 23 columns):\n",
      " #   Column            Non-Null Count  Dtype  \n",
      "---  ------            --------------  -----  \n",
      " 0   race_date         4053 non-null   object \n",
      " 1   name              4053 non-null   object \n",
      " 2   weight            4053 non-null   int64  \n",
      " 3   age               4053 non-null   int64  \n",
      " 4   sex               4053 non-null   object \n",
      " 5   meds_and_equip    3907 non-null   object \n",
      " 6   jockey            4053 non-null   object \n",
      " 7   dollar_odds       4053 non-null   float64\n",
      " 8   program_number    4053 non-null   float64\n",
      " 9   post_position     4053 non-null   int64  \n",
      " 10  claim_price       4053 non-null   int64  \n",
      " 11  start_position    4053 non-null   float64\n",
      " 12  finish_position   4053 non-null   float64\n",
      " 13  speed_rating      4053 non-null   float64\n",
      " 14  trainer           4053 non-null   object \n",
      " 15  owner             4053 non-null   object \n",
      " 16  win_payoff        4053 non-null   float64\n",
      " 17  place_payoff      4053 non-null   float64\n",
      " 18  show_payoff       4053 non-null   float64\n",
      " 19  weather           4053 non-null   object \n",
      " 20  distance          4053 non-null   float64\n",
      " 21  race_type         4053 non-null   object \n",
      " 22  track_conditions  4053 non-null   object \n",
      "dtypes: float64(9), int64(4), object(10)\n",
      "memory usage: 759.9+ KB\n"
     ]
    }
   ],
   "source": [
    "'''Upon review of the 'meds and equipment' feature, there are some missing values.  Looked up the codes from woodbine's horse program\n",
    "and 'L' represents no equipment.  Changed all Nulls to L'''\n",
    "df['meds_and_equip'].fillna(value='L')\n",
    "df.info()"
   ]
  },
  {
   "cell_type": "code",
   "execution_count": 259,
   "id": "1400659c-5ab2-4f40-8902-4c5ef2b0f738",
   "metadata": {},
   "outputs": [
    {
     "data": {
      "text/html": [
       "<div>\n",
       "<style scoped>\n",
       "    .dataframe tbody tr th:only-of-type {\n",
       "        vertical-align: middle;\n",
       "    }\n",
       "\n",
       "    .dataframe tbody tr th {\n",
       "        vertical-align: top;\n",
       "    }\n",
       "\n",
       "    .dataframe thead th {\n",
       "        text-align: right;\n",
       "    }\n",
       "</style>\n",
       "<table border=\"1\" class=\"dataframe\">\n",
       "  <thead>\n",
       "    <tr style=\"text-align: right;\">\n",
       "      <th></th>\n",
       "      <th>race_date</th>\n",
       "      <th>name</th>\n",
       "      <th>weight</th>\n",
       "      <th>age</th>\n",
       "      <th>sex</th>\n",
       "      <th>meds_and_equip</th>\n",
       "      <th>jockey</th>\n",
       "      <th>dollar_odds</th>\n",
       "      <th>program_number</th>\n",
       "      <th>post_position</th>\n",
       "      <th>...</th>\n",
       "      <th>speed_rating</th>\n",
       "      <th>trainer</th>\n",
       "      <th>owner</th>\n",
       "      <th>win_payoff</th>\n",
       "      <th>place_payoff</th>\n",
       "      <th>show_payoff</th>\n",
       "      <th>weather</th>\n",
       "      <th>distance</th>\n",
       "      <th>race_type</th>\n",
       "      <th>track_conditions</th>\n",
       "    </tr>\n",
       "  </thead>\n",
       "  <tbody>\n",
       "    <tr>\n",
       "      <th>0</th>\n",
       "      <td>2015-06-20 00:00:00</td>\n",
       "      <td>Madam Premier</td>\n",
       "      <td>119</td>\n",
       "      <td>4</td>\n",
       "      <td>M</td>\n",
       "      <td>Lb</td>\n",
       "      <td>S   Ryan</td>\n",
       "      <td>7.20</td>\n",
       "      <td>1.0</td>\n",
       "      <td>1</td>\n",
       "      <td>...</td>\n",
       "      <td>44.0</td>\n",
       "      <td>O'Keefe Thomas</td>\n",
       "      <td>Emily Anne Walker</td>\n",
       "      <td>0.0</td>\n",
       "      <td>0.0</td>\n",
       "      <td>0.0</td>\n",
       "      <td>Cloudy</td>\n",
       "      <td>900.0</td>\n",
       "      <td>Claiming</td>\n",
       "      <td>FT</td>\n",
       "    </tr>\n",
       "    <tr>\n",
       "      <th>1</th>\n",
       "      <td>2015-07-19 00:00:00</td>\n",
       "      <td>Notion Sonet</td>\n",
       "      <td>118</td>\n",
       "      <td>3</td>\n",
       "      <td>C</td>\n",
       "      <td>L</td>\n",
       "      <td>L   Contreras</td>\n",
       "      <td>12.10</td>\n",
       "      <td>4.0</td>\n",
       "      <td>4</td>\n",
       "      <td>...</td>\n",
       "      <td>96.0</td>\n",
       "      <td>Carroll Josie</td>\n",
       "      <td>Ivan Dalos</td>\n",
       "      <td>0.0</td>\n",
       "      <td>0.0</td>\n",
       "      <td>0.0</td>\n",
       "      <td>Cloudy</td>\n",
       "      <td>650.0</td>\n",
       "      <td>Allowance</td>\n",
       "      <td>FT</td>\n",
       "    </tr>\n",
       "    <tr>\n",
       "      <th>2</th>\n",
       "      <td>2015-07-25 00:00:00</td>\n",
       "      <td>Big Red Bugsy</td>\n",
       "      <td>121</td>\n",
       "      <td>5</td>\n",
       "      <td>G</td>\n",
       "      <td>L</td>\n",
       "      <td>S R Bahen</td>\n",
       "      <td>24.75</td>\n",
       "      <td>6.0</td>\n",
       "      <td>6</td>\n",
       "      <td>...</td>\n",
       "      <td>83.0</td>\n",
       "      <td>Fournier Mark</td>\n",
       "      <td>Carruthers, Carruthers, Carruthers, Carruthers...</td>\n",
       "      <td>0.0</td>\n",
       "      <td>0.0</td>\n",
       "      <td>0.0</td>\n",
       "      <td>Cloudy</td>\n",
       "      <td>700.0</td>\n",
       "      <td>Claiming</td>\n",
       "      <td>FT</td>\n",
       "    </tr>\n",
       "    <tr>\n",
       "      <th>3</th>\n",
       "      <td>2015-08-14 00:00:00</td>\n",
       "      <td>Lillz Pearl</td>\n",
       "      <td>121</td>\n",
       "      <td>5</td>\n",
       "      <td>G</td>\n",
       "      <td>Lb</td>\n",
       "      <td>J   McAleney</td>\n",
       "      <td>3.80</td>\n",
       "      <td>3.0</td>\n",
       "      <td>3</td>\n",
       "      <td>...</td>\n",
       "      <td>88.0</td>\n",
       "      <td>Singh Ricky</td>\n",
       "      <td>Ricky Singh</td>\n",
       "      <td>0.0</td>\n",
       "      <td>5.7</td>\n",
       "      <td>3.3</td>\n",
       "      <td>Clear</td>\n",
       "      <td>500.0</td>\n",
       "      <td>Allowance</td>\n",
       "      <td>FT</td>\n",
       "    </tr>\n",
       "    <tr>\n",
       "      <th>4</th>\n",
       "      <td>2015-08-29 00:00:00</td>\n",
       "      <td>Sweet Rose</td>\n",
       "      <td>121</td>\n",
       "      <td>4</td>\n",
       "      <td>F</td>\n",
       "      <td>NaN</td>\n",
       "      <td>L   Contreras</td>\n",
       "      <td>2.95</td>\n",
       "      <td>3.0</td>\n",
       "      <td>3</td>\n",
       "      <td>...</td>\n",
       "      <td>86.0</td>\n",
       "      <td>Attard Sid C</td>\n",
       "      <td>Stronach Stables</td>\n",
       "      <td>0.0</td>\n",
       "      <td>0.0</td>\n",
       "      <td>3.1</td>\n",
       "      <td>Cloudy</td>\n",
       "      <td>500.0</td>\n",
       "      <td>Allowance</td>\n",
       "      <td>FT</td>\n",
       "    </tr>\n",
       "  </tbody>\n",
       "</table>\n",
       "<p>5 rows × 23 columns</p>\n",
       "</div>"
      ],
      "text/plain": [
       "             race_date           name  weight  age sex meds_and_equip  \\\n",
       "0  2015-06-20 00:00:00  Madam Premier     119    4   M             Lb   \n",
       "1  2015-07-19 00:00:00   Notion Sonet     118    3   C              L   \n",
       "2  2015-07-25 00:00:00  Big Red Bugsy     121    5   G              L   \n",
       "3  2015-08-14 00:00:00    Lillz Pearl     121    5   G             Lb   \n",
       "4  2015-08-29 00:00:00     Sweet Rose     121    4   F            NaN   \n",
       "\n",
       "          jockey  dollar_odds  program_number  post_position  ...  \\\n",
       "0       S   Ryan         7.20             1.0              1  ...   \n",
       "1  L   Contreras        12.10             4.0              4  ...   \n",
       "2      S R Bahen        24.75             6.0              6  ...   \n",
       "3   J   McAleney         3.80             3.0              3  ...   \n",
       "4  L   Contreras         2.95             3.0              3  ...   \n",
       "\n",
       "   speed_rating         trainer  \\\n",
       "0          44.0  O'Keefe Thomas   \n",
       "1          96.0   Carroll Josie   \n",
       "2          83.0   Fournier Mark   \n",
       "3          88.0     Singh Ricky   \n",
       "4          86.0    Attard Sid C   \n",
       "\n",
       "                                               owner  win_payoff place_payoff  \\\n",
       "0                                  Emily Anne Walker         0.0          0.0   \n",
       "1                                         Ivan Dalos         0.0          0.0   \n",
       "2  Carruthers, Carruthers, Carruthers, Carruthers...         0.0          0.0   \n",
       "3                                        Ricky Singh         0.0          5.7   \n",
       "4                                   Stronach Stables         0.0          0.0   \n",
       "\n",
       "  show_payoff  weather  distance  race_type track_conditions  \n",
       "0         0.0   Cloudy     900.0   Claiming               FT  \n",
       "1         0.0   Cloudy     650.0  Allowance               FT  \n",
       "2         0.0   Cloudy     700.0   Claiming               FT  \n",
       "3         3.3    Clear     500.0  Allowance               FT  \n",
       "4         3.1   Cloudy     500.0  Allowance               FT  \n",
       "\n",
       "[5 rows x 23 columns]"
      ]
     },
     "execution_count": 259,
     "metadata": {},
     "output_type": "execute_result"
    }
   ],
   "source": [
    "df.head()"
   ]
  },
  {
   "cell_type": "code",
   "execution_count": 260,
   "id": "3d52b38e-5128-467c-a100-b8964d73cfaf",
   "metadata": {},
   "outputs": [],
   "source": [
    "#Created my features and label\n",
    "Y = df[['finish_position']]\n",
    "X = df.drop(['finish_position'], axis=1)"
   ]
  },
  {
   "cell_type": "code",
   "execution_count": 261,
   "id": "9b07593f-e8cd-4a1b-99bc-1294a857c945",
   "metadata": {},
   "outputs": [
    {
     "name": "stdout",
     "output_type": "stream",
     "text": [
      "<class 'pandas.core.frame.DataFrame'>\n",
      "Int64Index: 4053 entries, 0 to 4369\n",
      "Data columns (total 22 columns):\n",
      " #   Column            Non-Null Count  Dtype  \n",
      "---  ------            --------------  -----  \n",
      " 0   race_date         4053 non-null   object \n",
      " 1   name              4053 non-null   object \n",
      " 2   weight            4053 non-null   int64  \n",
      " 3   age               4053 non-null   int64  \n",
      " 4   sex               4053 non-null   object \n",
      " 5   meds_and_equip    3907 non-null   object \n",
      " 6   jockey            4053 non-null   object \n",
      " 7   dollar_odds       4053 non-null   float64\n",
      " 8   program_number    4053 non-null   float64\n",
      " 9   post_position     4053 non-null   int64  \n",
      " 10  claim_price       4053 non-null   int64  \n",
      " 11  start_position    4053 non-null   float64\n",
      " 12  speed_rating      4053 non-null   float64\n",
      " 13  trainer           4053 non-null   object \n",
      " 14  owner             4053 non-null   object \n",
      " 15  win_payoff        4053 non-null   float64\n",
      " 16  place_payoff      4053 non-null   float64\n",
      " 17  show_payoff       4053 non-null   float64\n",
      " 18  weather           4053 non-null   object \n",
      " 19  distance          4053 non-null   float64\n",
      " 20  race_type         4053 non-null   object \n",
      " 21  track_conditions  4053 non-null   object \n",
      "dtypes: float64(8), int64(4), object(10)\n",
      "memory usage: 728.3+ KB\n"
     ]
    }
   ],
   "source": [
    "X.info()"
   ]
  },
  {
   "cell_type": "code",
   "execution_count": 262,
   "id": "da47f05f-c479-4e99-95a2-36734f5f9c2d",
   "metadata": {},
   "outputs": [],
   "source": [
    "encoder = LabelEncoder()\n",
    "encoder.fit(X['race_date'])\n",
    "X['race_date'] = encoder.transform(X['race_date'])"
   ]
  },
  {
   "cell_type": "code",
   "execution_count": 263,
   "id": "edd1f407-9796-463e-86c0-c73cd8340ba5",
   "metadata": {},
   "outputs": [],
   "source": [
    "#Creating dummies for categorical names\n",
    "X_dummies = pd.get_dummies(X[['name']])\n",
    "X = pd.concat([X,X_dummies], axis=1)\n",
    "X.drop('name', axis=1, inplace=True)"
   ]
  },
  {
   "cell_type": "code",
   "execution_count": 264,
   "id": "96446ba3-2d4a-47b7-93fc-e7ac1421e63b",
   "metadata": {},
   "outputs": [],
   "source": [
    "#Creating dummies for categorical sex\n",
    "X_dummies = pd.get_dummies(X[['sex']])\n",
    "X = pd.concat([X,X_dummies], axis=1)\n",
    "X.drop('sex', axis=1, inplace=True)"
   ]
  },
  {
   "cell_type": "code",
   "execution_count": 265,
   "id": "b9a00c5c-383a-4a7b-a2c6-bd0427019b56",
   "metadata": {},
   "outputs": [],
   "source": [
    "#Creating dummies for meds and equipment\n",
    "X_dummies = pd.get_dummies(X[['meds_and_equip']])\n",
    "X = pd.concat([X,X_dummies], axis=1)\n",
    "X.drop('meds_and_equip', axis=1, inplace=True)"
   ]
  },
  {
   "cell_type": "code",
   "execution_count": 266,
   "id": "2d4b0769-4e06-46a1-bb21-d3bd28e5a771",
   "metadata": {},
   "outputs": [],
   "source": [
    "#Creating dummies for jockey\n",
    "X_dummies = pd.get_dummies(X[['jockey']])\n",
    "X = pd.concat([X,X_dummies], axis=1)\n",
    "X.drop('jockey', axis=1, inplace=True)"
   ]
  },
  {
   "cell_type": "code",
   "execution_count": 267,
   "id": "a79a00c4-e6a5-403d-ab34-29c164f02649",
   "metadata": {},
   "outputs": [],
   "source": [
    "#Creating dummies for trainer\n",
    "X_dummies = pd.get_dummies(X[['trainer']])\n",
    "X = pd.concat([X,X_dummies], axis=1)\n",
    "X.drop('trainer', axis=1, inplace=True)"
   ]
  },
  {
   "cell_type": "code",
   "execution_count": 268,
   "id": "c87bb6c7-9c05-4829-b290-2e52ed90069b",
   "metadata": {},
   "outputs": [],
   "source": [
    "#Creating dummies for owner\n",
    "X_dummies = pd.get_dummies(X[['owner']])\n",
    "X = pd.concat([X,X_dummies], axis=1)\n",
    "X.drop('owner', axis=1, inplace=True)"
   ]
  },
  {
   "cell_type": "code",
   "execution_count": 269,
   "id": "1edd131d-9613-4022-9e27-172952e123a0",
   "metadata": {},
   "outputs": [],
   "source": [
    "#Creating dummies for weather\n",
    "X_dummies = pd.get_dummies(X[['weather']])\n",
    "X = pd.concat([X,X_dummies], axis=1)\n",
    "X.drop('weather', axis=1, inplace=True)"
   ]
  },
  {
   "cell_type": "code",
   "execution_count": 270,
   "id": "28cddca0-3574-418b-86fb-4b076918920a",
   "metadata": {},
   "outputs": [],
   "source": [
    "#Creating dummies for race type\n",
    "X_dummies = pd.get_dummies(X[['race_type']])\n",
    "X = pd.concat([X,X_dummies], axis=1)\n",
    "X.drop('race_type', axis=1, inplace=True)"
   ]
  },
  {
   "cell_type": "code",
   "execution_count": 271,
   "id": "2ca42ea5-9591-4cc1-9a5d-f1203c8a2f5a",
   "metadata": {},
   "outputs": [],
   "source": [
    "#Creating dummies for track conditions\n",
    "X_dummies = pd.get_dummies(X[['track_conditions']])\n",
    "X = pd.concat([X,X_dummies], axis=1)\n",
    "X.drop('track_conditions', axis=1, inplace=True)"
   ]
  },
  {
   "cell_type": "code",
   "execution_count": 272,
   "id": "5043cf61-a879-485c-b432-6beece1253ed",
   "metadata": {},
   "outputs": [
    {
     "data": {
      "text/html": [
       "<div>\n",
       "<style scoped>\n",
       "    .dataframe tbody tr th:only-of-type {\n",
       "        vertical-align: middle;\n",
       "    }\n",
       "\n",
       "    .dataframe tbody tr th {\n",
       "        vertical-align: top;\n",
       "    }\n",
       "\n",
       "    .dataframe thead th {\n",
       "        text-align: right;\n",
       "    }\n",
       "</style>\n",
       "<table border=\"1\" class=\"dataframe\">\n",
       "  <thead>\n",
       "    <tr style=\"text-align: right;\">\n",
       "      <th></th>\n",
       "      <th>race_date</th>\n",
       "      <th>weight</th>\n",
       "      <th>age</th>\n",
       "      <th>dollar_odds</th>\n",
       "      <th>program_number</th>\n",
       "      <th>post_position</th>\n",
       "      <th>claim_price</th>\n",
       "      <th>start_position</th>\n",
       "      <th>speed_rating</th>\n",
       "      <th>win_payoff</th>\n",
       "      <th>...</th>\n",
       "      <th>race_type_Maiden Claiming</th>\n",
       "      <th>race_type_Maiden Optional Claiming</th>\n",
       "      <th>race_type_Maiden Special Weight</th>\n",
       "      <th>race_type_Optional Claiming</th>\n",
       "      <th>race_type_Stakes</th>\n",
       "      <th>race_type_Starters Allowance</th>\n",
       "      <th>track_conditions_FM</th>\n",
       "      <th>track_conditions_FT</th>\n",
       "      <th>track_conditions_GD</th>\n",
       "      <th>track_conditions_YL</th>\n",
       "    </tr>\n",
       "  </thead>\n",
       "  <tbody>\n",
       "    <tr>\n",
       "      <th>0</th>\n",
       "      <td>0</td>\n",
       "      <td>119</td>\n",
       "      <td>4</td>\n",
       "      <td>7.20</td>\n",
       "      <td>1.0</td>\n",
       "      <td>1</td>\n",
       "      <td>9500</td>\n",
       "      <td>5.0</td>\n",
       "      <td>44.0</td>\n",
       "      <td>0.0</td>\n",
       "      <td>...</td>\n",
       "      <td>0</td>\n",
       "      <td>0</td>\n",
       "      <td>0</td>\n",
       "      <td>0</td>\n",
       "      <td>0</td>\n",
       "      <td>0</td>\n",
       "      <td>0</td>\n",
       "      <td>1</td>\n",
       "      <td>0</td>\n",
       "      <td>0</td>\n",
       "    </tr>\n",
       "    <tr>\n",
       "      <th>1</th>\n",
       "      <td>1</td>\n",
       "      <td>118</td>\n",
       "      <td>3</td>\n",
       "      <td>12.10</td>\n",
       "      <td>4.0</td>\n",
       "      <td>4</td>\n",
       "      <td>0</td>\n",
       "      <td>10.0</td>\n",
       "      <td>96.0</td>\n",
       "      <td>0.0</td>\n",
       "      <td>...</td>\n",
       "      <td>0</td>\n",
       "      <td>0</td>\n",
       "      <td>0</td>\n",
       "      <td>0</td>\n",
       "      <td>0</td>\n",
       "      <td>0</td>\n",
       "      <td>0</td>\n",
       "      <td>1</td>\n",
       "      <td>0</td>\n",
       "      <td>0</td>\n",
       "    </tr>\n",
       "    <tr>\n",
       "      <th>2</th>\n",
       "      <td>2</td>\n",
       "      <td>121</td>\n",
       "      <td>5</td>\n",
       "      <td>24.75</td>\n",
       "      <td>6.0</td>\n",
       "      <td>6</td>\n",
       "      <td>20000</td>\n",
       "      <td>10.0</td>\n",
       "      <td>83.0</td>\n",
       "      <td>0.0</td>\n",
       "      <td>...</td>\n",
       "      <td>0</td>\n",
       "      <td>0</td>\n",
       "      <td>0</td>\n",
       "      <td>0</td>\n",
       "      <td>0</td>\n",
       "      <td>0</td>\n",
       "      <td>0</td>\n",
       "      <td>1</td>\n",
       "      <td>0</td>\n",
       "      <td>0</td>\n",
       "    </tr>\n",
       "    <tr>\n",
       "      <th>3</th>\n",
       "      <td>3</td>\n",
       "      <td>121</td>\n",
       "      <td>5</td>\n",
       "      <td>3.80</td>\n",
       "      <td>3.0</td>\n",
       "      <td>3</td>\n",
       "      <td>0</td>\n",
       "      <td>7.0</td>\n",
       "      <td>88.0</td>\n",
       "      <td>0.0</td>\n",
       "      <td>...</td>\n",
       "      <td>0</td>\n",
       "      <td>0</td>\n",
       "      <td>0</td>\n",
       "      <td>0</td>\n",
       "      <td>0</td>\n",
       "      <td>0</td>\n",
       "      <td>0</td>\n",
       "      <td>1</td>\n",
       "      <td>0</td>\n",
       "      <td>0</td>\n",
       "    </tr>\n",
       "    <tr>\n",
       "      <th>4</th>\n",
       "      <td>4</td>\n",
       "      <td>121</td>\n",
       "      <td>4</td>\n",
       "      <td>2.95</td>\n",
       "      <td>3.0</td>\n",
       "      <td>3</td>\n",
       "      <td>0</td>\n",
       "      <td>4.0</td>\n",
       "      <td>86.0</td>\n",
       "      <td>0.0</td>\n",
       "      <td>...</td>\n",
       "      <td>0</td>\n",
       "      <td>0</td>\n",
       "      <td>0</td>\n",
       "      <td>0</td>\n",
       "      <td>0</td>\n",
       "      <td>0</td>\n",
       "      <td>0</td>\n",
       "      <td>1</td>\n",
       "      <td>0</td>\n",
       "      <td>0</td>\n",
       "    </tr>\n",
       "  </tbody>\n",
       "</table>\n",
       "<p>5 rows × 2855 columns</p>\n",
       "</div>"
      ],
      "text/plain": [
       "   race_date  weight  age  dollar_odds  program_number  post_position  \\\n",
       "0          0     119    4         7.20             1.0              1   \n",
       "1          1     118    3        12.10             4.0              4   \n",
       "2          2     121    5        24.75             6.0              6   \n",
       "3          3     121    5         3.80             3.0              3   \n",
       "4          4     121    4         2.95             3.0              3   \n",
       "\n",
       "   claim_price  start_position  speed_rating  win_payoff  ...  \\\n",
       "0         9500             5.0          44.0         0.0  ...   \n",
       "1            0            10.0          96.0         0.0  ...   \n",
       "2        20000            10.0          83.0         0.0  ...   \n",
       "3            0             7.0          88.0         0.0  ...   \n",
       "4            0             4.0          86.0         0.0  ...   \n",
       "\n",
       "   race_type_Maiden Claiming  race_type_Maiden Optional Claiming  \\\n",
       "0                          0                                   0   \n",
       "1                          0                                   0   \n",
       "2                          0                                   0   \n",
       "3                          0                                   0   \n",
       "4                          0                                   0   \n",
       "\n",
       "   race_type_Maiden Special Weight  race_type_Optional Claiming  \\\n",
       "0                                0                            0   \n",
       "1                                0                            0   \n",
       "2                                0                            0   \n",
       "3                                0                            0   \n",
       "4                                0                            0   \n",
       "\n",
       "   race_type_Stakes  race_type_Starters Allowance  track_conditions_FM  \\\n",
       "0                 0                             0                    0   \n",
       "1                 0                             0                    0   \n",
       "2                 0                             0                    0   \n",
       "3                 0                             0                    0   \n",
       "4                 0                             0                    0   \n",
       "\n",
       "   track_conditions_FT  track_conditions_GD  track_conditions_YL  \n",
       "0                    1                    0                    0  \n",
       "1                    1                    0                    0  \n",
       "2                    1                    0                    0  \n",
       "3                    1                    0                    0  \n",
       "4                    1                    0                    0  \n",
       "\n",
       "[5 rows x 2855 columns]"
      ]
     },
     "execution_count": 272,
     "metadata": {},
     "output_type": "execute_result"
    }
   ],
   "source": [
    "X.head()"
   ]
  },
  {
   "cell_type": "code",
   "execution_count": 273,
   "id": "23334a40-71bc-4312-93be-5ae26ba12867",
   "metadata": {},
   "outputs": [
    {
     "name": "stdout",
     "output_type": "stream",
     "text": [
      "<class 'pandas.core.frame.DataFrame'>\n",
      "Int64Index: 4053 entries, 0 to 4369\n",
      "Columns: 2855 entries, race_date to track_conditions_YL\n",
      "dtypes: float64(8), int32(1), int64(4), uint8(2842)\n",
      "memory usage: 11.4 MB\n"
     ]
    }
   ],
   "source": [
    "X.info()"
   ]
  },
  {
   "cell_type": "code",
   "execution_count": 274,
   "id": "f672ee42-ddae-4345-a0bc-f62b16f741b8",
   "metadata": {},
   "outputs": [
    {
     "name": "stderr",
     "output_type": "stream",
     "text": [
      "<ipython-input-274-0dca94a39ea6>:2: SettingWithCopyWarning: \n",
      "A value is trying to be set on a copy of a slice from a DataFrame.\n",
      "Try using .loc[row_indexer,col_indexer] = value instead\n",
      "\n",
      "See the caveats in the documentation: https://pandas.pydata.org/pandas-docs/stable/user_guide/indexing.html#returning-a-view-versus-a-copy\n",
      "  Y['finish_position'] = np.where(Y['finish_position'] > 1, 2, Y['finish_position'])\n"
     ]
    },
    {
     "data": {
      "text/html": [
       "<div>\n",
       "<style scoped>\n",
       "    .dataframe tbody tr th:only-of-type {\n",
       "        vertical-align: middle;\n",
       "    }\n",
       "\n",
       "    .dataframe tbody tr th {\n",
       "        vertical-align: top;\n",
       "    }\n",
       "\n",
       "    .dataframe thead th {\n",
       "        text-align: right;\n",
       "    }\n",
       "</style>\n",
       "<table border=\"1\" class=\"dataframe\">\n",
       "  <thead>\n",
       "    <tr style=\"text-align: right;\">\n",
       "      <th></th>\n",
       "      <th>finish_position</th>\n",
       "    </tr>\n",
       "  </thead>\n",
       "  <tbody>\n",
       "    <tr>\n",
       "      <th>0</th>\n",
       "      <td>2.0</td>\n",
       "    </tr>\n",
       "    <tr>\n",
       "      <th>1</th>\n",
       "      <td>2.0</td>\n",
       "    </tr>\n",
       "    <tr>\n",
       "      <th>2</th>\n",
       "      <td>2.0</td>\n",
       "    </tr>\n",
       "    <tr>\n",
       "      <th>3</th>\n",
       "      <td>2.0</td>\n",
       "    </tr>\n",
       "    <tr>\n",
       "      <th>4</th>\n",
       "      <td>2.0</td>\n",
       "    </tr>\n",
       "  </tbody>\n",
       "</table>\n",
       "</div>"
      ],
      "text/plain": [
       "   finish_position\n",
       "0              2.0\n",
       "1              2.0\n",
       "2              2.0\n",
       "3              2.0\n",
       "4              2.0"
      ]
     },
     "execution_count": 274,
     "metadata": {},
     "output_type": "execute_result"
    }
   ],
   "source": [
    "#Merged all the non-winning horses to a single category, we will be predicting either the winner of the race or not the winner\n",
    "Y['finish_position'] = np.where(Y['finish_position'] > 1, 2, Y['finish_position'])\n",
    "Y.head()"
   ]
  },
  {
   "cell_type": "code",
   "execution_count": 275,
   "id": "fa9a0c52-db89-4f69-bffc-408cf18ccbeb",
   "metadata": {},
   "outputs": [],
   "source": [
    "Y = Y.astype(str)\n",
    "Y_dummies = pd.get_dummies(Y[['finish_position']])\n",
    "Y = pd.concat([Y,Y_dummies], axis=1)\n",
    "Y.drop('finish_position', axis=1, inplace=True)"
   ]
  },
  {
   "cell_type": "code",
   "execution_count": 276,
   "id": "bbad24be-fb59-4f6a-af19-bf9bdccda6d1",
   "metadata": {},
   "outputs": [
    {
     "data": {
      "text/html": [
       "<div>\n",
       "<style scoped>\n",
       "    .dataframe tbody tr th:only-of-type {\n",
       "        vertical-align: middle;\n",
       "    }\n",
       "\n",
       "    .dataframe tbody tr th {\n",
       "        vertical-align: top;\n",
       "    }\n",
       "\n",
       "    .dataframe thead th {\n",
       "        text-align: right;\n",
       "    }\n",
       "</style>\n",
       "<table border=\"1\" class=\"dataframe\">\n",
       "  <thead>\n",
       "    <tr style=\"text-align: right;\">\n",
       "      <th></th>\n",
       "      <th>finish_position_1.0</th>\n",
       "      <th>finish_position_2.0</th>\n",
       "    </tr>\n",
       "  </thead>\n",
       "  <tbody>\n",
       "    <tr>\n",
       "      <th>0</th>\n",
       "      <td>0</td>\n",
       "      <td>1</td>\n",
       "    </tr>\n",
       "    <tr>\n",
       "      <th>1</th>\n",
       "      <td>0</td>\n",
       "      <td>1</td>\n",
       "    </tr>\n",
       "    <tr>\n",
       "      <th>2</th>\n",
       "      <td>0</td>\n",
       "      <td>1</td>\n",
       "    </tr>\n",
       "    <tr>\n",
       "      <th>3</th>\n",
       "      <td>0</td>\n",
       "      <td>1</td>\n",
       "    </tr>\n",
       "    <tr>\n",
       "      <th>4</th>\n",
       "      <td>0</td>\n",
       "      <td>1</td>\n",
       "    </tr>\n",
       "  </tbody>\n",
       "</table>\n",
       "</div>"
      ],
      "text/plain": [
       "   finish_position_1.0  finish_position_2.0\n",
       "0                    0                    1\n",
       "1                    0                    1\n",
       "2                    0                    1\n",
       "3                    0                    1\n",
       "4                    0                    1"
      ]
     },
     "execution_count": 276,
     "metadata": {},
     "output_type": "execute_result"
    }
   ],
   "source": [
    "Y.head()"
   ]
  },
  {
   "cell_type": "code",
   "execution_count": 277,
   "id": "617c0dbf-bfc3-4730-9425-8325bf9594bf",
   "metadata": {},
   "outputs": [],
   "source": [
    "#The next step is to standardize our data (changing the values to between 0 and 1, since our data is sparse)\n",
    "from sklearn.preprocessing import StandardScaler\n",
    "min_max_scaler = preprocessing.MinMaxScaler()\n",
    "X = min_max_scaler.fit_transform(X)"
   ]
  },
  {
   "cell_type": "code",
   "execution_count": 278,
   "id": "189561d7-92df-4f64-903b-6d0d80f8f9a0",
   "metadata": {},
   "outputs": [],
   "source": [
    "train_x, test_x, train_y, test_y = model_selection.train_test_split(X,Y,test_size = 0.2, random_state = 0)"
   ]
  },
  {
   "cell_type": "code",
   "execution_count": 279,
   "id": "aacffc84-d101-4479-9134-4b94b8a434d4",
   "metadata": {},
   "outputs": [],
   "source": [
    "model = keras.Sequential(\n",
    "    [\n",
    "        layers.Dense(1400, activation='sigmoid', name='layer1'),\n",
    "        layers.Dense(700, activation='relu', name='layer2'),\n",
    "        layers.Dense(200, activation='relu', name='layer3'),\n",
    "        layers.Dense(20, activation='relu', name='layer4'),\n",
    "        layers.Dense(2, activation='softmax', name='output1'),\n",
    "    ]\n",
    ")"
   ]
  },
  {
   "cell_type": "code",
   "execution_count": 280,
   "id": "20162c80-74ae-41d5-9842-2a0e6fbf9a45",
   "metadata": {},
   "outputs": [],
   "source": [
    "optimizer = tf.keras.optimizers.Adam(learning_rate=0.00001, beta_1=0.9, beta_2=0.999, epsilon=1e-07, amsgrad=True, name=\"Adam\")"
   ]
  },
  {
   "cell_type": "code",
   "execution_count": 281,
   "id": "ec43159a-2c6f-41d7-aa13-b28a4f1a8276",
   "metadata": {},
   "outputs": [],
   "source": [
    "model.compile(loss = 'categorical_crossentropy' , optimizer = optimizer , metrics = ['accuracy'] )"
   ]
  },
  {
   "cell_type": "code",
   "execution_count": 282,
   "id": "21ccc579-8ef5-469d-b881-e775b5f0a872",
   "metadata": {
    "scrolled": true,
    "tags": []
   },
   "outputs": [
    {
     "name": "stdout",
     "output_type": "stream",
     "text": [
      "Epoch 1/100\n",
      "100/102 [============================>.] - ETA: 0s - loss: 0.3567 - accuracy: 0.8869\n",
      "Epoch 00001: val_accuracy improved from -inf to 0.87916, saving model to weights.hdf5\n",
      "102/102 [==============================] - 3s 26ms/step - loss: 0.3561 - accuracy: 0.8871 - val_loss: 0.3691 - val_accuracy: 0.8792\n",
      "Epoch 2/100\n",
      "100/102 [============================>.] - ETA: 0s - loss: 0.3522 - accuracy: 0.8872\n",
      "Epoch 00002: val_accuracy did not improve from 0.87916\n",
      "102/102 [==============================] - 2s 24ms/step - loss: 0.3524 - accuracy: 0.8871 - val_loss: 0.3685 - val_accuracy: 0.8792\n",
      "Epoch 3/100\n",
      "100/102 [============================>.] - ETA: 0s - loss: 0.3530 - accuracy: 0.8866\n",
      "Epoch 00003: val_accuracy did not improve from 0.87916\n",
      "102/102 [==============================] - 2s 24ms/step - loss: 0.3520 - accuracy: 0.8871 - val_loss: 0.3672 - val_accuracy: 0.8792\n",
      "Epoch 4/100\n",
      "101/102 [============================>.] - ETA: 0s - loss: 0.3496 - accuracy: 0.8874\n",
      "Epoch 00004: val_accuracy did not improve from 0.87916\n",
      "102/102 [==============================] - 2s 24ms/step - loss: 0.3501 - accuracy: 0.8871 - val_loss: 0.3659 - val_accuracy: 0.8792\n",
      "Epoch 5/100\n",
      "102/102 [==============================] - ETA: 0s - loss: 0.3507 - accuracy: 0.8871\n",
      "Epoch 00005: val_accuracy did not improve from 0.87916\n",
      "102/102 [==============================] - 2s 23ms/step - loss: 0.3507 - accuracy: 0.8871 - val_loss: 0.3668 - val_accuracy: 0.8792\n",
      "Epoch 6/100\n",
      "101/102 [============================>.] - ETA: 0s - loss: 0.3473 - accuracy: 0.8877\n",
      "Epoch 00006: val_accuracy did not improve from 0.87916\n",
      "102/102 [==============================] - 2s 24ms/step - loss: 0.3487 - accuracy: 0.8871 - val_loss: 0.3692 - val_accuracy: 0.8792\n",
      "Epoch 7/100\n",
      "102/102 [==============================] - ETA: 0s - loss: 0.3498 - accuracy: 0.8871\n",
      "Epoch 00007: val_accuracy did not improve from 0.87916\n",
      "102/102 [==============================] - 3s 25ms/step - loss: 0.3498 - accuracy: 0.8871 - val_loss: 0.3640 - val_accuracy: 0.8792\n",
      "Epoch 8/100\n",
      "100/102 [============================>.] - ETA: 0s - loss: 0.3478 - accuracy: 0.8866\n",
      "Epoch 00008: val_accuracy did not improve from 0.87916\n",
      "102/102 [==============================] - 3s 25ms/step - loss: 0.3466 - accuracy: 0.8871 - val_loss: 0.3670 - val_accuracy: 0.8792\n",
      "Epoch 9/100\n",
      "101/102 [============================>.] - ETA: 0s - loss: 0.3447 - accuracy: 0.8871\n",
      "Epoch 00009: val_accuracy did not improve from 0.87916\n",
      "102/102 [==============================] - 3s 25ms/step - loss: 0.3446 - accuracy: 0.8871 - val_loss: 0.3653 - val_accuracy: 0.8792\n",
      "Epoch 10/100\n",
      "100/102 [============================>.] - ETA: 0s - loss: 0.3461 - accuracy: 0.8863\n",
      "Epoch 00010: val_accuracy did not improve from 0.87916\n",
      "102/102 [==============================] - 2s 24ms/step - loss: 0.3444 - accuracy: 0.8871 - val_loss: 0.3628 - val_accuracy: 0.8792\n",
      "Epoch 11/100\n",
      "101/102 [============================>.] - ETA: 0s - loss: 0.3446 - accuracy: 0.8871\n",
      "Epoch 00011: val_accuracy did not improve from 0.87916\n",
      "102/102 [==============================] - 3s 25ms/step - loss: 0.3445 - accuracy: 0.8871 - val_loss: 0.3633 - val_accuracy: 0.8792\n",
      "Epoch 12/100\n",
      "102/102 [==============================] - ETA: 0s - loss: 0.3410 - accuracy: 0.8871\n",
      "Epoch 00012: val_accuracy did not improve from 0.87916\n",
      "102/102 [==============================] - 2s 24ms/step - loss: 0.3410 - accuracy: 0.8871 - val_loss: 0.3613 - val_accuracy: 0.8792\n",
      "Epoch 13/100\n",
      "100/102 [============================>.] - ETA: 0s - loss: 0.3400 - accuracy: 0.8869\n",
      "Epoch 00013: val_accuracy did not improve from 0.87916\n",
      "102/102 [==============================] - 2s 24ms/step - loss: 0.3396 - accuracy: 0.8871 - val_loss: 0.3598 - val_accuracy: 0.8792\n",
      "Epoch 14/100\n",
      "102/102 [==============================] - ETA: 0s - loss: 0.3391 - accuracy: 0.8871\n",
      "Epoch 00014: val_accuracy did not improve from 0.87916\n",
      "102/102 [==============================] - 2s 24ms/step - loss: 0.3391 - accuracy: 0.8871 - val_loss: 0.3608 - val_accuracy: 0.8792\n",
      "Epoch 15/100\n",
      "102/102 [==============================] - ETA: 0s - loss: 0.3393 - accuracy: 0.8871\n",
      "Epoch 00015: val_accuracy did not improve from 0.87916\n",
      "102/102 [==============================] - 3s 25ms/step - loss: 0.3393 - accuracy: 0.8871 - val_loss: 0.3589 - val_accuracy: 0.8792\n",
      "Epoch 16/100\n",
      "100/102 [============================>.] - ETA: 0s - loss: 0.3364 - accuracy: 0.8872\n",
      "Epoch 00016: val_accuracy did not improve from 0.87916\n",
      "102/102 [==============================] - 2s 24ms/step - loss: 0.3368 - accuracy: 0.8871 - val_loss: 0.3772 - val_accuracy: 0.8792\n",
      "Epoch 17/100\n",
      "101/102 [============================>.] - ETA: 0s - loss: 0.3362 - accuracy: 0.8874\n",
      "Epoch 00017: val_accuracy did not improve from 0.87916\n",
      "102/102 [==============================] - 2s 24ms/step - loss: 0.3366 - accuracy: 0.8871 - val_loss: 0.3568 - val_accuracy: 0.8792\n",
      "Epoch 18/100\n",
      "100/102 [============================>.] - ETA: 0s - loss: 0.3326 - accuracy: 0.8869\n",
      "Epoch 00018: val_accuracy did not improve from 0.87916\n",
      "102/102 [==============================] - 2s 24ms/step - loss: 0.3326 - accuracy: 0.8871 - val_loss: 0.3662 - val_accuracy: 0.8792\n",
      "Epoch 19/100\n",
      "102/102 [==============================] - ETA: 0s - loss: 0.3337 - accuracy: 0.8871\n",
      "Epoch 00019: val_accuracy did not improve from 0.87916\n",
      "102/102 [==============================] - 2s 23ms/step - loss: 0.3337 - accuracy: 0.8871 - val_loss: 0.3580 - val_accuracy: 0.8792\n",
      "Epoch 20/100\n",
      "102/102 [==============================] - ETA: 0s - loss: 0.3304 - accuracy: 0.8871\n",
      "Epoch 00020: val_accuracy did not improve from 0.87916\n",
      "102/102 [==============================] - 2s 24ms/step - loss: 0.3304 - accuracy: 0.8871 - val_loss: 0.3582 - val_accuracy: 0.8792\n",
      "Epoch 21/100\n",
      "100/102 [============================>.] - ETA: 0s - loss: 0.3296 - accuracy: 0.8863\n",
      "Epoch 00021: val_accuracy did not improve from 0.87916\n",
      "102/102 [==============================] - 3s 26ms/step - loss: 0.3280 - accuracy: 0.8871 - val_loss: 0.3555 - val_accuracy: 0.8792\n",
      "Epoch 22/100\n",
      "100/102 [============================>.] - ETA: 0s - loss: 0.3279 - accuracy: 0.8866\n",
      "Epoch 00022: val_accuracy did not improve from 0.87916\n",
      "102/102 [==============================] - 3s 25ms/step - loss: 0.3267 - accuracy: 0.8871 - val_loss: 0.3549 - val_accuracy: 0.8792\n",
      "Epoch 23/100\n",
      "100/102 [============================>.] - ETA: 0s - loss: 0.3235 - accuracy: 0.8878\n",
      "Epoch 00023: val_accuracy did not improve from 0.87916\n",
      "102/102 [==============================] - 2s 24ms/step - loss: 0.3247 - accuracy: 0.8871 - val_loss: 0.3504 - val_accuracy: 0.8792\n",
      "Epoch 24/100\n",
      "100/102 [============================>.] - ETA: 0s - loss: 0.3237 - accuracy: 0.8863\n",
      "Epoch 00024: val_accuracy did not improve from 0.87916\n",
      "102/102 [==============================] - 2s 23ms/step - loss: 0.3221 - accuracy: 0.8871 - val_loss: 0.3492 - val_accuracy: 0.8792\n",
      "Epoch 25/100\n",
      "100/102 [============================>.] - ETA: 0s - loss: 0.3192 - accuracy: 0.8875\n",
      "Epoch 00025: val_accuracy did not improve from 0.87916\n",
      "102/102 [==============================] - 2s 23ms/step - loss: 0.3200 - accuracy: 0.8871 - val_loss: 0.3486 - val_accuracy: 0.8792\n",
      "Epoch 26/100\n",
      "100/102 [============================>.] - ETA: 0s - loss: 0.3195 - accuracy: 0.8866\n",
      "Epoch 00026: val_accuracy did not improve from 0.87916\n",
      "102/102 [==============================] - 2s 23ms/step - loss: 0.3184 - accuracy: 0.8871 - val_loss: 0.3484 - val_accuracy: 0.8792\n",
      "Epoch 27/100\n",
      "100/102 [============================>.] - ETA: 0s - loss: 0.3126 - accuracy: 0.8881\n",
      "Epoch 00027: val_accuracy did not improve from 0.87916\n",
      "102/102 [==============================] - 2s 24ms/step - loss: 0.3143 - accuracy: 0.8871 - val_loss: 0.3453 - val_accuracy: 0.8792\n",
      "Epoch 28/100\n",
      "101/102 [============================>.] - ETA: 0s - loss: 0.3142 - accuracy: 0.8871\n",
      "Epoch 00028: val_accuracy did not improve from 0.87916\n",
      "102/102 [==============================] - 3s 26ms/step - loss: 0.3141 - accuracy: 0.8871 - val_loss: 0.3497 - val_accuracy: 0.8792\n",
      "Epoch 29/100\n",
      "101/102 [============================>.] - ETA: 0s - loss: 0.3099 - accuracy: 0.8868\n",
      "Epoch 00029: val_accuracy did not improve from 0.87916\n",
      "102/102 [==============================] - 2s 24ms/step - loss: 0.3092 - accuracy: 0.8871 - val_loss: 0.3431 - val_accuracy: 0.8792\n",
      "Epoch 30/100\n",
      "102/102 [==============================] - ETA: 0s - loss: 0.3073 - accuracy: 0.8871\n",
      "Epoch 00030: val_accuracy did not improve from 0.87916\n",
      "102/102 [==============================] - 3s 25ms/step - loss: 0.3073 - accuracy: 0.8871 - val_loss: 0.3422 - val_accuracy: 0.8792\n",
      "Epoch 31/100\n",
      "101/102 [============================>.] - ETA: 0s - loss: 0.3049 - accuracy: 0.8871\n",
      "Epoch 00031: val_accuracy did not improve from 0.87916\n",
      "102/102 [==============================] - 3s 26ms/step - loss: 0.3048 - accuracy: 0.8871 - val_loss: 0.3400 - val_accuracy: 0.8792\n",
      "Epoch 32/100\n",
      "101/102 [============================>.] - ETA: 0s - loss: 0.3027 - accuracy: 0.8871\n",
      "Epoch 00032: val_accuracy did not improve from 0.87916\n",
      "102/102 [==============================] - 2s 24ms/step - loss: 0.3027 - accuracy: 0.8871 - val_loss: 0.3397 - val_accuracy: 0.8792\n",
      "Epoch 33/100\n",
      "101/102 [============================>.] - ETA: 0s - loss: 0.2992 - accuracy: 0.8868\n",
      "Epoch 00033: val_accuracy did not improve from 0.87916\n",
      "102/102 [==============================] - 3s 25ms/step - loss: 0.2985 - accuracy: 0.8871 - val_loss: 0.3386 - val_accuracy: 0.8792\n",
      "Epoch 34/100\n",
      "101/102 [============================>.] - ETA: 0s - loss: 0.2952 - accuracy: 0.8874\n",
      "Epoch 00034: val_accuracy did not improve from 0.87916\n",
      "102/102 [==============================] - 3s 26ms/step - loss: 0.2957 - accuracy: 0.8871 - val_loss: 0.3399 - val_accuracy: 0.8792\n",
      "Epoch 35/100\n",
      "102/102 [==============================] - ETA: 0s - loss: 0.2923 - accuracy: 0.8871\n",
      "Epoch 00035: val_accuracy did not improve from 0.87916\n",
      "102/102 [==============================] - 3s 26ms/step - loss: 0.2923 - accuracy: 0.8871 - val_loss: 0.3345 - val_accuracy: 0.8792\n",
      "Epoch 36/100\n",
      "100/102 [============================>.] - ETA: 0s - loss: 0.2899 - accuracy: 0.8869\n",
      "Epoch 00036: val_accuracy did not improve from 0.87916\n",
      "102/102 [==============================] - 2s 24ms/step - loss: 0.2894 - accuracy: 0.8871 - val_loss: 0.3342 - val_accuracy: 0.8792\n",
      "Epoch 37/100\n",
      "101/102 [============================>.] - ETA: 0s - loss: 0.2870 - accuracy: 0.8871\n",
      "Epoch 00037: val_accuracy did not improve from 0.87916\n",
      "102/102 [==============================] - 3s 25ms/step - loss: 0.2869 - accuracy: 0.8871 - val_loss: 0.3310 - val_accuracy: 0.8792\n",
      "Epoch 38/100\n",
      "100/102 [============================>.] - ETA: 0s - loss: 0.2813 - accuracy: 0.8878\n",
      "Epoch 00038: val_accuracy did not improve from 0.87916\n",
      "102/102 [==============================] - 2s 24ms/step - loss: 0.2823 - accuracy: 0.8871 - val_loss: 0.3308 - val_accuracy: 0.8792\n",
      "Epoch 39/100\n",
      "100/102 [============================>.] - ETA: 0s - loss: 0.2820 - accuracy: 0.8869\n",
      "Epoch 00039: val_accuracy did not improve from 0.87916\n",
      "102/102 [==============================] - 2s 24ms/step - loss: 0.2817 - accuracy: 0.8871 - val_loss: 0.3365 - val_accuracy: 0.8792\n",
      "Epoch 40/100\n",
      "100/102 [============================>.] - ETA: 0s - loss: 0.2771 - accuracy: 0.8875\n",
      "Epoch 00040: val_accuracy did not improve from 0.87916\n",
      "102/102 [==============================] - 2s 24ms/step - loss: 0.2775 - accuracy: 0.8871 - val_loss: 0.3263 - val_accuracy: 0.8792\n",
      "Epoch 41/100\n",
      "101/102 [============================>.] - ETA: 0s - loss: 0.2732 - accuracy: 0.8868\n",
      "Epoch 00041: val_accuracy did not improve from 0.87916\n",
      "102/102 [==============================] - 2s 24ms/step - loss: 0.2727 - accuracy: 0.8871 - val_loss: 0.3270 - val_accuracy: 0.8792\n",
      "Epoch 42/100\n",
      "100/102 [============================>.] - ETA: 0s - loss: 0.2702 - accuracy: 0.8866\n",
      "Epoch 00042: val_accuracy did not improve from 0.87916\n",
      "102/102 [==============================] - 2s 24ms/step - loss: 0.2695 - accuracy: 0.8871 - val_loss: 0.3229 - val_accuracy: 0.8792\n",
      "Epoch 43/100\n",
      "100/102 [============================>.] - ETA: 0s - loss: 0.2631 - accuracy: 0.8872\n",
      "Epoch 00043: val_accuracy did not improve from 0.87916\n",
      "102/102 [==============================] - 2s 23ms/step - loss: 0.2629 - accuracy: 0.8871 - val_loss: 0.3239 - val_accuracy: 0.8792\n",
      "Epoch 44/100\n",
      "100/102 [============================>.] - ETA: 0s - loss: 0.2602 - accuracy: 0.8863\n",
      "Epoch 00044: val_accuracy did not improve from 0.87916\n",
      "102/102 [==============================] - 2s 23ms/step - loss: 0.2590 - accuracy: 0.8871 - val_loss: 0.3199 - val_accuracy: 0.8792\n",
      "Epoch 45/100\n",
      "100/102 [============================>.] - ETA: 0s - loss: 0.2578 - accuracy: 0.8872\n",
      "Epoch 00045: val_accuracy did not improve from 0.87916\n",
      "102/102 [==============================] - 2s 23ms/step - loss: 0.2579 - accuracy: 0.8874 - val_loss: 0.3206 - val_accuracy: 0.8792\n",
      "Epoch 46/100\n",
      "100/102 [============================>.] - ETA: 0s - loss: 0.2521 - accuracy: 0.8863\n",
      "Epoch 00046: val_accuracy did not improve from 0.87916\n",
      "102/102 [==============================] - 2s 24ms/step - loss: 0.2506 - accuracy: 0.8871 - val_loss: 0.3198 - val_accuracy: 0.8792\n",
      "Epoch 47/100\n",
      "102/102 [==============================] - ETA: 0s - loss: 0.2468 - accuracy: 0.8902\n",
      "Epoch 00047: val_accuracy did not improve from 0.87916\n",
      "102/102 [==============================] - 3s 25ms/step - loss: 0.2468 - accuracy: 0.8902 - val_loss: 0.3343 - val_accuracy: 0.8792\n",
      "Epoch 48/100\n",
      "102/102 [==============================] - ETA: 0s - loss: 0.2467 - accuracy: 0.8893\n",
      "Epoch 00048: val_accuracy did not improve from 0.87916\n",
      "102/102 [==============================] - 2s 24ms/step - loss: 0.2467 - accuracy: 0.8893 - val_loss: 0.3160 - val_accuracy: 0.8792\n",
      "Epoch 49/100\n",
      "100/102 [============================>.] - ETA: 0s - loss: 0.2420 - accuracy: 0.8866 ETA: 0s - loss: 0.245\n",
      "Epoch 00049: val_accuracy did not improve from 0.87916\n",
      "102/102 [==============================] - 2s 23ms/step - loss: 0.2402 - accuracy: 0.8880 - val_loss: 0.3163 - val_accuracy: 0.8792\n",
      "Epoch 50/100\n",
      "100/102 [============================>.] - ETA: 0s - loss: 0.2358 - accuracy: 0.8922\n",
      "Epoch 00050: val_accuracy did not improve from 0.87916\n",
      "102/102 [==============================] - 2s 24ms/step - loss: 0.2368 - accuracy: 0.8917 - val_loss: 0.3255 - val_accuracy: 0.8792\n",
      "Epoch 51/100\n",
      "100/102 [============================>.] - ETA: 0s - loss: 0.2298 - accuracy: 0.8909\n",
      "Epoch 00051: val_accuracy did not improve from 0.87916\n",
      "102/102 [==============================] - 2s 23ms/step - loss: 0.2307 - accuracy: 0.8905 - val_loss: 0.3128 - val_accuracy: 0.8792\n",
      "Epoch 52/100\n",
      "100/102 [============================>.] - ETA: 0s - loss: 0.2291 - accuracy: 0.8909\n",
      "Epoch 00052: val_accuracy did not improve from 0.87916\n",
      "102/102 [==============================] - 2s 24ms/step - loss: 0.2289 - accuracy: 0.8908 - val_loss: 0.3152 - val_accuracy: 0.8792\n",
      "Epoch 53/100\n",
      "100/102 [============================>.] - ETA: 0s - loss: 0.2224 - accuracy: 0.8916\n",
      "Epoch 00053: val_accuracy did not improve from 0.87916\n",
      "102/102 [==============================] - 2s 24ms/step - loss: 0.2225 - accuracy: 0.8911 - val_loss: 0.3121 - val_accuracy: 0.8779\n",
      "Epoch 54/100\n",
      "101/102 [============================>.] - ETA: 0s - loss: 0.2230 - accuracy: 0.8951\n",
      "Epoch 00054: val_accuracy improved from 0.87916 to 0.88286, saving model to weights.hdf5\n",
      "102/102 [==============================] - 3s 25ms/step - loss: 0.2231 - accuracy: 0.8954 - val_loss: 0.3137 - val_accuracy: 0.8829\n",
      "Epoch 55/100\n",
      "100/102 [============================>.] - ETA: 0s - loss: 0.2166 - accuracy: 0.8947\n",
      "Epoch 00055: val_accuracy did not improve from 0.88286\n",
      "102/102 [==============================] - 3s 25ms/step - loss: 0.2165 - accuracy: 0.8948 - val_loss: 0.3106 - val_accuracy: 0.8804\n",
      "Epoch 56/100\n",
      "100/102 [============================>.] - ETA: 0s - loss: 0.2125 - accuracy: 0.8978\n",
      "Epoch 00056: val_accuracy did not improve from 0.88286\n",
      "102/102 [==============================] - 2s 23ms/step - loss: 0.2135 - accuracy: 0.8967 - val_loss: 0.3149 - val_accuracy: 0.8792\n",
      "Epoch 57/100\n",
      "101/102 [============================>.] - ETA: 0s - loss: 0.2092 - accuracy: 0.8963\n",
      "Epoch 00057: val_accuracy did not improve from 0.88286\n",
      "102/102 [==============================] - 3s 25ms/step - loss: 0.2090 - accuracy: 0.8964 - val_loss: 0.3135 - val_accuracy: 0.8804\n",
      "Epoch 58/100\n",
      "100/102 [============================>.] - ETA: 0s - loss: 0.2074 - accuracy: 0.8975\n",
      "Epoch 00058: val_accuracy improved from 0.88286 to 0.88409, saving model to weights.hdf5\n",
      "102/102 [==============================] - 3s 25ms/step - loss: 0.2068 - accuracy: 0.8979 - val_loss: 0.3121 - val_accuracy: 0.8841\n",
      "Epoch 59/100\n",
      "102/102 [==============================] - ETA: 0s - loss: 0.2025 - accuracy: 0.8973\n",
      "Epoch 00059: val_accuracy did not improve from 0.88409\n",
      "102/102 [==============================] - 3s 25ms/step - loss: 0.2025 - accuracy: 0.8973 - val_loss: 0.3139 - val_accuracy: 0.8841\n",
      "Epoch 60/100\n",
      "100/102 [============================>.] - ETA: 0s - loss: 0.1985 - accuracy: 0.8994\n",
      "Epoch 00060: val_accuracy did not improve from 0.88409\n",
      "102/102 [==============================] - 3s 25ms/step - loss: 0.1982 - accuracy: 0.8994 - val_loss: 0.3110 - val_accuracy: 0.8816\n",
      "Epoch 61/100\n",
      "102/102 [==============================] - ETA: 0s - loss: 0.1963 - accuracy: 0.9053\n",
      "Epoch 00061: val_accuracy did not improve from 0.88409\n",
      "102/102 [==============================] - 3s 25ms/step - loss: 0.1963 - accuracy: 0.9053 - val_loss: 0.3137 - val_accuracy: 0.8804\n",
      "Epoch 62/100\n",
      "100/102 [============================>.] - ETA: 0s - loss: 0.1918 - accuracy: 0.9047\n",
      "Epoch 00062: val_accuracy did not improve from 0.88409\n",
      "102/102 [==============================] - 2s 24ms/step - loss: 0.1908 - accuracy: 0.9053 - val_loss: 0.3326 - val_accuracy: 0.8792\n",
      "Epoch 63/100\n",
      "100/102 [============================>.] - ETA: 0s - loss: 0.1911 - accuracy: 0.9066\n",
      "Epoch 00063: val_accuracy did not improve from 0.88409\n",
      "102/102 [==============================] - 2s 24ms/step - loss: 0.1904 - accuracy: 0.9065 - val_loss: 0.3109 - val_accuracy: 0.8829\n",
      "Epoch 64/100\n",
      "100/102 [============================>.] - ETA: 0s - loss: 0.1852 - accuracy: 0.9106\n",
      "Epoch 00064: val_accuracy improved from 0.88409 to 0.88656, saving model to weights.hdf5\n",
      "102/102 [==============================] - 3s 25ms/step - loss: 0.1850 - accuracy: 0.9109 - val_loss: 0.3128 - val_accuracy: 0.8866\n",
      "Epoch 65/100\n",
      "100/102 [============================>.] - ETA: 0s - loss: 0.1834 - accuracy: 0.9150\n",
      "Epoch 00065: val_accuracy did not improve from 0.88656\n",
      "102/102 [==============================] - 2s 24ms/step - loss: 0.1835 - accuracy: 0.9152 - val_loss: 0.3124 - val_accuracy: 0.8829\n",
      "Epoch 66/100\n",
      "100/102 [============================>.] - ETA: 0s - loss: 0.1802 - accuracy: 0.9159\n",
      "Epoch 00066: val_accuracy did not improve from 0.88656\n",
      "102/102 [==============================] - 2s 24ms/step - loss: 0.1806 - accuracy: 0.9158 - val_loss: 0.3118 - val_accuracy: 0.8816\n",
      "Epoch 67/100\n",
      "101/102 [============================>.] - ETA: 0s - loss: 0.1866 - accuracy: 0.9134\n",
      "Epoch 00067: val_accuracy did not improve from 0.88656\n",
      "102/102 [==============================] - 2s 24ms/step - loss: 0.1863 - accuracy: 0.9136 - val_loss: 0.3145 - val_accuracy: 0.8829\n",
      "Epoch 68/100\n",
      "100/102 [============================>.] - ETA: 0s - loss: 0.1728 - accuracy: 0.9159\n",
      "Epoch 00068: val_accuracy did not improve from 0.88656\n",
      "102/102 [==============================] - 2s 23ms/step - loss: 0.1726 - accuracy: 0.9161 - val_loss: 0.3212 - val_accuracy: 0.8853\n",
      "Epoch 69/100\n",
      "100/102 [============================>.] - ETA: 0s - loss: 0.1746 - accuracy: 0.9206\n",
      "Epoch 00069: val_accuracy did not improve from 0.88656\n",
      "102/102 [==============================] - 2s 23ms/step - loss: 0.1749 - accuracy: 0.9198 - val_loss: 0.3148 - val_accuracy: 0.8718\n",
      "Epoch 70/100\n",
      "101/102 [============================>.] - ETA: 0s - loss: 0.1688 - accuracy: 0.9223\n",
      "Epoch 00070: val_accuracy did not improve from 0.88656\n",
      "102/102 [==============================] - 2s 23ms/step - loss: 0.1685 - accuracy: 0.9223 - val_loss: 0.3322 - val_accuracy: 0.8866\n",
      "Epoch 71/100\n",
      "102/102 [==============================] - ETA: 0s - loss: 0.1676 - accuracy: 0.9198\n",
      "Epoch 00071: val_accuracy did not improve from 0.88656\n",
      "102/102 [==============================] - 2s 24ms/step - loss: 0.1676 - accuracy: 0.9198 - val_loss: 0.3214 - val_accuracy: 0.8841\n",
      "Epoch 72/100\n",
      "101/102 [============================>.] - ETA: 0s - loss: 0.1634 - accuracy: 0.9298\n",
      "Epoch 00072: val_accuracy did not improve from 0.88656\n",
      "102/102 [==============================] - 3s 25ms/step - loss: 0.1637 - accuracy: 0.9300 - val_loss: 0.3156 - val_accuracy: 0.8841\n",
      "Epoch 73/100\n",
      "101/102 [============================>.] - ETA: 0s - loss: 0.1620 - accuracy: 0.9248\n",
      "Epoch 00073: val_accuracy did not improve from 0.88656\n",
      "102/102 [==============================] - 2s 24ms/step - loss: 0.1619 - accuracy: 0.9250 - val_loss: 0.3176 - val_accuracy: 0.8829\n",
      "Epoch 74/100\n",
      "102/102 [==============================] - ETA: 0s - loss: 0.1597 - accuracy: 0.9284\n",
      "Epoch 00074: val_accuracy did not improve from 0.88656\n",
      "102/102 [==============================] - 2s 24ms/step - loss: 0.1597 - accuracy: 0.9284 - val_loss: 0.3250 - val_accuracy: 0.8619\n",
      "Epoch 75/100\n",
      "100/102 [============================>.] - ETA: 0s - loss: 0.1621 - accuracy: 0.9275 ETA: 0s - loss: 0.1603 - ac\n",
      "Epoch 00075: val_accuracy did not improve from 0.88656\n",
      "102/102 [==============================] - 2s 23ms/step - loss: 0.1629 - accuracy: 0.9272 - val_loss: 0.3328 - val_accuracy: 0.8533\n",
      "Epoch 76/100\n",
      "102/102 [==============================] - ETA: 0s - loss: 0.1550 - accuracy: 0.9340\n",
      "Epoch 00076: val_accuracy did not improve from 0.88656\n",
      "102/102 [==============================] - 2s 23ms/step - loss: 0.1550 - accuracy: 0.9340 - val_loss: 0.3175 - val_accuracy: 0.8767\n",
      "Epoch 77/100\n",
      "100/102 [============================>.] - ETA: 0s - loss: 0.1509 - accuracy: 0.9359\n",
      "Epoch 00077: val_accuracy did not improve from 0.88656\n",
      "102/102 [==============================] - 2s 23ms/step - loss: 0.1507 - accuracy: 0.9362 - val_loss: 0.3304 - val_accuracy: 0.8841\n",
      "Epoch 78/100\n",
      "100/102 [============================>.] - ETA: 0s - loss: 0.1451 - accuracy: 0.9419\n",
      "Epoch 00078: val_accuracy did not improve from 0.88656\n",
      "102/102 [==============================] - 2s 23ms/step - loss: 0.1446 - accuracy: 0.9423 - val_loss: 0.3194 - val_accuracy: 0.8767\n",
      "Epoch 79/100\n",
      "101/102 [============================>.] - ETA: 0s - loss: 0.1440 - accuracy: 0.9381\n",
      "Epoch 00079: val_accuracy did not improve from 0.88656\n",
      "102/102 [==============================] - 3s 26ms/step - loss: 0.1445 - accuracy: 0.9377 - val_loss: 0.3218 - val_accuracy: 0.8829\n",
      "Epoch 80/100\n",
      "100/102 [============================>.] - ETA: 0s - loss: 0.1421 - accuracy: 0.9450\n",
      "Epoch 00080: val_accuracy did not improve from 0.88656\n",
      "102/102 [==============================] - 3s 25ms/step - loss: 0.1416 - accuracy: 0.9451 - val_loss: 0.3506 - val_accuracy: 0.8853\n",
      "Epoch 81/100\n",
      "100/102 [============================>.] - ETA: 0s - loss: 0.1400 - accuracy: 0.9441\n",
      "Epoch 00081: val_accuracy did not improve from 0.88656\n",
      "102/102 [==============================] - 2s 24ms/step - loss: 0.1417 - accuracy: 0.9423 - val_loss: 0.3301 - val_accuracy: 0.8841\n",
      "Epoch 82/100\n",
      "102/102 [==============================] - ETA: 0s - loss: 0.1391 - accuracy: 0.9473\n",
      "Epoch 00082: val_accuracy did not improve from 0.88656\n",
      "102/102 [==============================] - 2s 24ms/step - loss: 0.1391 - accuracy: 0.9473 - val_loss: 0.3231 - val_accuracy: 0.8767\n",
      "Epoch 83/100\n",
      "100/102 [============================>.] - ETA: 0s - loss: 0.1355 - accuracy: 0.9431\n",
      "Epoch 00083: val_accuracy did not improve from 0.88656\n",
      "102/102 [==============================] - 2s 24ms/step - loss: 0.1358 - accuracy: 0.9429 - val_loss: 0.3349 - val_accuracy: 0.8841\n",
      "Epoch 84/100\n",
      "100/102 [============================>.] - ETA: 0s - loss: 0.1332 - accuracy: 0.9481\n",
      "Epoch 00084: val_accuracy did not improve from 0.88656\n",
      "102/102 [==============================] - 2s 24ms/step - loss: 0.1329 - accuracy: 0.9488 - val_loss: 0.3319 - val_accuracy: 0.8829\n",
      "Epoch 85/100\n",
      "102/102 [==============================] - ETA: 0s - loss: 0.1331 - accuracy: 0.9476\n",
      "Epoch 00085: val_accuracy did not improve from 0.88656\n",
      "102/102 [==============================] - 2s 24ms/step - loss: 0.1331 - accuracy: 0.9476 - val_loss: 0.3281 - val_accuracy: 0.8779\n",
      "Epoch 86/100\n",
      "100/102 [============================>.] - ETA: 0s - loss: 0.1327 - accuracy: 0.9459\n",
      "Epoch 00086: val_accuracy did not improve from 0.88656\n",
      "102/102 [==============================] - 3s 25ms/step - loss: 0.1323 - accuracy: 0.9457 - val_loss: 0.3285 - val_accuracy: 0.8767\n",
      "Epoch 87/100\n",
      "100/102 [============================>.] - ETA: 0s - loss: 0.1312 - accuracy: 0.9456 ETA: 1s - l\n",
      "Epoch 00087: val_accuracy did not improve from 0.88656\n",
      "102/102 [==============================] - 3s 25ms/step - loss: 0.1309 - accuracy: 0.9457 - val_loss: 0.3295 - val_accuracy: 0.8755\n",
      "Epoch 88/100\n",
      "102/102 [==============================] - ETA: 0s - loss: 0.1277 - accuracy: 0.9528\n",
      "Epoch 00088: val_accuracy did not improve from 0.88656\n",
      "102/102 [==============================] - 3s 25ms/step - loss: 0.1277 - accuracy: 0.9528 - val_loss: 0.3339 - val_accuracy: 0.8829\n",
      "Epoch 89/100\n",
      "102/102 [==============================] - ETA: 0s - loss: 0.1252 - accuracy: 0.9500\n",
      "Epoch 00089: val_accuracy did not improve from 0.88656\n",
      "102/102 [==============================] - 2s 24ms/step - loss: 0.1252 - accuracy: 0.9500 - val_loss: 0.3333 - val_accuracy: 0.8767\n",
      "Epoch 90/100\n",
      "102/102 [==============================] - ETA: 0s - loss: 0.1222 - accuracy: 0.9510\n",
      "Epoch 00090: val_accuracy did not improve from 0.88656\n",
      "102/102 [==============================] - 3s 25ms/step - loss: 0.1222 - accuracy: 0.9510 - val_loss: 0.3438 - val_accuracy: 0.8829\n",
      "Epoch 91/100\n",
      "100/102 [============================>.] - ETA: 0s - loss: 0.1235 - accuracy: 0.9522\n",
      "Epoch 00091: val_accuracy did not improve from 0.88656\n",
      "102/102 [==============================] - 2s 24ms/step - loss: 0.1227 - accuracy: 0.9528 - val_loss: 0.3422 - val_accuracy: 0.8816\n",
      "Epoch 92/100\n",
      "102/102 [==============================] - ETA: 0s - loss: 0.1214 - accuracy: 0.9522\n",
      "Epoch 00092: val_accuracy did not improve from 0.88656\n",
      "102/102 [==============================] - 2s 24ms/step - loss: 0.1214 - accuracy: 0.9522 - val_loss: 0.3478 - val_accuracy: 0.8829\n",
      "Epoch 93/100\n",
      "102/102 [==============================] - ETA: 0s - loss: 0.1155 - accuracy: 0.9596\n",
      "Epoch 00093: val_accuracy did not improve from 0.88656\n",
      "102/102 [==============================] - 2s 24ms/step - loss: 0.1155 - accuracy: 0.9596 - val_loss: 0.3356 - val_accuracy: 0.8718\n",
      "Epoch 94/100\n",
      "102/102 [==============================] - ETA: 0s - loss: 0.1153 - accuracy: 0.9577\n",
      "Epoch 00094: val_accuracy did not improve from 0.88656\n",
      "102/102 [==============================] - 2s 24ms/step - loss: 0.1153 - accuracy: 0.9577 - val_loss: 0.3529 - val_accuracy: 0.8804\n",
      "Epoch 95/100\n",
      "100/102 [============================>.] - ETA: 0s - loss: 0.1136 - accuracy: 0.9588\n",
      "Epoch 00095: val_accuracy did not improve from 0.88656\n",
      "102/102 [==============================] - 2s 23ms/step - loss: 0.1134 - accuracy: 0.9587 - val_loss: 0.3376 - val_accuracy: 0.8730\n",
      "Epoch 96/100\n",
      "102/102 [==============================] - ETA: 0s - loss: 0.1108 - accuracy: 0.9605\n",
      "Epoch 00096: val_accuracy did not improve from 0.88656\n",
      "102/102 [==============================] - 2s 24ms/step - loss: 0.1108 - accuracy: 0.9605 - val_loss: 0.3518 - val_accuracy: 0.8829\n",
      "Epoch 97/100\n",
      "102/102 [==============================] - ETA: 0s - loss: 0.1085 - accuracy: 0.9633\n",
      "Epoch 00097: val_accuracy did not improve from 0.88656\n",
      "102/102 [==============================] - 2s 24ms/step - loss: 0.1085 - accuracy: 0.9633 - val_loss: 0.3536 - val_accuracy: 0.8829\n",
      "Epoch 98/100\n",
      "101/102 [============================>.] - ETA: 0s - loss: 0.1073 - accuracy: 0.9644\n",
      "Epoch 00098: val_accuracy did not improve from 0.88656\n",
      "102/102 [==============================] - 2s 24ms/step - loss: 0.1074 - accuracy: 0.9642 - val_loss: 0.3436 - val_accuracy: 0.8718\n",
      "Epoch 99/100\n",
      "100/102 [============================>.] - ETA: 0s - loss: 0.1062 - accuracy: 0.9644\n",
      "Epoch 00099: val_accuracy did not improve from 0.88656\n",
      "102/102 [==============================] - 3s 25ms/step - loss: 0.1066 - accuracy: 0.9645 - val_loss: 0.3553 - val_accuracy: 0.8804\n",
      "Epoch 100/100\n",
      "100/102 [============================>.] - ETA: 0s - loss: 0.1097 - accuracy: 0.9616\n",
      "Epoch 00100: val_accuracy did not improve from 0.88656\n",
      "102/102 [==============================] - 2s 24ms/step - loss: 0.1094 - accuracy: 0.9614 - val_loss: 0.3477 - val_accuracy: 0.8718\n"
     ]
    }
   ],
   "source": [
    "#model.summary() # model architecture\n",
    "checkpointer = ModelCheckpoint(filepath=\"weights.hdf5\", monitor = 'val_accuracy', verbose=1, save_best_only=True) # save model's best weights\n",
    "\n",
    "history = model.fit(\n",
    "                    train_x, \n",
    "                    train_y, \n",
    "                    epochs=100,  \n",
    "                    callbacks = [checkpointer], \n",
    "                    validation_data = (test_x, test_y)\n",
    "                    )\n",
    "\n",
    "model_name = \"horserace.h5\"\n",
    "model.save(model_name)"
   ]
  },
  {
   "cell_type": "code",
   "execution_count": null,
   "id": "fbac37e4-64a6-45cd-aef6-d24edc53add5",
   "metadata": {},
   "outputs": [],
   "source": []
  },
  {
   "cell_type": "code",
   "execution_count": null,
   "id": "41d8acd2-9345-4318-8991-1e0fb68a53ad",
   "metadata": {},
   "outputs": [],
   "source": []
  },
  {
   "cell_type": "code",
   "execution_count": null,
   "id": "959899d0-35d3-4d4b-8d0e-4c4eea3fbb95",
   "metadata": {},
   "outputs": [],
   "source": []
  },
  {
   "cell_type": "code",
   "execution_count": null,
   "id": "6dc0dfc1-1cbb-4692-8311-ee879b90a5fd",
   "metadata": {},
   "outputs": [],
   "source": []
  },
  {
   "cell_type": "code",
   "execution_count": null,
   "id": "cc10f37f-a950-45c2-9b0e-6fb0f1820660",
   "metadata": {},
   "outputs": [],
   "source": []
  },
  {
   "cell_type": "code",
   "execution_count": null,
   "id": "604044be-ee31-41dd-bad1-ec27254ae1f0",
   "metadata": {},
   "outputs": [],
   "source": []
  },
  {
   "cell_type": "code",
   "execution_count": null,
   "id": "db04f3c1-e878-4b3a-b4ee-714e9abbe317",
   "metadata": {},
   "outputs": [],
   "source": []
  },
  {
   "cell_type": "code",
   "execution_count": null,
   "id": "8c051f70-556f-4458-ad22-47ae946aa44b",
   "metadata": {},
   "outputs": [],
   "source": []
  },
  {
   "cell_type": "code",
   "execution_count": 283,
   "id": "98e1fcf0-dd76-47c9-8ae0-a8783d689976",
   "metadata": {},
   "outputs": [],
   "source": [
    "################## Regressor ###########################################"
   ]
  },
  {
   "cell_type": "code",
   "execution_count": 284,
   "id": "e1e7f692-15a9-4efc-b297-60f2b048c789",
   "metadata": {},
   "outputs": [
    {
     "data": {
      "text/html": [
       "<div>\n",
       "<style scoped>\n",
       "    .dataframe tbody tr th:only-of-type {\n",
       "        vertical-align: middle;\n",
       "    }\n",
       "\n",
       "    .dataframe tbody tr th {\n",
       "        vertical-align: top;\n",
       "    }\n",
       "\n",
       "    .dataframe thead th {\n",
       "        text-align: right;\n",
       "    }\n",
       "</style>\n",
       "<table border=\"1\" class=\"dataframe\">\n",
       "  <thead>\n",
       "    <tr style=\"text-align: right;\">\n",
       "      <th></th>\n",
       "      <th>race_date</th>\n",
       "      <th>weight</th>\n",
       "      <th>age</th>\n",
       "      <th>dollar_odds</th>\n",
       "      <th>program_number</th>\n",
       "      <th>post_position</th>\n",
       "      <th>claim_price</th>\n",
       "      <th>start_position</th>\n",
       "      <th>finish_position</th>\n",
       "      <th>win_payoff</th>\n",
       "      <th>...</th>\n",
       "      <th>race_type_Maiden Claiming</th>\n",
       "      <th>race_type_Maiden Optional Claiming</th>\n",
       "      <th>race_type_Maiden Special Weight</th>\n",
       "      <th>race_type_Optional Claiming</th>\n",
       "      <th>race_type_Stakes</th>\n",
       "      <th>race_type_Starters Allowance</th>\n",
       "      <th>track_conditions_FM</th>\n",
       "      <th>track_conditions_FT</th>\n",
       "      <th>track_conditions_GD</th>\n",
       "      <th>track_conditions_YL</th>\n",
       "    </tr>\n",
       "  </thead>\n",
       "  <tbody>\n",
       "    <tr>\n",
       "      <th>0</th>\n",
       "      <td>0</td>\n",
       "      <td>119</td>\n",
       "      <td>4</td>\n",
       "      <td>7.20</td>\n",
       "      <td>1.0</td>\n",
       "      <td>1</td>\n",
       "      <td>9500</td>\n",
       "      <td>5.0</td>\n",
       "      <td>5.0</td>\n",
       "      <td>0.0</td>\n",
       "      <td>...</td>\n",
       "      <td>0</td>\n",
       "      <td>0</td>\n",
       "      <td>0</td>\n",
       "      <td>0</td>\n",
       "      <td>0</td>\n",
       "      <td>0</td>\n",
       "      <td>0</td>\n",
       "      <td>1</td>\n",
       "      <td>0</td>\n",
       "      <td>0</td>\n",
       "    </tr>\n",
       "    <tr>\n",
       "      <th>1</th>\n",
       "      <td>1</td>\n",
       "      <td>118</td>\n",
       "      <td>3</td>\n",
       "      <td>12.10</td>\n",
       "      <td>4.0</td>\n",
       "      <td>4</td>\n",
       "      <td>0</td>\n",
       "      <td>10.0</td>\n",
       "      <td>4.0</td>\n",
       "      <td>0.0</td>\n",
       "      <td>...</td>\n",
       "      <td>0</td>\n",
       "      <td>0</td>\n",
       "      <td>0</td>\n",
       "      <td>0</td>\n",
       "      <td>0</td>\n",
       "      <td>0</td>\n",
       "      <td>0</td>\n",
       "      <td>1</td>\n",
       "      <td>0</td>\n",
       "      <td>0</td>\n",
       "    </tr>\n",
       "    <tr>\n",
       "      <th>2</th>\n",
       "      <td>2</td>\n",
       "      <td>121</td>\n",
       "      <td>5</td>\n",
       "      <td>24.75</td>\n",
       "      <td>6.0</td>\n",
       "      <td>6</td>\n",
       "      <td>20000</td>\n",
       "      <td>10.0</td>\n",
       "      <td>5.0</td>\n",
       "      <td>0.0</td>\n",
       "      <td>...</td>\n",
       "      <td>0</td>\n",
       "      <td>0</td>\n",
       "      <td>0</td>\n",
       "      <td>0</td>\n",
       "      <td>0</td>\n",
       "      <td>0</td>\n",
       "      <td>0</td>\n",
       "      <td>1</td>\n",
       "      <td>0</td>\n",
       "      <td>0</td>\n",
       "    </tr>\n",
       "    <tr>\n",
       "      <th>3</th>\n",
       "      <td>3</td>\n",
       "      <td>121</td>\n",
       "      <td>5</td>\n",
       "      <td>3.80</td>\n",
       "      <td>3.0</td>\n",
       "      <td>3</td>\n",
       "      <td>0</td>\n",
       "      <td>7.0</td>\n",
       "      <td>2.0</td>\n",
       "      <td>0.0</td>\n",
       "      <td>...</td>\n",
       "      <td>0</td>\n",
       "      <td>0</td>\n",
       "      <td>0</td>\n",
       "      <td>0</td>\n",
       "      <td>0</td>\n",
       "      <td>0</td>\n",
       "      <td>0</td>\n",
       "      <td>1</td>\n",
       "      <td>0</td>\n",
       "      <td>0</td>\n",
       "    </tr>\n",
       "    <tr>\n",
       "      <th>4</th>\n",
       "      <td>4</td>\n",
       "      <td>121</td>\n",
       "      <td>4</td>\n",
       "      <td>2.95</td>\n",
       "      <td>3.0</td>\n",
       "      <td>3</td>\n",
       "      <td>0</td>\n",
       "      <td>4.0</td>\n",
       "      <td>3.0</td>\n",
       "      <td>0.0</td>\n",
       "      <td>...</td>\n",
       "      <td>0</td>\n",
       "      <td>0</td>\n",
       "      <td>0</td>\n",
       "      <td>0</td>\n",
       "      <td>0</td>\n",
       "      <td>0</td>\n",
       "      <td>0</td>\n",
       "      <td>1</td>\n",
       "      <td>0</td>\n",
       "      <td>0</td>\n",
       "    </tr>\n",
       "  </tbody>\n",
       "</table>\n",
       "<p>5 rows × 2855 columns</p>\n",
       "</div>"
      ],
      "text/plain": [
       "   race_date  weight  age  dollar_odds  program_number  post_position  \\\n",
       "0          0     119    4         7.20             1.0              1   \n",
       "1          1     118    3        12.10             4.0              4   \n",
       "2          2     121    5        24.75             6.0              6   \n",
       "3          3     121    5         3.80             3.0              3   \n",
       "4          4     121    4         2.95             3.0              3   \n",
       "\n",
       "   claim_price  start_position  finish_position  win_payoff  ...  \\\n",
       "0         9500             5.0              5.0         0.0  ...   \n",
       "1            0            10.0              4.0         0.0  ...   \n",
       "2        20000            10.0              5.0         0.0  ...   \n",
       "3            0             7.0              2.0         0.0  ...   \n",
       "4            0             4.0              3.0         0.0  ...   \n",
       "\n",
       "   race_type_Maiden Claiming  race_type_Maiden Optional Claiming  \\\n",
       "0                          0                                   0   \n",
       "1                          0                                   0   \n",
       "2                          0                                   0   \n",
       "3                          0                                   0   \n",
       "4                          0                                   0   \n",
       "\n",
       "   race_type_Maiden Special Weight  race_type_Optional Claiming  \\\n",
       "0                                0                            0   \n",
       "1                                0                            0   \n",
       "2                                0                            0   \n",
       "3                                0                            0   \n",
       "4                                0                            0   \n",
       "\n",
       "   race_type_Stakes  race_type_Starters Allowance  track_conditions_FM  \\\n",
       "0                 0                             0                    0   \n",
       "1                 0                             0                    0   \n",
       "2                 0                             0                    0   \n",
       "3                 0                             0                    0   \n",
       "4                 0                             0                    0   \n",
       "\n",
       "   track_conditions_FT  track_conditions_GD  track_conditions_YL  \n",
       "0                    1                    0                    0  \n",
       "1                    1                    0                    0  \n",
       "2                    1                    0                    0  \n",
       "3                    1                    0                    0  \n",
       "4                    1                    0                    0  \n",
       "\n",
       "[5 rows x 2855 columns]"
      ]
     },
     "execution_count": 284,
     "metadata": {},
     "output_type": "execute_result"
    }
   ],
   "source": [
    "# Checking to see how accurate a regressor we can create by using speed_rating as our target\n",
    "Y = df[['speed_rating']]\n",
    "X = df.drop(['speed_rating'], axis=1)\n",
    "\n",
    "#Recleaning the data\n",
    "encoder = LabelEncoder()\n",
    "encoder.fit(X['race_date'])\n",
    "X['race_date'] = encoder.transform(X['race_date'])\n",
    "\n",
    "X_dummies = pd.get_dummies(X[['name']])\n",
    "X = pd.concat([X,X_dummies], axis=1)\n",
    "X.drop('name', axis=1, inplace=True)\n",
    "\n",
    "#Creating dummies for categorical sex\n",
    "X_dummies = pd.get_dummies(X[['sex']])\n",
    "X = pd.concat([X,X_dummies], axis=1)\n",
    "X.drop('sex', axis=1, inplace=True)\n",
    "\n",
    "#Creating dummies for meds and equipment\n",
    "X_dummies = pd.get_dummies(X[['meds_and_equip']])\n",
    "X = pd.concat([X,X_dummies], axis=1)\n",
    "X.drop('meds_and_equip', axis=1, inplace=True)\n",
    "\n",
    "#Creating dummies for jockey\n",
    "X_dummies = pd.get_dummies(X[['jockey']])\n",
    "X = pd.concat([X,X_dummies], axis=1)\n",
    "X.drop('jockey', axis=1, inplace=True)\n",
    "\n",
    "#Creating dummies for trainer\n",
    "X_dummies = pd.get_dummies(X[['trainer']])\n",
    "X = pd.concat([X,X_dummies], axis=1)\n",
    "X.drop('trainer', axis=1, inplace=True)\n",
    "\n",
    "#Creating dummies for owner\n",
    "X_dummies = pd.get_dummies(X[['owner']])\n",
    "X = pd.concat([X,X_dummies], axis=1)\n",
    "X.drop('owner', axis=1, inplace=True)\n",
    "\n",
    "#Creating dummies for weather\n",
    "X_dummies = pd.get_dummies(X[['weather']])\n",
    "X = pd.concat([X,X_dummies], axis=1)\n",
    "X.drop('weather', axis=1, inplace=True)\n",
    "\n",
    "#Creating dummies for race type\n",
    "X_dummies = pd.get_dummies(X[['race_type']])\n",
    "X = pd.concat([X,X_dummies], axis=1)\n",
    "X.drop('race_type', axis=1, inplace=True)\n",
    "\n",
    "#Creating dummies for track conditions\n",
    "X_dummies = pd.get_dummies(X[['track_conditions']])\n",
    "X = pd.concat([X,X_dummies], axis=1)\n",
    "X.drop('track_conditions', axis=1, inplace=True)\n",
    "\n",
    "X.head()"
   ]
  },
  {
   "cell_type": "code",
   "execution_count": 285,
   "id": "ac720955-c61d-40c9-ab73-50e03c99e084",
   "metadata": {},
   "outputs": [],
   "source": [
    "#The next step is to standardize our data (changing the values to between 0 and 1, since our data is sparse)\n",
    "from sklearn.preprocessing import StandardScaler\n",
    "min_max_scaler = preprocessing.MinMaxScaler()\n",
    "X = min_max_scaler.fit_transform(X)"
   ]
  },
  {
   "cell_type": "code",
   "execution_count": 286,
   "id": "5879ff9a-d9a4-4c1d-a1cf-0906f34bf7dd",
   "metadata": {},
   "outputs": [],
   "source": [
    "X_train, X_test, y_train, y_test = model_selection.train_test_split(X,Y,test_size = 0.2, random_state = 0)"
   ]
  },
  {
   "cell_type": "code",
   "execution_count": 287,
   "id": "d9a8ce06-9269-40e6-b856-038ee1d5838a",
   "metadata": {},
   "outputs": [
    {
     "ename": "NameError",
     "evalue": "name 'Sequential' is not defined",
     "output_type": "error",
     "traceback": [
      "\u001b[1;31m---------------------------------------------------------------------------\u001b[0m",
      "\u001b[1;31mNameError\u001b[0m                                 Traceback (most recent call last)",
      "\u001b[1;32m<ipython-input-287-c392b949f6c8>\u001b[0m in \u001b[0;36m<module>\u001b[1;34m\u001b[0m\n\u001b[1;32m----> 1\u001b[1;33m \u001b[0mmy_regressor\u001b[0m \u001b[1;33m=\u001b[0m \u001b[0mSequential\u001b[0m\u001b[1;33m(\u001b[0m\u001b[1;33m)\u001b[0m\u001b[1;33m\u001b[0m\u001b[1;33m\u001b[0m\u001b[0m\n\u001b[0m\u001b[0;32m      2\u001b[0m my_regressor.add(LSTM(units = 30, return_sequences = True, \n\u001b[0;32m      3\u001b[0m                       input_shape = (x_train.shape[1], 1)))\n\u001b[0;32m      4\u001b[0m \u001b[0mmy_regressor\u001b[0m\u001b[1;33m.\u001b[0m\u001b[0madd\u001b[0m\u001b[1;33m(\u001b[0m\u001b[0mDropout\u001b[0m\u001b[1;33m(\u001b[0m\u001b[1;36m0.2\u001b[0m\u001b[1;33m)\u001b[0m\u001b[1;33m)\u001b[0m\u001b[1;33m\u001b[0m\u001b[1;33m\u001b[0m\u001b[0m\n\u001b[0;32m      5\u001b[0m \u001b[1;33m\u001b[0m\u001b[0m\n",
      "\u001b[1;31mNameError\u001b[0m: name 'Sequential' is not defined"
     ]
    }
   ],
   "source": [
    "my_regressor = Sequential()\n",
    "my_regressor.add(LSTM(units = 30, return_sequences = True, \n",
    "                      input_shape = (x_train.shape[1], 1)))\n",
    "my_regressor.add(Dropout(0.2))\n",
    "\n",
    "my_regressor = keras.Sequential(\n",
    "    [\n",
    "        layers.LSTM(1400, activation='sigmoid', name='layer1'),\n",
    "        layers.Dense(700, activation='relu', name='layer2'),\n",
    "        layers.Dense(200, activation='relu', name='layer3'),\n",
    "        layers.Dense(20, activation='relu', name='layer4'),\n",
    "        layers.Dense(2, activation='softmax', name='output1'),\n",
    "    ]\n",
    ")"
   ]
  },
  {
   "cell_type": "code",
   "execution_count": null,
   "id": "791d74f0-b5ae-4f45-aded-209b775f16f8",
   "metadata": {},
   "outputs": [],
   "source": []
  },
  {
   "cell_type": "code",
   "execution_count": null,
   "id": "c39d6dc8-922f-4d24-ad03-f292f1db418f",
   "metadata": {},
   "outputs": [],
   "source": []
  },
  {
   "cell_type": "code",
   "execution_count": null,
   "id": "81969939-80b1-46f7-83d3-7fc11cbb9447",
   "metadata": {},
   "outputs": [],
   "source": []
  },
  {
   "cell_type": "code",
   "execution_count": null,
   "id": "1cb3e8ff-bd99-4ff0-8e9b-b997dc3755c1",
   "metadata": {},
   "outputs": [],
   "source": []
  },
  {
   "cell_type": "code",
   "execution_count": null,
   "id": "ab8faf0a-a599-43dd-b120-e64f43db7b2b",
   "metadata": {},
   "outputs": [],
   "source": []
  },
  {
   "cell_type": "code",
   "execution_count": null,
   "id": "2df16f8d-6c0d-4681-8f1f-8576b5c040d5",
   "metadata": {},
   "outputs": [],
   "source": []
  },
  {
   "cell_type": "code",
   "execution_count": null,
   "id": "4e10cb53-1052-4214-b44b-2b24dad344d3",
   "metadata": {},
   "outputs": [],
   "source": []
  },
  {
   "cell_type": "code",
   "execution_count": null,
   "id": "bddf6997-de2f-44a8-9613-30fc1ea413f5",
   "metadata": {},
   "outputs": [],
   "source": []
  },
  {
   "cell_type": "code",
   "execution_count": null,
   "id": "2bb5ae7c-6b88-4118-b90c-f18e29c52cbe",
   "metadata": {},
   "outputs": [],
   "source": [
    "################################ ML Models ##################################"
   ]
  },
  {
   "cell_type": "code",
   "execution_count": 218,
   "id": "c990d363-cd30-4173-866b-fb4bc741ad5a",
   "metadata": {},
   "outputs": [
    {
     "ename": "ValueError",
     "evalue": "Shape of passed values is (811, 2), indices imply (811, 1)",
     "output_type": "error",
     "traceback": [
      "\u001b[1;31m---------------------------------------------------------------------------\u001b[0m",
      "\u001b[1;31mValueError\u001b[0m                                Traceback (most recent call last)",
      "\u001b[1;32m<ipython-input-218-a5feae2304d3>\u001b[0m in \u001b[0;36m<module>\u001b[1;34m\u001b[0m\n\u001b[1;32m----> 1\u001b[1;33m \u001b[0mprediction_df\u001b[0m \u001b[1;33m=\u001b[0m \u001b[0mpd\u001b[0m\u001b[1;33m.\u001b[0m\u001b[0mDataFrame\u001b[0m\u001b[1;33m(\u001b[0m\u001b[0mmodel\u001b[0m\u001b[1;33m.\u001b[0m\u001b[0mpredict\u001b[0m\u001b[1;33m(\u001b[0m\u001b[0mX_test\u001b[0m\u001b[1;33m)\u001b[0m\u001b[1;33m,\u001b[0m \u001b[0mcolumns\u001b[0m \u001b[1;33m=\u001b[0m \u001b[1;33m[\u001b[0m\u001b[1;34m'results'\u001b[0m\u001b[1;33m]\u001b[0m\u001b[1;33m)\u001b[0m\u001b[1;33m\u001b[0m\u001b[1;33m\u001b[0m\u001b[0m\n\u001b[0m\u001b[0;32m      2\u001b[0m \u001b[0mprediction_df\u001b[0m\u001b[1;33m[\u001b[0m\u001b[1;34m'podium'\u001b[0m\u001b[1;33m]\u001b[0m \u001b[1;33m=\u001b[0m \u001b[0my_test\u001b[0m\u001b[1;33m.\u001b[0m\u001b[0mreset_index\u001b[0m\u001b[1;33m(\u001b[0m\u001b[0mdrop\u001b[0m \u001b[1;33m=\u001b[0m \u001b[1;32mTrue\u001b[0m\u001b[1;33m)\u001b[0m\u001b[1;33m\u001b[0m\u001b[1;33m\u001b[0m\u001b[0m\n\u001b[0;32m      3\u001b[0m \u001b[0mprediction_df\u001b[0m\u001b[1;33m[\u001b[0m\u001b[1;34m'actual'\u001b[0m\u001b[1;33m]\u001b[0m \u001b[1;33m=\u001b[0m \u001b[0mprediction_df\u001b[0m\u001b[1;33m.\u001b[0m\u001b[0mpodium\u001b[0m\u001b[1;33m.\u001b[0m\u001b[0mmap\u001b[0m\u001b[1;33m(\u001b[0m\u001b[1;32mlambda\u001b[0m \u001b[0mx\u001b[0m\u001b[1;33m:\u001b[0m \u001b[1;36m1\u001b[0m \u001b[1;32mif\u001b[0m \u001b[0mx\u001b[0m \u001b[1;33m==\u001b[0m \u001b[1;36m1\u001b[0m \u001b[1;32melse\u001b[0m \u001b[1;36m0\u001b[0m\u001b[1;33m)\u001b[0m\u001b[1;33m\u001b[0m\u001b[1;33m\u001b[0m\u001b[0m\n\u001b[0;32m      4\u001b[0m \u001b[0mprediction_df\u001b[0m\u001b[1;33m.\u001b[0m\u001b[0msort_values\u001b[0m\u001b[1;33m(\u001b[0m\u001b[1;34m'results'\u001b[0m\u001b[1;33m,\u001b[0m \u001b[0mascending\u001b[0m \u001b[1;33m=\u001b[0m \u001b[1;32mTrue\u001b[0m\u001b[1;33m,\u001b[0m \u001b[0minplace\u001b[0m \u001b[1;33m=\u001b[0m \u001b[1;32mTrue\u001b[0m\u001b[1;33m)\u001b[0m\u001b[1;33m\u001b[0m\u001b[1;33m\u001b[0m\u001b[0m\n\u001b[0;32m      5\u001b[0m \u001b[0mprediction_df\u001b[0m\u001b[1;33m.\u001b[0m\u001b[0mreset_index\u001b[0m\u001b[1;33m(\u001b[0m\u001b[0minplace\u001b[0m \u001b[1;33m=\u001b[0m \u001b[1;32mTrue\u001b[0m\u001b[1;33m,\u001b[0m \u001b[0mdrop\u001b[0m \u001b[1;33m=\u001b[0m \u001b[1;32mTrue\u001b[0m\u001b[1;33m)\u001b[0m\u001b[1;33m\u001b[0m\u001b[1;33m\u001b[0m\u001b[0m\n",
      "\u001b[1;32m~\\anaconda3\\envs\\tensorgpupy38\\lib\\site-packages\\pandas\\core\\frame.py\u001b[0m in \u001b[0;36m__init__\u001b[1;34m(self, data, index, columns, dtype, copy)\u001b[0m\n\u001b[0;32m    670\u001b[0m                 )\n\u001b[0;32m    671\u001b[0m             \u001b[1;32melse\u001b[0m\u001b[1;33m:\u001b[0m\u001b[1;33m\u001b[0m\u001b[1;33m\u001b[0m\u001b[0m\n\u001b[1;32m--> 672\u001b[1;33m                 mgr = ndarray_to_mgr(\n\u001b[0m\u001b[0;32m    673\u001b[0m                     \u001b[0mdata\u001b[0m\u001b[1;33m,\u001b[0m\u001b[1;33m\u001b[0m\u001b[1;33m\u001b[0m\u001b[0m\n\u001b[0;32m    674\u001b[0m                     \u001b[0mindex\u001b[0m\u001b[1;33m,\u001b[0m\u001b[1;33m\u001b[0m\u001b[1;33m\u001b[0m\u001b[0m\n",
      "\u001b[1;32m~\\anaconda3\\envs\\tensorgpupy38\\lib\\site-packages\\pandas\\core\\internals\\construction.py\u001b[0m in \u001b[0;36mndarray_to_mgr\u001b[1;34m(values, index, columns, dtype, copy, typ)\u001b[0m\n\u001b[0;32m    322\u001b[0m     )\n\u001b[0;32m    323\u001b[0m \u001b[1;33m\u001b[0m\u001b[0m\n\u001b[1;32m--> 324\u001b[1;33m     \u001b[0m_check_values_indices_shape_match\u001b[0m\u001b[1;33m(\u001b[0m\u001b[0mvalues\u001b[0m\u001b[1;33m,\u001b[0m \u001b[0mindex\u001b[0m\u001b[1;33m,\u001b[0m \u001b[0mcolumns\u001b[0m\u001b[1;33m)\u001b[0m\u001b[1;33m\u001b[0m\u001b[1;33m\u001b[0m\u001b[0m\n\u001b[0m\u001b[0;32m    325\u001b[0m \u001b[1;33m\u001b[0m\u001b[0m\n\u001b[0;32m    326\u001b[0m     \u001b[1;32mif\u001b[0m \u001b[0mtyp\u001b[0m \u001b[1;33m==\u001b[0m \u001b[1;34m\"array\"\u001b[0m\u001b[1;33m:\u001b[0m\u001b[1;33m\u001b[0m\u001b[1;33m\u001b[0m\u001b[0m\n",
      "\u001b[1;32m~\\anaconda3\\envs\\tensorgpupy38\\lib\\site-packages\\pandas\\core\\internals\\construction.py\u001b[0m in \u001b[0;36m_check_values_indices_shape_match\u001b[1;34m(values, index, columns)\u001b[0m\n\u001b[0;32m    391\u001b[0m         \u001b[0mpassed\u001b[0m \u001b[1;33m=\u001b[0m \u001b[0mvalues\u001b[0m\u001b[1;33m.\u001b[0m\u001b[0mshape\u001b[0m\u001b[1;33m\u001b[0m\u001b[1;33m\u001b[0m\u001b[0m\n\u001b[0;32m    392\u001b[0m         \u001b[0mimplied\u001b[0m \u001b[1;33m=\u001b[0m \u001b[1;33m(\u001b[0m\u001b[0mlen\u001b[0m\u001b[1;33m(\u001b[0m\u001b[0mindex\u001b[0m\u001b[1;33m)\u001b[0m\u001b[1;33m,\u001b[0m \u001b[0mlen\u001b[0m\u001b[1;33m(\u001b[0m\u001b[0mcolumns\u001b[0m\u001b[1;33m)\u001b[0m\u001b[1;33m)\u001b[0m\u001b[1;33m\u001b[0m\u001b[1;33m\u001b[0m\u001b[0m\n\u001b[1;32m--> 393\u001b[1;33m         \u001b[1;32mraise\u001b[0m \u001b[0mValueError\u001b[0m\u001b[1;33m(\u001b[0m\u001b[1;34mf\"Shape of passed values is {passed}, indices imply {implied}\"\u001b[0m\u001b[1;33m)\u001b[0m\u001b[1;33m\u001b[0m\u001b[1;33m\u001b[0m\u001b[0m\n\u001b[0m\u001b[0;32m    394\u001b[0m \u001b[1;33m\u001b[0m\u001b[0m\n\u001b[0;32m    395\u001b[0m \u001b[1;33m\u001b[0m\u001b[0m\n",
      "\u001b[1;31mValueError\u001b[0m: Shape of passed values is (811, 2), indices imply (811, 1)"
     ]
    }
   ],
   "source": [
    "prediction_df = pd.DataFrame(model.predict(X_test), columns = ['results'])\n",
    "prediction_df['podium'] = y_test.reset_index(drop = True)\n",
    "prediction_df['actual'] = prediction_df.podium.map(lambda x: 1 if x == 1 else 0)\n",
    "prediction_df.sort_values('results', ascending = True, inplace = True)\n",
    "prediction_df.reset_index(inplace = True, drop = True)\n",
    "prediction_df['predicted'] = prediction_df.index\n",
    "prediction_df['predicted'] = prediction_df.predicted.map(lambda x: 1 if x == 0 else 0)\n",
    "\n",
    "score += precision_score(prediction_df.actual, prediction_df.predicted)\n",
    "model_score = score / df[df.season == 2019]['round'].unique().max()"
   ]
  },
  {
   "cell_type": "code",
   "execution_count": 343,
   "id": "eb8521d3-693b-4dc1-bc27-b45aecbe3b33",
   "metadata": {},
   "outputs": [
    {
     "ename": "NameError",
     "evalue": "name 'comparison_dict' is not defined",
     "output_type": "error",
     "traceback": [
      "\u001b[1;31m---------------------------------------------------------------------------\u001b[0m",
      "\u001b[1;31mNameError\u001b[0m                                 Traceback (most recent call last)",
      "\u001b[1;32m~\\AppData\\Local\\Temp/ipykernel_4292/3473260058.py\u001b[0m in \u001b[0;36m<module>\u001b[1;34m\u001b[0m\n\u001b[0;32m      9\u001b[0m     \u001b[0mmodel\u001b[0m\u001b[1;33m.\u001b[0m\u001b[0mfit\u001b[0m\u001b[1;33m(\u001b[0m\u001b[0mX_train\u001b[0m\u001b[1;33m,\u001b[0m \u001b[0my_train\u001b[0m\u001b[1;33m)\u001b[0m\u001b[1;33m\u001b[0m\u001b[1;33m\u001b[0m\u001b[0m\n\u001b[0;32m     10\u001b[0m \u001b[1;33m\u001b[0m\u001b[0m\n\u001b[1;32m---> 11\u001b[1;33m     \u001b[0mcomparison_dict\u001b[0m\u001b[1;33m[\u001b[0m\u001b[1;34m'model'\u001b[0m\u001b[1;33m]\u001b[0m\u001b[1;33m.\u001b[0m\u001b[0mappend\u001b[0m\u001b[1;33m(\u001b[0m\u001b[1;34m'linear_regression'\u001b[0m\u001b[1;33m)\u001b[0m\u001b[1;33m\u001b[0m\u001b[1;33m\u001b[0m\u001b[0m\n\u001b[0m\u001b[0;32m     12\u001b[0m     \u001b[0mcomparison_dict\u001b[0m\u001b[1;33m[\u001b[0m\u001b[1;34m'params'\u001b[0m\u001b[1;33m]\u001b[0m\u001b[1;33m.\u001b[0m\u001b[0mappend\u001b[0m\u001b[1;33m(\u001b[0m\u001b[0mmodel_params\u001b[0m\u001b[1;33m)\u001b[0m\u001b[1;33m\u001b[0m\u001b[1;33m\u001b[0m\u001b[0m\n\u001b[0;32m     13\u001b[0m     \u001b[0mcomparison_dict\u001b[0m\u001b[1;33m[\u001b[0m\u001b[1;34m'score'\u001b[0m\u001b[1;33m]\u001b[0m\u001b[1;33m.\u001b[0m\u001b[0mappend\u001b[0m\u001b[1;33m(\u001b[0m\u001b[0mprecision_score\u001b[0m\u001b[1;33m(\u001b[0m\u001b[0mprediction_df\u001b[0m\u001b[1;33m.\u001b[0m\u001b[0mactual\u001b[0m\u001b[1;33m,\u001b[0m \u001b[0mprediction_df\u001b[0m\u001b[1;33m.\u001b[0m\u001b[0mpredicted\u001b[0m\u001b[1;33m)\u001b[0m\u001b[1;33m.\u001b[0m\u001b[0munique\u001b[0m\u001b[1;33m(\u001b[0m\u001b[1;33m)\u001b[0m\u001b[1;33m.\u001b[0m\u001b[0mmax\u001b[0m\u001b[1;33m(\u001b[0m\u001b[1;33m)\u001b[0m\u001b[1;33m)\u001b[0m\u001b[1;33m\u001b[0m\u001b[1;33m\u001b[0m\u001b[0m\n",
      "\u001b[1;31mNameError\u001b[0m: name 'comparison_dict' is not defined"
     ]
    }
   ],
   "source": [
    "from sklearn import svm\n",
    "from sklearn.ensemble import RandomForestRegressor\n",
    "\n",
    "params={'fit_intercept': ['True', 'False']}\n",
    "\n",
    "for fit_intercept in params['fit_intercept']:\n",
    "    model_params = (fit_intercept)\n",
    "    model = LinearRegression(fit_intercept = fit_intercept)\n",
    "    model.fit(X_train, y_train)\n",
    "            \n",
    "    comparison_dict['model'].append('linear_regression')\n",
    "    comparison_dict['params'].append(model_params)\n",
    "    comparison_dict['score'].append(precision_score(prediction_df.actual, prediction_df.predicted).unique().max())\n",
    "\n",
    "    \n",
    "# Random Forest Regressor\n",
    "\n",
    "params={'criterion': ['mse'],\n",
    "        'max_features': [0.8, 'auto', None],\n",
    "        'max_depth': list(np.linspace(5, 55, 26)) + [None]}\n",
    "\n",
    "for criterion in params['criterion']:\n",
    "    for max_features in params['max_features']:\n",
    "        for max_depth in params['max_depth']:\n",
    "            model_params = (criterion, max_features, max_depth)\n",
    "            model = RandomForestRegressor(criterion = criterion,\n",
    "                                          max_features = max_features, max_depth = max_depth, random_state = 1)\n",
    "            model.fit(X_train, y_train)\n",
    "            \n",
    "            model_score = score_regression(model)\n",
    "            \n",
    "            comparison_dict['model'].append('random_forest_regressor')\n",
    "            comparison_dict['params'].append(model_params)\n",
    "            comparison_dict['score'].append(model_score)\n",
    "\n",
    "            \n",
    "# Support Vector Machines\n",
    "\n",
    "params={'gamma': np.logspace(-4, -1, 10),\n",
    "        'C': np.logspace(-2, 1, 10),\n",
    "        'kernel': ['linear', 'poly', 'rbf', 'sigmoid']} \n",
    "\n",
    "for gamma in params['gamma']:\n",
    "    for c in params['C']:\n",
    "        for kernel in params['kernel']:\n",
    "            model_params = (gamma, c, kernel)\n",
    "            model = svm.SVR(gamma = gamma, C = c, kernel = kernel)\n",
    "            model.fit(X_train, y_train)\n",
    "            \n",
    "            model_score = score_regression(model)\n",
    "            \n",
    "            comparison_dict['model'].append('svm_regressor')\n",
    "            comparison_dict['params'].append(model_params)\n",
    "            comparison_dict['score'].append(model_score)\n",
    "\n",
    "            \n",
    "# Neural network\n",
    "\n",
    "params={'hidden_layer_sizes': [(1400,700,200,20), (1000,500,100,10)], \n",
    "        'activation': ['identity', 'relu','logistic', 'tanh',], \n",
    "        'solver': ['lbfgs','sgd', 'adam'], \n",
    "        'alpha': np.logspace(-4,1,20)} \n",
    "\n",
    "for hidden_layer_sizes in params['hidden_layer_sizes']:\n",
    "    for activation in params['activation']:\n",
    "        for solver in params['solver']:\n",
    "            for alpha in params['alpha']:\n",
    "                model_params = (hidden_layer_sizes, activation, solver, alpha )\n",
    "                model = MLPRegressor(hidden_layer_sizes = hidden_layer_sizes,\n",
    "                                      activation = activation, solver = solver, alpha = alpha, random_state = 1)\n",
    "                model.fit(X_train, y_train)\n",
    "\n",
    "                model_score = score_regression(model)\n",
    "\n",
    "                comparison_dict['model'].append('nn_regressor')\n",
    "                comparison_dict['params'].append(model_params)\n",
    "                comparison_dict['score'].append(model_score)\n",
    "  \n",
    "#print best models  \n",
    "pd.DataFrame(comparison_dict).groupby('model')['score'].max()  "
   ]
  },
  {
   "cell_type": "code",
   "execution_count": null,
   "id": "ebd8005b-c360-4374-8e27-c8c8d43a5f27",
   "metadata": {},
   "outputs": [],
   "source": []
  }
 ],
 "metadata": {
  "kernelspec": {
   "display_name": "Python 3 (ipykernel)",
   "language": "python",
   "name": "python3"
  },
  "language_info": {
   "codemirror_mode": {
    "name": "ipython",
    "version": 3
   },
   "file_extension": ".py",
   "mimetype": "text/x-python",
   "name": "python",
   "nbconvert_exporter": "python",
   "pygments_lexer": "ipython3",
   "version": "3.9.7"
  }
 },
 "nbformat": 4,
 "nbformat_minor": 5
}
