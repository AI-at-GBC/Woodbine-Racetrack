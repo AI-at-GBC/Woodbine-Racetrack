{
 "cells": [
  {
   "cell_type": "code",
   "execution_count": 223,
   "id": "71164ce0-e447-4cee-9ff1-cd9a1d15f895",
   "metadata": {},
   "outputs": [],
   "source": [
    "import pandas as pd\n",
    "import numpy as np\n",
    "import glob\n",
    "import os\n",
    "import re\n",
    "from sklearn.preprocessing import OneHotEncoder\n",
    "import numpy as np\n",
    "import pandas as pd\n",
    "import matplotlib.pyplot as plt\n",
    "from sklearn.utils import shuffle\n",
    "from sklearn.preprocessing import LabelEncoder\n",
    "from sklearn import preprocessing, model_selection\n",
    "import tensorflow as tf\n",
    "from sklearn.metrics import confusion_matrix\n",
    "from tensorflow import keras\n",
    "from tensorflow.keras import layers\n",
    "from tensorflow.keras.callbacks import ModelCheckpoint"
   ]
  },
  {
   "cell_type": "code",
   "execution_count": 224,
   "id": "ade465fc-314d-47da-b99a-938bd3c0ae21",
   "metadata": {},
   "outputs": [
    {
     "data": {
      "text/plain": [
       "(4370, 27)"
      ]
     },
     "execution_count": 224,
     "metadata": {},
     "output_type": "execute_result"
    }
   ],
   "source": [
    "df = pd.read_csv('woodbine_horses.csv')\n",
    "df.shape"
   ]
  },
  {
   "cell_type": "code",
   "execution_count": 225,
   "id": "39555956-fd71-48f4-bb5a-928835ea9b21",
   "metadata": {},
   "outputs": [
    {
     "name": "stdout",
     "output_type": "stream",
     "text": [
      "Index(['track', 'card_id', 'race_date', 'breed', 'name', 'weight', 'age',\n",
      "       'sex', 'meds_and_equip', 'jockey', 'dollar_odds', 'program_number',\n",
      "       'post_position', 'claim_price', 'start_position', 'finish_position',\n",
      "       'finish_time', 'speed_rating', 'trainer', 'owner', 'win_payoff',\n",
      "       'place_payoff', 'show_payoff', 'weather', 'distance', 'race_type',\n",
      "       'track_conditions'],\n",
      "      dtype='object')\n"
     ]
    }
   ],
   "source": [
    "print(df.columns)"
   ]
  },
  {
   "cell_type": "code",
   "execution_count": 226,
   "id": "7af033c4-110c-426d-96ca-b12375eea748",
   "metadata": {},
   "outputs": [
    {
     "data": {
      "text/html": [
       "<div>\n",
       "<style scoped>\n",
       "    .dataframe tbody tr th:only-of-type {\n",
       "        vertical-align: middle;\n",
       "    }\n",
       "\n",
       "    .dataframe tbody tr th {\n",
       "        vertical-align: top;\n",
       "    }\n",
       "\n",
       "    .dataframe thead th {\n",
       "        text-align: right;\n",
       "    }\n",
       "</style>\n",
       "<table border=\"1\" class=\"dataframe\">\n",
       "  <thead>\n",
       "    <tr style=\"text-align: right;\">\n",
       "      <th></th>\n",
       "      <th>track</th>\n",
       "      <th>card_id</th>\n",
       "      <th>race_date</th>\n",
       "      <th>breed</th>\n",
       "      <th>name</th>\n",
       "      <th>weight</th>\n",
       "      <th>age</th>\n",
       "      <th>sex</th>\n",
       "      <th>meds_and_equip</th>\n",
       "      <th>jockey</th>\n",
       "      <th>...</th>\n",
       "      <th>speed_rating</th>\n",
       "      <th>trainer</th>\n",
       "      <th>owner</th>\n",
       "      <th>win_payoff</th>\n",
       "      <th>place_payoff</th>\n",
       "      <th>show_payoff</th>\n",
       "      <th>weather</th>\n",
       "      <th>distance</th>\n",
       "      <th>race_type</th>\n",
       "      <th>track_conditions</th>\n",
       "    </tr>\n",
       "  </thead>\n",
       "  <tbody>\n",
       "    <tr>\n",
       "      <th>0</th>\n",
       "      <td>WO</td>\n",
       "      <td>D</td>\n",
       "      <td>2015-06-20 00:00:00</td>\n",
       "      <td>TB</td>\n",
       "      <td>Madam Premier</td>\n",
       "      <td>119</td>\n",
       "      <td>4</td>\n",
       "      <td>M</td>\n",
       "      <td>Lb</td>\n",
       "      <td>S   Ryan</td>\n",
       "      <td>...</td>\n",
       "      <td>44.0</td>\n",
       "      <td>O'Keefe Thomas</td>\n",
       "      <td>Emily Anne Walker</td>\n",
       "      <td>0.0</td>\n",
       "      <td>0.0</td>\n",
       "      <td>0.0</td>\n",
       "      <td>Cloudy</td>\n",
       "      <td>900.0</td>\n",
       "      <td>Claiming</td>\n",
       "      <td>FT</td>\n",
       "    </tr>\n",
       "    <tr>\n",
       "      <th>1</th>\n",
       "      <td>WO</td>\n",
       "      <td>D</td>\n",
       "      <td>2015-07-19 00:00:00</td>\n",
       "      <td>TB</td>\n",
       "      <td>Notion Sonet</td>\n",
       "      <td>118</td>\n",
       "      <td>3</td>\n",
       "      <td>C</td>\n",
       "      <td>L</td>\n",
       "      <td>L   Contreras</td>\n",
       "      <td>...</td>\n",
       "      <td>96.0</td>\n",
       "      <td>Carroll Josie</td>\n",
       "      <td>Ivan Dalos</td>\n",
       "      <td>0.0</td>\n",
       "      <td>0.0</td>\n",
       "      <td>0.0</td>\n",
       "      <td>Cloudy</td>\n",
       "      <td>650.0</td>\n",
       "      <td>Allowance</td>\n",
       "      <td>FT</td>\n",
       "    </tr>\n",
       "    <tr>\n",
       "      <th>2</th>\n",
       "      <td>WO</td>\n",
       "      <td>D</td>\n",
       "      <td>2015-07-25 00:00:00</td>\n",
       "      <td>TB</td>\n",
       "      <td>Big Red Bugsy</td>\n",
       "      <td>121</td>\n",
       "      <td>5</td>\n",
       "      <td>G</td>\n",
       "      <td>L</td>\n",
       "      <td>S R Bahen</td>\n",
       "      <td>...</td>\n",
       "      <td>83.0</td>\n",
       "      <td>Fournier Mark</td>\n",
       "      <td>Carruthers, Carruthers, Carruthers, Carruthers...</td>\n",
       "      <td>0.0</td>\n",
       "      <td>0.0</td>\n",
       "      <td>0.0</td>\n",
       "      <td>Cloudy</td>\n",
       "      <td>700.0</td>\n",
       "      <td>Claiming</td>\n",
       "      <td>FT</td>\n",
       "    </tr>\n",
       "    <tr>\n",
       "      <th>3</th>\n",
       "      <td>WO</td>\n",
       "      <td>D</td>\n",
       "      <td>2015-08-14 00:00:00</td>\n",
       "      <td>TB</td>\n",
       "      <td>Lillz Pearl</td>\n",
       "      <td>121</td>\n",
       "      <td>5</td>\n",
       "      <td>G</td>\n",
       "      <td>Lb</td>\n",
       "      <td>J   McAleney</td>\n",
       "      <td>...</td>\n",
       "      <td>88.0</td>\n",
       "      <td>Singh Ricky</td>\n",
       "      <td>Ricky Singh</td>\n",
       "      <td>0.0</td>\n",
       "      <td>5.7</td>\n",
       "      <td>3.3</td>\n",
       "      <td>Clear</td>\n",
       "      <td>500.0</td>\n",
       "      <td>Allowance</td>\n",
       "      <td>FT</td>\n",
       "    </tr>\n",
       "    <tr>\n",
       "      <th>4</th>\n",
       "      <td>WO</td>\n",
       "      <td>D</td>\n",
       "      <td>2015-08-29 00:00:00</td>\n",
       "      <td>TB</td>\n",
       "      <td>Sweet Rose</td>\n",
       "      <td>121</td>\n",
       "      <td>4</td>\n",
       "      <td>F</td>\n",
       "      <td>NaN</td>\n",
       "      <td>L   Contreras</td>\n",
       "      <td>...</td>\n",
       "      <td>86.0</td>\n",
       "      <td>Attard Sid C</td>\n",
       "      <td>Stronach Stables</td>\n",
       "      <td>0.0</td>\n",
       "      <td>0.0</td>\n",
       "      <td>3.1</td>\n",
       "      <td>Cloudy</td>\n",
       "      <td>500.0</td>\n",
       "      <td>Allowance</td>\n",
       "      <td>FT</td>\n",
       "    </tr>\n",
       "  </tbody>\n",
       "</table>\n",
       "<p>5 rows × 27 columns</p>\n",
       "</div>"
      ],
      "text/plain": [
       "  track card_id            race_date breed           name  weight  age sex  \\\n",
       "0   WO        D  2015-06-20 00:00:00    TB  Madam Premier     119    4   M   \n",
       "1   WO        D  2015-07-19 00:00:00    TB   Notion Sonet     118    3   C   \n",
       "2   WO        D  2015-07-25 00:00:00    TB  Big Red Bugsy     121    5   G   \n",
       "3   WO        D  2015-08-14 00:00:00    TB    Lillz Pearl     121    5   G   \n",
       "4   WO        D  2015-08-29 00:00:00    TB     Sweet Rose     121    4   F   \n",
       "\n",
       "  meds_and_equip         jockey  ...  speed_rating         trainer  \\\n",
       "0             Lb       S   Ryan  ...          44.0  O'Keefe Thomas   \n",
       "1              L  L   Contreras  ...          96.0   Carroll Josie   \n",
       "2              L      S R Bahen  ...          83.0   Fournier Mark   \n",
       "3             Lb   J   McAleney  ...          88.0     Singh Ricky   \n",
       "4            NaN  L   Contreras  ...          86.0    Attard Sid C   \n",
       "\n",
       "                                               owner  win_payoff  \\\n",
       "0                                  Emily Anne Walker         0.0   \n",
       "1                                         Ivan Dalos         0.0   \n",
       "2  Carruthers, Carruthers, Carruthers, Carruthers...         0.0   \n",
       "3                                        Ricky Singh         0.0   \n",
       "4                                   Stronach Stables         0.0   \n",
       "\n",
       "   place_payoff  show_payoff  weather  distance  race_type track_conditions  \n",
       "0           0.0          0.0   Cloudy     900.0   Claiming               FT  \n",
       "1           0.0          0.0   Cloudy     650.0  Allowance               FT  \n",
       "2           0.0          0.0   Cloudy     700.0   Claiming               FT  \n",
       "3           5.7          3.3    Clear     500.0  Allowance               FT  \n",
       "4           0.0          3.1   Cloudy     500.0  Allowance               FT  \n",
       "\n",
       "[5 rows x 27 columns]"
      ]
     },
     "execution_count": 226,
     "metadata": {},
     "output_type": "execute_result"
    }
   ],
   "source": [
    "#Exploratory analysis\n",
    "df.head()"
   ]
  },
  {
   "cell_type": "code",
   "execution_count": 227,
   "id": "5d067598-678e-4996-b993-c924ead88136",
   "metadata": {},
   "outputs": [
    {
     "data": {
      "text/plain": [
       "WO     4370\n",
       "Name: track, dtype: int64"
      ]
     },
     "execution_count": 227,
     "metadata": {},
     "output_type": "execute_result"
    }
   ],
   "source": [
    "#There's only 1 value for the track feature, making it unnecessary\n",
    "df['track'].value_counts()"
   ]
  },
  {
   "cell_type": "code",
   "execution_count": 228,
   "id": "5f9a1652-c122-447a-aae4-4b5c0fe3ee28",
   "metadata": {},
   "outputs": [
    {
     "data": {
      "text/plain": [
       "D    4370\n",
       "Name: card_id, dtype: int64"
      ]
     },
     "execution_count": 228,
     "metadata": {},
     "output_type": "execute_result"
    }
   ],
   "source": [
    "#There's only 1 value for the track feature, making it unnecessary\n",
    "df['card_id'].value_counts()"
   ]
  },
  {
   "cell_type": "code",
   "execution_count": 229,
   "id": "bb26c2aa-8249-4305-bcdd-69db76520921",
   "metadata": {},
   "outputs": [
    {
     "data": {
      "text/plain": [
       "2016-10-16 00:00:00    106\n",
       "2016-09-25 00:00:00     92\n",
       "2016-10-29 00:00:00     89\n",
       "2016-10-09 00:00:00     89\n",
       "2016-09-17 00:00:00     88\n",
       "                      ... \n",
       "2016-05-19 00:00:00      1\n",
       "2016-05-15 00:00:00      1\n",
       "2016-05-14 00:00:00      1\n",
       "2016-05-13 00:00:00      1\n",
       "2017-04-05 00:00:00      1\n",
       "Name: race_date, Length: 205, dtype: int64"
      ]
     },
     "execution_count": 229,
     "metadata": {},
     "output_type": "execute_result"
    }
   ],
   "source": [
    "df['race_date'].value_counts()"
   ]
  },
  {
   "cell_type": "code",
   "execution_count": 230,
   "id": "853aa525-7036-4969-a718-01a7faffe592",
   "metadata": {},
   "outputs": [
    {
     "data": {
      "text/plain": [
       "TB    4370\n",
       "Name: breed, dtype: int64"
      ]
     },
     "execution_count": 230,
     "metadata": {},
     "output_type": "execute_result"
    }
   ],
   "source": [
    "df['breed'].value_counts()"
   ]
  },
  {
   "cell_type": "code",
   "execution_count": 126,
   "id": "85a0f7cc-bb23-400f-a163-b509be0a5458",
   "metadata": {},
   "outputs": [
    {
     "data": {
      "text/plain": [
       "Primordia               9\n",
       "Cape Zavata             8\n",
       "Foxy Phill              8\n",
       "Erie Breeze             8\n",
       "Buckden House           8\n",
       "                       ..\n",
       "dq-Too Many Egbert's    1\n",
       "Nezwaah (GB)            1\n",
       "Bangla Dancer           1\n",
       "Uncle Shaggy            1\n",
       "My Cantata              1\n",
       "Name: name, Length: 1600, dtype: int64"
      ]
     },
     "execution_count": 126,
     "metadata": {},
     "output_type": "execute_result"
    }
   ],
   "source": [
    "df['name'].value_counts()"
   ]
  },
  {
   "cell_type": "code",
   "execution_count": 127,
   "id": "03053399-6a88-4fcc-8d27-fe7d47b67d98",
   "metadata": {},
   "outputs": [
    {
     "data": {
      "text/plain": [
       "119    1119\n",
       "121    1064\n",
       "118     587\n",
       "120     417\n",
       "0       317\n",
       "117     237\n",
       "123     198\n",
       "116     162\n",
       "115     100\n",
       "114      83\n",
       "122      44\n",
       "124      15\n",
       "113      13\n",
       "126      12\n",
       "112       1\n",
       "109       1\n",
       "Name: weight, dtype: int64"
      ]
     },
     "execution_count": 127,
     "metadata": {},
     "output_type": "execute_result"
    }
   ],
   "source": [
    "df['weight'].value_counts()"
   ]
  },
  {
   "cell_type": "code",
   "execution_count": 128,
   "id": "996fd21b-683f-4757-a00a-b904cab7d05a",
   "metadata": {},
   "outputs": [
    {
     "data": {
      "text/plain": [
       "3     1181\n",
       "4     1023\n",
       "2      674\n",
       "5      562\n",
       "6      331\n",
       "0      317\n",
       "7      208\n",
       "8       44\n",
       "9       23\n",
       "10       4\n",
       "11       3\n",
       "Name: age, dtype: int64"
      ]
     },
     "execution_count": 128,
     "metadata": {},
     "output_type": "execute_result"
    }
   ],
   "source": [
    "df['age'].value_counts()"
   ]
  },
  {
   "cell_type": "code",
   "execution_count": 129,
   "id": "7fb562e4-954e-4903-8d0c-eee7444997e2",
   "metadata": {},
   "outputs": [
    {
     "data": {
      "text/plain": [
       "G    1824\n",
       "F    1060\n",
       "M     853\n",
       "C     184\n",
       "H     111\n",
       "R      21\n",
       "Name: sex, dtype: int64"
      ]
     },
     "execution_count": 129,
     "metadata": {},
     "output_type": "execute_result"
    }
   ],
   "source": [
    "df['sex'].value_counts()"
   ]
  },
  {
   "cell_type": "code",
   "execution_count": 130,
   "id": "88226229-8322-4386-8659-25a0e8c4445c",
   "metadata": {},
   "outputs": [
    {
     "data": {
      "text/plain": [
       "Lb      1709\n",
       "L       1533\n",
       "Lbf      243\n",
       "Lf       213\n",
       "b        131\n",
       "Ly        14\n",
       "Lv        13\n",
       "y         10\n",
       "bf         8\n",
       "Lby        6\n",
       "f          5\n",
       "Lvf        5\n",
       "Lfy        5\n",
       "by         4\n",
       "v          4\n",
       "Lbfy       1\n",
       "bfy        1\n",
       "Lbfr       1\n",
       "Lbr        1\n",
       "Name: meds_and_equip, dtype: int64"
      ]
     },
     "execution_count": 130,
     "metadata": {},
     "output_type": "execute_result"
    }
   ],
   "source": [
    "df['meds_and_equip'].value_counts()"
   ]
  },
  {
   "cell_type": "code",
   "execution_count": 131,
   "id": "617e286c-4335-4752-be3b-71c86a81f443",
   "metadata": {},
   "outputs": [
    {
     "data": {
      "text/plain": [
       "E R Da Silva     285\n",
       "R M Hernandez    284\n",
       "L   Contreras    258\n",
       "G   Boulanger    249\n",
       "D   Moran        240\n",
       "                ... \n",
       "W T Buick          1\n",
       "C P DeCarlo        1\n",
       "O   Murphy         1\n",
       "P   Morales        1\n",
       "H F Newell         1\n",
       "Name: jockey, Length: 86, dtype: int64"
      ]
     },
     "execution_count": 131,
     "metadata": {},
     "output_type": "execute_result"
    }
   ],
   "source": [
    "df['jockey'].value_counts()"
   ]
  },
  {
   "cell_type": "code",
   "execution_count": 132,
   "id": "22b77f31-6b0d-416d-9beb-65ab5e6ebd35",
   "metadata": {},
   "outputs": [
    {
     "data": {
      "text/plain": [
       "0.00      319\n",
       "2.65       26\n",
       "3.00       25\n",
       "2.80       24\n",
       "2.20       22\n",
       "         ... \n",
       "79.35       1\n",
       "158.15      1\n",
       "19.20       1\n",
       "76.35       1\n",
       "25.40       1\n",
       "Name: dollar_odds, Length: 1212, dtype: int64"
      ]
     },
     "execution_count": 132,
     "metadata": {},
     "output_type": "execute_result"
    }
   ],
   "source": [
    "df['dollar_odds'].value_counts()"
   ]
  },
  {
   "cell_type": "code",
   "execution_count": 133,
   "id": "112608d1-316d-4b31-9cfc-ad606855fd8f",
   "metadata": {},
   "outputs": [
    {
     "data": {
      "text/plain": [
       "5.0     446\n",
       "2.0     443\n",
       "1.0     436\n",
       "4.0     435\n",
       "3.0     433\n",
       "6.0     430\n",
       "7.0     383\n",
       "8.0     323\n",
       "9.0     240\n",
       "10.0    161\n",
       "11.0    121\n",
       "12.0     90\n",
       "13.0     55\n",
       "14.0     42\n",
       "15.0     10\n",
       "16.0      5\n",
       "Name: program_number, dtype: int64"
      ]
     },
     "execution_count": 133,
     "metadata": {},
     "output_type": "execute_result"
    }
   ],
   "source": [
    "df['program_number'].value_counts()"
   ]
  },
  {
   "cell_type": "code",
   "execution_count": 134,
   "id": "cee09b1f-c9d7-40cb-b9db-6abfec0aadbc",
   "metadata": {},
   "outputs": [
    {
     "data": {
      "text/plain": [
       "1     461\n",
       "2     459\n",
       "3     457\n",
       "4     455\n",
       "5     454\n",
       "6     448\n",
       "7     383\n",
       "0     317\n",
       "8     313\n",
       "9     228\n",
       "10    144\n",
       "11    107\n",
       "12     78\n",
       "13     40\n",
       "14     26\n",
       "Name: post_position, dtype: int64"
      ]
     },
     "execution_count": 134,
     "metadata": {},
     "output_type": "execute_result"
    }
   ],
   "source": [
    "df['post_position'].value_counts()"
   ]
  },
  {
   "cell_type": "code",
   "execution_count": 135,
   "id": "9bb70280-1fc5-4a3e-9f64-62d52177f5e4",
   "metadata": {},
   "outputs": [
    {
     "data": {
      "text/plain": [
       "0        1859\n",
       "9500      475\n",
       "20000     270\n",
       "10000     264\n",
       "40000     245\n",
       "7500      172\n",
       "19000     135\n",
       "8000      121\n",
       "6000      110\n",
       "37500     105\n",
       "12500      87\n",
       "25000      85\n",
       "11500      82\n",
       "32000      67\n",
       "16000      64\n",
       "15000      54\n",
       "6250       45\n",
       "30000      33\n",
       "60000      30\n",
       "62500      20\n",
       "23500      20\n",
       "75000      12\n",
       "50000       9\n",
       "47500       4\n",
       "72500       1\n",
       "80000       1\n",
       "Name: claim_price, dtype: int64"
      ]
     },
     "execution_count": 135,
     "metadata": {},
     "output_type": "execute_result"
    }
   ],
   "source": [
    "df['claim_price'].value_counts()"
   ]
  },
  {
   "cell_type": "code",
   "execution_count": 136,
   "id": "3b1fa226-789e-4186-b09e-df2965a259e8",
   "metadata": {},
   "outputs": [
    {
     "data": {
      "text/plain": [
       "1.0     464\n",
       "3.0     458\n",
       "4.0     456\n",
       "2.0     451\n",
       "5.0     438\n",
       "6.0     432\n",
       "0.0     409\n",
       "7.0     373\n",
       "8.0     300\n",
       "9.0     211\n",
       "10.0    139\n",
       "11.0    102\n",
       "12.0     72\n",
       "13.0     39\n",
       "14.0     26\n",
       "Name: start_position, dtype: int64"
      ]
     },
     "execution_count": 136,
     "metadata": {},
     "output_type": "execute_result"
    }
   ],
   "source": [
    "df['start_position'].value_counts()"
   ]
  },
  {
   "cell_type": "code",
   "execution_count": 137,
   "id": "d97f173d-d9b0-4ca6-968b-191e09d59c34",
   "metadata": {},
   "outputs": [
    {
     "data": {
      "text/plain": [
       "3.0     470\n",
       "2.0     466\n",
       "1.0     464\n",
       "4.0     457\n",
       "5.0     454\n",
       "6.0     444\n",
       "7.0     383\n",
       "0.0     317\n",
       "8.0     305\n",
       "9.0     227\n",
       "10.0    139\n",
       "11.0    104\n",
       "12.0     73\n",
       "13.0     41\n",
       "14.0     26\n",
       "Name: finish_position, dtype: int64"
      ]
     },
     "execution_count": 137,
     "metadata": {},
     "output_type": "execute_result"
    }
   ],
   "source": [
    "df['finish_position'].value_counts()"
   ]
  },
  {
   "cell_type": "code",
   "execution_count": 138,
   "id": "9ca70758-3ff0-4aa9-acd7-c1bac6e96af2",
   "metadata": {},
   "outputs": [
    {
     "data": {
      "text/plain": [
       "0.0    4053\n",
       "Name: finish_time, dtype: int64"
      ]
     },
     "execution_count": 138,
     "metadata": {},
     "output_type": "execute_result"
    }
   ],
   "source": [
    "df['finish_time'].value_counts()"
   ]
  },
  {
   "cell_type": "code",
   "execution_count": 139,
   "id": "e389ab73-6edd-4d59-961b-1a746efb3924",
   "metadata": {},
   "outputs": [
    {
     "data": {
      "text/plain": [
       "68.0     119\n",
       "80.0     117\n",
       "72.0     113\n",
       "69.0     112\n",
       "75.0     111\n",
       "        ... \n",
       "22.0       1\n",
       "19.0       1\n",
       "17.0       1\n",
       "27.0       1\n",
       "107.0      1\n",
       "Name: speed_rating, Length: 118, dtype: int64"
      ]
     },
     "execution_count": 139,
     "metadata": {},
     "output_type": "execute_result"
    }
   ],
   "source": [
    "df['speed_rating'].value_counts()"
   ]
  },
  {
   "cell_type": "code",
   "execution_count": 140,
   "id": "5f74fd63-b81f-4529-9378-f62d250d8019",
   "metadata": {},
   "outputs": [
    {
     "data": {
      "text/plain": [
       "Casse Mark E          158\n",
       "Attard Kevin          106\n",
       "De Paulo Michael P     98\n",
       "McKnight Norman        94\n",
       "Doyle Michael J        88\n",
       "                     ... \n",
       "Benson Liam Daniel      1\n",
       "Connelly Teresa         1\n",
       "Hickst Waldemar         1\n",
       "Concessi Armand         1\n",
       "Smith Andrew            1\n",
       "Name: trainer, Length: 285, dtype: int64"
      ]
     },
     "execution_count": 140,
     "metadata": {},
     "output_type": "execute_result"
    }
   ],
   "source": [
    "df['trainer'].value_counts()"
   ]
  },
  {
   "cell_type": "code",
   "execution_count": 141,
   "id": "be05be2f-40d1-42af-8e70-9b6856f48699",
   "metadata": {},
   "outputs": [
    {
     "data": {
      "text/plain": [
       "Colebrook Farms                                 62\n",
       "Bruno Schickedanz                               58\n",
       "Joey Gee Thoroughbreds                          47\n",
       "Tucci Stables                                   45\n",
       "Chiefswood Stable                               45\n",
       "                                                ..\n",
       "Silver King Farm                                 1\n",
       "Sheikh Ahmed Al Maktoum Lessee and Godolphin     1\n",
       "Golden Eagle Farm                                1\n",
       "Ramsey, Kenneth L. and Sarah K.                  1\n",
       "JMC's Racing Stable                              1\n",
       "Name: owner, Length: 864, dtype: int64"
      ]
     },
     "execution_count": 141,
     "metadata": {},
     "output_type": "execute_result"
    }
   ],
   "source": [
    "df['owner'].value_counts()"
   ]
  },
  {
   "cell_type": "code",
   "execution_count": 142,
   "id": "d14be57a-0680-454d-be6f-7637bcc1fccf",
   "metadata": {},
   "outputs": [
    {
     "data": {
      "text/plain": [
       "0.0     3906\n",
       "5.5        9\n",
       "6.5        9\n",
       "4.7        8\n",
       "5.7        8\n",
       "        ... \n",
       "46.0       1\n",
       "44.8       1\n",
       "35.8       1\n",
       "14.0       1\n",
       "19.5       1\n",
       "Name: win_payoff, Length: 194, dtype: int64"
      ]
     },
     "execution_count": 142,
     "metadata": {},
     "output_type": "execute_result"
    }
   ],
   "source": [
    "df['win_payoff'].value_counts()"
   ]
  },
  {
   "cell_type": "code",
   "execution_count": 143,
   "id": "1dc3c289-19d9-4ce8-bfa1-fef1fdbbf428",
   "metadata": {},
   "outputs": [
    {
     "data": {
      "text/plain": [
       "0.0     3440\n",
       "3.0       29\n",
       "2.9       29\n",
       "3.6       28\n",
       "3.3       26\n",
       "        ... \n",
       "14.8       1\n",
       "25.8       1\n",
       "22.3       1\n",
       "14.7       1\n",
       "27.7       1\n",
       "Name: place_payoff, Length: 157, dtype: int64"
      ]
     },
     "execution_count": 143,
     "metadata": {},
     "output_type": "execute_result"
    }
   ],
   "source": [
    "df['place_payoff'].value_counts()"
   ]
  },
  {
   "cell_type": "code",
   "execution_count": 144,
   "id": "70f385a5-920b-4eac-bf37-29ae9ebf36af",
   "metadata": {},
   "outputs": [
    {
     "data": {
      "text/plain": [
       "0.0     2994\n",
       "2.1       83\n",
       "2.9       61\n",
       "2.8       59\n",
       "2.6       57\n",
       "        ... \n",
       "11.1       1\n",
       "12.9       1\n",
       "19.8       1\n",
       "14.6       1\n",
       "44.9       1\n",
       "Name: show_payoff, Length: 117, dtype: int64"
      ]
     },
     "execution_count": 144,
     "metadata": {},
     "output_type": "execute_result"
    }
   ],
   "source": [
    "df['show_payoff'].value_counts()"
   ]
  },
  {
   "cell_type": "code",
   "execution_count": 145,
   "id": "3854d586-f845-4b6e-b085-4dd800129a71",
   "metadata": {},
   "outputs": [
    {
     "data": {
      "text/plain": [
       "Cloudy     3145\n",
       "Showery     544\n",
       "Clear       425\n",
       "Rainy       231\n",
       "Snowing      25\n",
       "Name: weather, dtype: int64"
      ]
     },
     "execution_count": 145,
     "metadata": {},
     "output_type": "execute_result"
    }
   ],
   "source": [
    "df['weather'].value_counts()"
   ]
  },
  {
   "cell_type": "code",
   "execution_count": 146,
   "id": "511b5e10-9e7d-47c9-b8c5-0f98c6ca2f21",
   "metadata": {},
   "outputs": [
    {
     "data": {
      "text/plain": [
       "850.0     1083\n",
       "600.0      920\n",
       "700.0      788\n",
       "650.0      525\n",
       "500.0      386\n",
       "900.0      343\n",
       "800.0      152\n",
       "550.0       78\n",
       "1000.0      39\n",
       "1200.0      25\n",
       "1400.0      14\n",
       "1500.0       9\n",
       "1300.0       8\n",
       "Name: distance, dtype: int64"
      ]
     },
     "execution_count": 146,
     "metadata": {},
     "output_type": "execute_result"
    }
   ],
   "source": [
    "df['distance'].value_counts()"
   ]
  },
  {
   "cell_type": "code",
   "execution_count": 147,
   "id": "c375fdf0-9e62-4c58-98be-b1088ae80ecb",
   "metadata": {},
   "outputs": [
    {
     "data": {
      "text/plain": [
       "Claiming                       1756\n",
       "Maiden Claiming                 797\n",
       "Allowance                       600\n",
       "Maiden Special Weight           424\n",
       "Stakes                          365\n",
       "Allowance Optional Claiming     188\n",
       "Maiden Optional Claiming        140\n",
       "Starters Allowance               85\n",
       "Optional Claiming                15\n",
       "Name: race_type, dtype: int64"
      ]
     },
     "execution_count": 147,
     "metadata": {},
     "output_type": "execute_result"
    }
   ],
   "source": [
    "df['race_type'].value_counts()"
   ]
  },
  {
   "cell_type": "code",
   "execution_count": 148,
   "id": "b5259b66-2b65-48ee-8e2a-ebb38de7eeb3",
   "metadata": {},
   "outputs": [
    {
     "data": {
      "text/plain": [
       "FT    3771\n",
       "GD     340\n",
       "FM     252\n",
       "YL       7\n",
       "Name: track_conditions, dtype: int64"
      ]
     },
     "execution_count": 148,
     "metadata": {},
     "output_type": "execute_result"
    }
   ],
   "source": [
    "df['track_conditions'].value_counts()"
   ]
  },
  {
   "cell_type": "code",
   "execution_count": 231,
   "id": "06d655f8-6646-4666-a4a7-9c189ac5a012",
   "metadata": {},
   "outputs": [
    {
     "name": "stdout",
     "output_type": "stream",
     "text": [
      "<class 'pandas.core.frame.DataFrame'>\n",
      "RangeIndex: 4370 entries, 0 to 4369\n",
      "Data columns (total 23 columns):\n",
      " #   Column            Non-Null Count  Dtype  \n",
      "---  ------            --------------  -----  \n",
      " 0   race_date         4370 non-null   object \n",
      " 1   name              4370 non-null   object \n",
      " 2   weight            4370 non-null   int64  \n",
      " 3   age               4370 non-null   int64  \n",
      " 4   sex               4053 non-null   object \n",
      " 5   meds_and_equip    3907 non-null   object \n",
      " 6   jockey            4053 non-null   object \n",
      " 7   dollar_odds       4370 non-null   float64\n",
      " 8   program_number    4053 non-null   float64\n",
      " 9   post_position     4370 non-null   int64  \n",
      " 10  claim_price       4370 non-null   int64  \n",
      " 11  start_position    4370 non-null   float64\n",
      " 12  finish_position   4370 non-null   float64\n",
      " 13  speed_rating      4053 non-null   float64\n",
      " 14  trainer           4053 non-null   object \n",
      " 15  owner             4053 non-null   object \n",
      " 16  win_payoff        4370 non-null   float64\n",
      " 17  place_payoff      4370 non-null   float64\n",
      " 18  show_payoff       4370 non-null   float64\n",
      " 19  weather           4370 non-null   object \n",
      " 20  distance          4370 non-null   float64\n",
      " 21  race_type         4370 non-null   object \n",
      " 22  track_conditions  4370 non-null   object \n",
      "dtypes: float64(9), int64(4), object(10)\n",
      "memory usage: 785.4+ KB\n"
     ]
    }
   ],
   "source": [
    "df = df.drop(['track', 'card_id', 'breed', 'finish_time'], axis=1)\n",
    "df.info()"
   ]
  },
  {
   "cell_type": "code",
   "execution_count": 232,
   "id": "aeb31f65-6669-4b89-a14d-355b34707916",
   "metadata": {},
   "outputs": [
    {
     "name": "stdout",
     "output_type": "stream",
     "text": [
      "<class 'pandas.core.frame.DataFrame'>\n",
      "Int64Index: 4053 entries, 0 to 4369\n",
      "Data columns (total 23 columns):\n",
      " #   Column            Non-Null Count  Dtype  \n",
      "---  ------            --------------  -----  \n",
      " 0   race_date         4053 non-null   object \n",
      " 1   name              4053 non-null   object \n",
      " 2   weight            4053 non-null   int64  \n",
      " 3   age               4053 non-null   int64  \n",
      " 4   sex               4053 non-null   object \n",
      " 5   meds_and_equip    3907 non-null   object \n",
      " 6   jockey            4053 non-null   object \n",
      " 7   dollar_odds       4053 non-null   float64\n",
      " 8   program_number    4053 non-null   float64\n",
      " 9   post_position     4053 non-null   int64  \n",
      " 10  claim_price       4053 non-null   int64  \n",
      " 11  start_position    4053 non-null   float64\n",
      " 12  finish_position   4053 non-null   float64\n",
      " 13  speed_rating      4053 non-null   float64\n",
      " 14  trainer           4053 non-null   object \n",
      " 15  owner             4053 non-null   object \n",
      " 16  win_payoff        4053 non-null   float64\n",
      " 17  place_payoff      4053 non-null   float64\n",
      " 18  show_payoff       4053 non-null   float64\n",
      " 19  weather           4053 non-null   object \n",
      " 20  distance          4053 non-null   float64\n",
      " 21  race_type         4053 non-null   object \n",
      " 22  track_conditions  4053 non-null   object \n",
      "dtypes: float64(9), int64(4), object(10)\n",
      "memory usage: 759.9+ KB\n"
     ]
    }
   ],
   "source": [
    "#Upon review there are numerous records with missing values, only including basic information making them unsuitable for our model\n",
    "df.dropna(subset = [\"trainer\"], inplace=True)\n",
    "df.info()"
   ]
  },
  {
   "cell_type": "code",
   "execution_count": 233,
   "id": "3827c2cc-99cf-4212-97af-3850b30b7937",
   "metadata": {},
   "outputs": [
    {
     "name": "stdout",
     "output_type": "stream",
     "text": [
      "<class 'pandas.core.frame.DataFrame'>\n",
      "Int64Index: 4053 entries, 0 to 4369\n",
      "Data columns (total 23 columns):\n",
      " #   Column            Non-Null Count  Dtype  \n",
      "---  ------            --------------  -----  \n",
      " 0   race_date         4053 non-null   object \n",
      " 1   name              4053 non-null   object \n",
      " 2   weight            4053 non-null   int64  \n",
      " 3   age               4053 non-null   int64  \n",
      " 4   sex               4053 non-null   object \n",
      " 5   meds_and_equip    3907 non-null   object \n",
      " 6   jockey            4053 non-null   object \n",
      " 7   dollar_odds       4053 non-null   float64\n",
      " 8   program_number    4053 non-null   float64\n",
      " 9   post_position     4053 non-null   int64  \n",
      " 10  claim_price       4053 non-null   int64  \n",
      " 11  start_position    4053 non-null   float64\n",
      " 12  finish_position   4053 non-null   float64\n",
      " 13  speed_rating      4053 non-null   float64\n",
      " 14  trainer           4053 non-null   object \n",
      " 15  owner             4053 non-null   object \n",
      " 16  win_payoff        4053 non-null   float64\n",
      " 17  place_payoff      4053 non-null   float64\n",
      " 18  show_payoff       4053 non-null   float64\n",
      " 19  weather           4053 non-null   object \n",
      " 20  distance          4053 non-null   float64\n",
      " 21  race_type         4053 non-null   object \n",
      " 22  track_conditions  4053 non-null   object \n",
      "dtypes: float64(9), int64(4), object(10)\n",
      "memory usage: 759.9+ KB\n"
     ]
    }
   ],
   "source": [
    "'''Upon review of the 'meds and equipment' feature, there are some missing values.  Looked up the codes in the dataframe, and\n",
    "'L' represents no equipment.  Changed all Nulls to L'''\n",
    "df['meds_and_equip'].fillna(value='L')\n",
    "df.info()"
   ]
  },
  {
   "cell_type": "code",
   "execution_count": 234,
   "id": "1400659c-5ab2-4f40-8902-4c5ef2b0f738",
   "metadata": {},
   "outputs": [
    {
     "data": {
      "text/html": [
       "<div>\n",
       "<style scoped>\n",
       "    .dataframe tbody tr th:only-of-type {\n",
       "        vertical-align: middle;\n",
       "    }\n",
       "\n",
       "    .dataframe tbody tr th {\n",
       "        vertical-align: top;\n",
       "    }\n",
       "\n",
       "    .dataframe thead th {\n",
       "        text-align: right;\n",
       "    }\n",
       "</style>\n",
       "<table border=\"1\" class=\"dataframe\">\n",
       "  <thead>\n",
       "    <tr style=\"text-align: right;\">\n",
       "      <th></th>\n",
       "      <th>race_date</th>\n",
       "      <th>name</th>\n",
       "      <th>weight</th>\n",
       "      <th>age</th>\n",
       "      <th>sex</th>\n",
       "      <th>meds_and_equip</th>\n",
       "      <th>jockey</th>\n",
       "      <th>dollar_odds</th>\n",
       "      <th>program_number</th>\n",
       "      <th>post_position</th>\n",
       "      <th>...</th>\n",
       "      <th>speed_rating</th>\n",
       "      <th>trainer</th>\n",
       "      <th>owner</th>\n",
       "      <th>win_payoff</th>\n",
       "      <th>place_payoff</th>\n",
       "      <th>show_payoff</th>\n",
       "      <th>weather</th>\n",
       "      <th>distance</th>\n",
       "      <th>race_type</th>\n",
       "      <th>track_conditions</th>\n",
       "    </tr>\n",
       "  </thead>\n",
       "  <tbody>\n",
       "    <tr>\n",
       "      <th>0</th>\n",
       "      <td>2015-06-20 00:00:00</td>\n",
       "      <td>Madam Premier</td>\n",
       "      <td>119</td>\n",
       "      <td>4</td>\n",
       "      <td>M</td>\n",
       "      <td>Lb</td>\n",
       "      <td>S   Ryan</td>\n",
       "      <td>7.20</td>\n",
       "      <td>1.0</td>\n",
       "      <td>1</td>\n",
       "      <td>...</td>\n",
       "      <td>44.0</td>\n",
       "      <td>O'Keefe Thomas</td>\n",
       "      <td>Emily Anne Walker</td>\n",
       "      <td>0.0</td>\n",
       "      <td>0.0</td>\n",
       "      <td>0.0</td>\n",
       "      <td>Cloudy</td>\n",
       "      <td>900.0</td>\n",
       "      <td>Claiming</td>\n",
       "      <td>FT</td>\n",
       "    </tr>\n",
       "    <tr>\n",
       "      <th>1</th>\n",
       "      <td>2015-07-19 00:00:00</td>\n",
       "      <td>Notion Sonet</td>\n",
       "      <td>118</td>\n",
       "      <td>3</td>\n",
       "      <td>C</td>\n",
       "      <td>L</td>\n",
       "      <td>L   Contreras</td>\n",
       "      <td>12.10</td>\n",
       "      <td>4.0</td>\n",
       "      <td>4</td>\n",
       "      <td>...</td>\n",
       "      <td>96.0</td>\n",
       "      <td>Carroll Josie</td>\n",
       "      <td>Ivan Dalos</td>\n",
       "      <td>0.0</td>\n",
       "      <td>0.0</td>\n",
       "      <td>0.0</td>\n",
       "      <td>Cloudy</td>\n",
       "      <td>650.0</td>\n",
       "      <td>Allowance</td>\n",
       "      <td>FT</td>\n",
       "    </tr>\n",
       "    <tr>\n",
       "      <th>2</th>\n",
       "      <td>2015-07-25 00:00:00</td>\n",
       "      <td>Big Red Bugsy</td>\n",
       "      <td>121</td>\n",
       "      <td>5</td>\n",
       "      <td>G</td>\n",
       "      <td>L</td>\n",
       "      <td>S R Bahen</td>\n",
       "      <td>24.75</td>\n",
       "      <td>6.0</td>\n",
       "      <td>6</td>\n",
       "      <td>...</td>\n",
       "      <td>83.0</td>\n",
       "      <td>Fournier Mark</td>\n",
       "      <td>Carruthers, Carruthers, Carruthers, Carruthers...</td>\n",
       "      <td>0.0</td>\n",
       "      <td>0.0</td>\n",
       "      <td>0.0</td>\n",
       "      <td>Cloudy</td>\n",
       "      <td>700.0</td>\n",
       "      <td>Claiming</td>\n",
       "      <td>FT</td>\n",
       "    </tr>\n",
       "    <tr>\n",
       "      <th>3</th>\n",
       "      <td>2015-08-14 00:00:00</td>\n",
       "      <td>Lillz Pearl</td>\n",
       "      <td>121</td>\n",
       "      <td>5</td>\n",
       "      <td>G</td>\n",
       "      <td>Lb</td>\n",
       "      <td>J   McAleney</td>\n",
       "      <td>3.80</td>\n",
       "      <td>3.0</td>\n",
       "      <td>3</td>\n",
       "      <td>...</td>\n",
       "      <td>88.0</td>\n",
       "      <td>Singh Ricky</td>\n",
       "      <td>Ricky Singh</td>\n",
       "      <td>0.0</td>\n",
       "      <td>5.7</td>\n",
       "      <td>3.3</td>\n",
       "      <td>Clear</td>\n",
       "      <td>500.0</td>\n",
       "      <td>Allowance</td>\n",
       "      <td>FT</td>\n",
       "    </tr>\n",
       "    <tr>\n",
       "      <th>4</th>\n",
       "      <td>2015-08-29 00:00:00</td>\n",
       "      <td>Sweet Rose</td>\n",
       "      <td>121</td>\n",
       "      <td>4</td>\n",
       "      <td>F</td>\n",
       "      <td>NaN</td>\n",
       "      <td>L   Contreras</td>\n",
       "      <td>2.95</td>\n",
       "      <td>3.0</td>\n",
       "      <td>3</td>\n",
       "      <td>...</td>\n",
       "      <td>86.0</td>\n",
       "      <td>Attard Sid C</td>\n",
       "      <td>Stronach Stables</td>\n",
       "      <td>0.0</td>\n",
       "      <td>0.0</td>\n",
       "      <td>3.1</td>\n",
       "      <td>Cloudy</td>\n",
       "      <td>500.0</td>\n",
       "      <td>Allowance</td>\n",
       "      <td>FT</td>\n",
       "    </tr>\n",
       "  </tbody>\n",
       "</table>\n",
       "<p>5 rows × 23 columns</p>\n",
       "</div>"
      ],
      "text/plain": [
       "             race_date           name  weight  age sex meds_and_equip  \\\n",
       "0  2015-06-20 00:00:00  Madam Premier     119    4   M             Lb   \n",
       "1  2015-07-19 00:00:00   Notion Sonet     118    3   C              L   \n",
       "2  2015-07-25 00:00:00  Big Red Bugsy     121    5   G              L   \n",
       "3  2015-08-14 00:00:00    Lillz Pearl     121    5   G             Lb   \n",
       "4  2015-08-29 00:00:00     Sweet Rose     121    4   F            NaN   \n",
       "\n",
       "          jockey  dollar_odds  program_number  post_position  ...  \\\n",
       "0       S   Ryan         7.20             1.0              1  ...   \n",
       "1  L   Contreras        12.10             4.0              4  ...   \n",
       "2      S R Bahen        24.75             6.0              6  ...   \n",
       "3   J   McAleney         3.80             3.0              3  ...   \n",
       "4  L   Contreras         2.95             3.0              3  ...   \n",
       "\n",
       "   speed_rating         trainer  \\\n",
       "0          44.0  O'Keefe Thomas   \n",
       "1          96.0   Carroll Josie   \n",
       "2          83.0   Fournier Mark   \n",
       "3          88.0     Singh Ricky   \n",
       "4          86.0    Attard Sid C   \n",
       "\n",
       "                                               owner  win_payoff place_payoff  \\\n",
       "0                                  Emily Anne Walker         0.0          0.0   \n",
       "1                                         Ivan Dalos         0.0          0.0   \n",
       "2  Carruthers, Carruthers, Carruthers, Carruthers...         0.0          0.0   \n",
       "3                                        Ricky Singh         0.0          5.7   \n",
       "4                                   Stronach Stables         0.0          0.0   \n",
       "\n",
       "  show_payoff  weather  distance  race_type track_conditions  \n",
       "0         0.0   Cloudy     900.0   Claiming               FT  \n",
       "1         0.0   Cloudy     650.0  Allowance               FT  \n",
       "2         0.0   Cloudy     700.0   Claiming               FT  \n",
       "3         3.3    Clear     500.0  Allowance               FT  \n",
       "4         3.1   Cloudy     500.0  Allowance               FT  \n",
       "\n",
       "[5 rows x 23 columns]"
      ]
     },
     "execution_count": 234,
     "metadata": {},
     "output_type": "execute_result"
    }
   ],
   "source": [
    "df.head()"
   ]
  },
  {
   "cell_type": "code",
   "execution_count": 304,
   "id": "3d52b38e-5128-467c-a100-b8964d73cfaf",
   "metadata": {},
   "outputs": [],
   "source": [
    "#Created my features and label\n",
    "Y = df[['finish_position']]\n",
    "X = df.drop(['finish_position'], axis=1)"
   ]
  },
  {
   "cell_type": "code",
   "execution_count": 308,
   "id": "9b07593f-e8cd-4a1b-99bc-1294a857c945",
   "metadata": {},
   "outputs": [
    {
     "name": "stdout",
     "output_type": "stream",
     "text": [
      "<class 'pandas.core.frame.DataFrame'>\n",
      "Int64Index: 4053 entries, 0 to 4369\n",
      "Data columns (total 22 columns):\n",
      " #   Column            Non-Null Count  Dtype  \n",
      "---  ------            --------------  -----  \n",
      " 0   race_date         4053 non-null   object \n",
      " 1   name              4053 non-null   object \n",
      " 2   weight            4053 non-null   int64  \n",
      " 3   age               4053 non-null   int64  \n",
      " 4   sex               4053 non-null   object \n",
      " 5   meds_and_equip    3907 non-null   object \n",
      " 6   jockey            4053 non-null   object \n",
      " 7   dollar_odds       4053 non-null   float64\n",
      " 8   program_number    4053 non-null   float64\n",
      " 9   post_position     4053 non-null   int64  \n",
      " 10  claim_price       4053 non-null   int64  \n",
      " 11  start_position    4053 non-null   float64\n",
      " 12  speed_rating      4053 non-null   float64\n",
      " 13  trainer           4053 non-null   object \n",
      " 14  owner             4053 non-null   object \n",
      " 15  win_payoff        4053 non-null   float64\n",
      " 16  place_payoff      4053 non-null   float64\n",
      " 17  show_payoff       4053 non-null   float64\n",
      " 18  weather           4053 non-null   object \n",
      " 19  distance          4053 non-null   float64\n",
      " 20  race_type         4053 non-null   object \n",
      " 21  track_conditions  4053 non-null   object \n",
      "dtypes: float64(8), int64(4), object(10)\n",
      "memory usage: 728.3+ KB\n"
     ]
    }
   ],
   "source": [
    "X.info()"
   ]
  },
  {
   "cell_type": "code",
   "execution_count": 309,
   "id": "da47f05f-c479-4e99-95a2-36734f5f9c2d",
   "metadata": {},
   "outputs": [],
   "source": [
    "encoder = LabelEncoder()\n",
    "encoder.fit(X['race_date'])\n",
    "X['race_date'] = encoder.transform(X['race_date'])"
   ]
  },
  {
   "cell_type": "code",
   "execution_count": 310,
   "id": "edd1f407-9796-463e-86c0-c73cd8340ba5",
   "metadata": {},
   "outputs": [],
   "source": [
    "#Creating dummies for categorical names\n",
    "X_dummies = pd.get_dummies(X[['name']])\n",
    "X = pd.concat([X,X_dummies], axis=1)\n",
    "X.drop('name', axis=1, inplace=True)"
   ]
  },
  {
   "cell_type": "code",
   "execution_count": 311,
   "id": "96446ba3-2d4a-47b7-93fc-e7ac1421e63b",
   "metadata": {},
   "outputs": [],
   "source": [
    "#Creating dummies for categorical sex\n",
    "X_dummies = pd.get_dummies(X[['sex']])\n",
    "X = pd.concat([X,X_dummies], axis=1)\n",
    "X.drop('sex', axis=1, inplace=True)"
   ]
  },
  {
   "cell_type": "code",
   "execution_count": 312,
   "id": "b9a00c5c-383a-4a7b-a2c6-bd0427019b56",
   "metadata": {},
   "outputs": [],
   "source": [
    "#Creating dummies for meds and equipment\n",
    "X_dummies = pd.get_dummies(X[['meds_and_equip']])\n",
    "X = pd.concat([X,X_dummies], axis=1)\n",
    "X.drop('meds_and_equip', axis=1, inplace=True)"
   ]
  },
  {
   "cell_type": "code",
   "execution_count": 313,
   "id": "2d4b0769-4e06-46a1-bb21-d3bd28e5a771",
   "metadata": {},
   "outputs": [],
   "source": [
    "#Creating dummies for jockey\n",
    "X_dummies = pd.get_dummies(X[['jockey']])\n",
    "X = pd.concat([X,X_dummies], axis=1)\n",
    "X.drop('jockey', axis=1, inplace=True)"
   ]
  },
  {
   "cell_type": "code",
   "execution_count": 314,
   "id": "a79a00c4-e6a5-403d-ab34-29c164f02649",
   "metadata": {},
   "outputs": [],
   "source": [
    "#Creating dummies for trainer\n",
    "X_dummies = pd.get_dummies(X[['trainer']])\n",
    "X = pd.concat([X,X_dummies], axis=1)\n",
    "X.drop('trainer', axis=1, inplace=True)"
   ]
  },
  {
   "cell_type": "code",
   "execution_count": 315,
   "id": "c87bb6c7-9c05-4829-b290-2e52ed90069b",
   "metadata": {},
   "outputs": [],
   "source": [
    "#Creating dummies for owner\n",
    "X_dummies = pd.get_dummies(X[['owner']])\n",
    "X = pd.concat([X,X_dummies], axis=1)\n",
    "X.drop('owner', axis=1, inplace=True)"
   ]
  },
  {
   "cell_type": "code",
   "execution_count": 316,
   "id": "1edd131d-9613-4022-9e27-172952e123a0",
   "metadata": {},
   "outputs": [],
   "source": [
    "#Creating dummies for weather\n",
    "X_dummies = pd.get_dummies(X[['weather']])\n",
    "X = pd.concat([X,X_dummies], axis=1)\n",
    "X.drop('weather', axis=1, inplace=True)"
   ]
  },
  {
   "cell_type": "code",
   "execution_count": 317,
   "id": "28cddca0-3574-418b-86fb-4b076918920a",
   "metadata": {},
   "outputs": [],
   "source": [
    "#Creating dummies for race type\n",
    "X_dummies = pd.get_dummies(X[['race_type']])\n",
    "X = pd.concat([X,X_dummies], axis=1)\n",
    "X.drop('race_type', axis=1, inplace=True)"
   ]
  },
  {
   "cell_type": "code",
   "execution_count": 318,
   "id": "2ca42ea5-9591-4cc1-9a5d-f1203c8a2f5a",
   "metadata": {},
   "outputs": [],
   "source": [
    "#Creating dummies for track conditions\n",
    "X_dummies = pd.get_dummies(X[['track_conditions']])\n",
    "X = pd.concat([X,X_dummies], axis=1)\n",
    "X.drop('track_conditions', axis=1, inplace=True)"
   ]
  },
  {
   "cell_type": "code",
   "execution_count": 319,
   "id": "5043cf61-a879-485c-b432-6beece1253ed",
   "metadata": {},
   "outputs": [
    {
     "data": {
      "text/html": [
       "<div>\n",
       "<style scoped>\n",
       "    .dataframe tbody tr th:only-of-type {\n",
       "        vertical-align: middle;\n",
       "    }\n",
       "\n",
       "    .dataframe tbody tr th {\n",
       "        vertical-align: top;\n",
       "    }\n",
       "\n",
       "    .dataframe thead th {\n",
       "        text-align: right;\n",
       "    }\n",
       "</style>\n",
       "<table border=\"1\" class=\"dataframe\">\n",
       "  <thead>\n",
       "    <tr style=\"text-align: right;\">\n",
       "      <th></th>\n",
       "      <th>race_date</th>\n",
       "      <th>weight</th>\n",
       "      <th>age</th>\n",
       "      <th>dollar_odds</th>\n",
       "      <th>program_number</th>\n",
       "      <th>post_position</th>\n",
       "      <th>claim_price</th>\n",
       "      <th>start_position</th>\n",
       "      <th>speed_rating</th>\n",
       "      <th>win_payoff</th>\n",
       "      <th>...</th>\n",
       "      <th>race_type_Maiden Claiming</th>\n",
       "      <th>race_type_Maiden Optional Claiming</th>\n",
       "      <th>race_type_Maiden Special Weight</th>\n",
       "      <th>race_type_Optional Claiming</th>\n",
       "      <th>race_type_Stakes</th>\n",
       "      <th>race_type_Starters Allowance</th>\n",
       "      <th>track_conditions_FM</th>\n",
       "      <th>track_conditions_FT</th>\n",
       "      <th>track_conditions_GD</th>\n",
       "      <th>track_conditions_YL</th>\n",
       "    </tr>\n",
       "  </thead>\n",
       "  <tbody>\n",
       "    <tr>\n",
       "      <th>0</th>\n",
       "      <td>0</td>\n",
       "      <td>119</td>\n",
       "      <td>4</td>\n",
       "      <td>7.20</td>\n",
       "      <td>1.0</td>\n",
       "      <td>1</td>\n",
       "      <td>9500</td>\n",
       "      <td>5.0</td>\n",
       "      <td>44.0</td>\n",
       "      <td>0.0</td>\n",
       "      <td>...</td>\n",
       "      <td>0</td>\n",
       "      <td>0</td>\n",
       "      <td>0</td>\n",
       "      <td>0</td>\n",
       "      <td>0</td>\n",
       "      <td>0</td>\n",
       "      <td>0</td>\n",
       "      <td>1</td>\n",
       "      <td>0</td>\n",
       "      <td>0</td>\n",
       "    </tr>\n",
       "    <tr>\n",
       "      <th>1</th>\n",
       "      <td>1</td>\n",
       "      <td>118</td>\n",
       "      <td>3</td>\n",
       "      <td>12.10</td>\n",
       "      <td>4.0</td>\n",
       "      <td>4</td>\n",
       "      <td>0</td>\n",
       "      <td>10.0</td>\n",
       "      <td>96.0</td>\n",
       "      <td>0.0</td>\n",
       "      <td>...</td>\n",
       "      <td>0</td>\n",
       "      <td>0</td>\n",
       "      <td>0</td>\n",
       "      <td>0</td>\n",
       "      <td>0</td>\n",
       "      <td>0</td>\n",
       "      <td>0</td>\n",
       "      <td>1</td>\n",
       "      <td>0</td>\n",
       "      <td>0</td>\n",
       "    </tr>\n",
       "    <tr>\n",
       "      <th>2</th>\n",
       "      <td>2</td>\n",
       "      <td>121</td>\n",
       "      <td>5</td>\n",
       "      <td>24.75</td>\n",
       "      <td>6.0</td>\n",
       "      <td>6</td>\n",
       "      <td>20000</td>\n",
       "      <td>10.0</td>\n",
       "      <td>83.0</td>\n",
       "      <td>0.0</td>\n",
       "      <td>...</td>\n",
       "      <td>0</td>\n",
       "      <td>0</td>\n",
       "      <td>0</td>\n",
       "      <td>0</td>\n",
       "      <td>0</td>\n",
       "      <td>0</td>\n",
       "      <td>0</td>\n",
       "      <td>1</td>\n",
       "      <td>0</td>\n",
       "      <td>0</td>\n",
       "    </tr>\n",
       "    <tr>\n",
       "      <th>3</th>\n",
       "      <td>3</td>\n",
       "      <td>121</td>\n",
       "      <td>5</td>\n",
       "      <td>3.80</td>\n",
       "      <td>3.0</td>\n",
       "      <td>3</td>\n",
       "      <td>0</td>\n",
       "      <td>7.0</td>\n",
       "      <td>88.0</td>\n",
       "      <td>0.0</td>\n",
       "      <td>...</td>\n",
       "      <td>0</td>\n",
       "      <td>0</td>\n",
       "      <td>0</td>\n",
       "      <td>0</td>\n",
       "      <td>0</td>\n",
       "      <td>0</td>\n",
       "      <td>0</td>\n",
       "      <td>1</td>\n",
       "      <td>0</td>\n",
       "      <td>0</td>\n",
       "    </tr>\n",
       "    <tr>\n",
       "      <th>4</th>\n",
       "      <td>4</td>\n",
       "      <td>121</td>\n",
       "      <td>4</td>\n",
       "      <td>2.95</td>\n",
       "      <td>3.0</td>\n",
       "      <td>3</td>\n",
       "      <td>0</td>\n",
       "      <td>4.0</td>\n",
       "      <td>86.0</td>\n",
       "      <td>0.0</td>\n",
       "      <td>...</td>\n",
       "      <td>0</td>\n",
       "      <td>0</td>\n",
       "      <td>0</td>\n",
       "      <td>0</td>\n",
       "      <td>0</td>\n",
       "      <td>0</td>\n",
       "      <td>0</td>\n",
       "      <td>1</td>\n",
       "      <td>0</td>\n",
       "      <td>0</td>\n",
       "    </tr>\n",
       "  </tbody>\n",
       "</table>\n",
       "<p>5 rows × 2855 columns</p>\n",
       "</div>"
      ],
      "text/plain": [
       "   race_date  weight  age  dollar_odds  program_number  post_position  \\\n",
       "0          0     119    4         7.20             1.0              1   \n",
       "1          1     118    3        12.10             4.0              4   \n",
       "2          2     121    5        24.75             6.0              6   \n",
       "3          3     121    5         3.80             3.0              3   \n",
       "4          4     121    4         2.95             3.0              3   \n",
       "\n",
       "   claim_price  start_position  speed_rating  win_payoff  ...  \\\n",
       "0         9500             5.0          44.0         0.0  ...   \n",
       "1            0            10.0          96.0         0.0  ...   \n",
       "2        20000            10.0          83.0         0.0  ...   \n",
       "3            0             7.0          88.0         0.0  ...   \n",
       "4            0             4.0          86.0         0.0  ...   \n",
       "\n",
       "   race_type_Maiden Claiming  race_type_Maiden Optional Claiming  \\\n",
       "0                          0                                   0   \n",
       "1                          0                                   0   \n",
       "2                          0                                   0   \n",
       "3                          0                                   0   \n",
       "4                          0                                   0   \n",
       "\n",
       "   race_type_Maiden Special Weight  race_type_Optional Claiming  \\\n",
       "0                                0                            0   \n",
       "1                                0                            0   \n",
       "2                                0                            0   \n",
       "3                                0                            0   \n",
       "4                                0                            0   \n",
       "\n",
       "   race_type_Stakes  race_type_Starters Allowance  track_conditions_FM  \\\n",
       "0                 0                             0                    0   \n",
       "1                 0                             0                    0   \n",
       "2                 0                             0                    0   \n",
       "3                 0                             0                    0   \n",
       "4                 0                             0                    0   \n",
       "\n",
       "   track_conditions_FT  track_conditions_GD  track_conditions_YL  \n",
       "0                    1                    0                    0  \n",
       "1                    1                    0                    0  \n",
       "2                    1                    0                    0  \n",
       "3                    1                    0                    0  \n",
       "4                    1                    0                    0  \n",
       "\n",
       "[5 rows x 2855 columns]"
      ]
     },
     "execution_count": 319,
     "metadata": {},
     "output_type": "execute_result"
    }
   ],
   "source": [
    "X.head()"
   ]
  },
  {
   "cell_type": "code",
   "execution_count": 320,
   "id": "23334a40-71bc-4312-93be-5ae26ba12867",
   "metadata": {},
   "outputs": [
    {
     "name": "stdout",
     "output_type": "stream",
     "text": [
      "<class 'pandas.core.frame.DataFrame'>\n",
      "Int64Index: 4053 entries, 0 to 4369\n",
      "Columns: 2855 entries, race_date to track_conditions_YL\n",
      "dtypes: float64(8), int32(1), int64(4), uint8(2842)\n",
      "memory usage: 11.4 MB\n"
     ]
    }
   ],
   "source": [
    "X.info()"
   ]
  },
  {
   "cell_type": "code",
   "execution_count": 321,
   "id": "f672ee42-ddae-4345-a0bc-f62b16f741b8",
   "metadata": {},
   "outputs": [
    {
     "name": "stderr",
     "output_type": "stream",
     "text": [
      "C:\\Users\\Mike\\AppData\\Local\\Temp/ipykernel_4292/3281760349.py:2: SettingWithCopyWarning: \n",
      "A value is trying to be set on a copy of a slice from a DataFrame.\n",
      "Try using .loc[row_indexer,col_indexer] = value instead\n",
      "\n",
      "See the caveats in the documentation: https://pandas.pydata.org/pandas-docs/stable/user_guide/indexing.html#returning-a-view-versus-a-copy\n",
      "  Y['finish_position'] = np.where(Y['finish_position'] > 1, 2, Y['finish_position'])\n"
     ]
    },
    {
     "data": {
      "text/html": [
       "<div>\n",
       "<style scoped>\n",
       "    .dataframe tbody tr th:only-of-type {\n",
       "        vertical-align: middle;\n",
       "    }\n",
       "\n",
       "    .dataframe tbody tr th {\n",
       "        vertical-align: top;\n",
       "    }\n",
       "\n",
       "    .dataframe thead th {\n",
       "        text-align: right;\n",
       "    }\n",
       "</style>\n",
       "<table border=\"1\" class=\"dataframe\">\n",
       "  <thead>\n",
       "    <tr style=\"text-align: right;\">\n",
       "      <th></th>\n",
       "      <th>finish_position</th>\n",
       "    </tr>\n",
       "  </thead>\n",
       "  <tbody>\n",
       "    <tr>\n",
       "      <th>0</th>\n",
       "      <td>2.0</td>\n",
       "    </tr>\n",
       "    <tr>\n",
       "      <th>1</th>\n",
       "      <td>2.0</td>\n",
       "    </tr>\n",
       "    <tr>\n",
       "      <th>2</th>\n",
       "      <td>2.0</td>\n",
       "    </tr>\n",
       "    <tr>\n",
       "      <th>3</th>\n",
       "      <td>2.0</td>\n",
       "    </tr>\n",
       "    <tr>\n",
       "      <th>4</th>\n",
       "      <td>2.0</td>\n",
       "    </tr>\n",
       "  </tbody>\n",
       "</table>\n",
       "</div>"
      ],
      "text/plain": [
       "   finish_position\n",
       "0              2.0\n",
       "1              2.0\n",
       "2              2.0\n",
       "3              2.0\n",
       "4              2.0"
      ]
     },
     "execution_count": 321,
     "metadata": {},
     "output_type": "execute_result"
    }
   ],
   "source": [
    "#Merged all the non-winning horses to a single category, we will be predicting either a winner or not a winner\n",
    "Y['finish_position'] = np.where(Y['finish_position'] > 1, 2, Y['finish_position'])\n",
    "Y.head()"
   ]
  },
  {
   "cell_type": "code",
   "execution_count": 322,
   "id": "fa9a0c52-db89-4f69-bffc-408cf18ccbeb",
   "metadata": {},
   "outputs": [],
   "source": [
    "Y = Y.astype(str)\n",
    "Y_dummies = pd.get_dummies(Y[['finish_position']])\n",
    "Y = pd.concat([Y,Y_dummies], axis=1)\n",
    "Y.drop('finish_position', axis=1, inplace=True)"
   ]
  },
  {
   "cell_type": "code",
   "execution_count": 323,
   "id": "bbad24be-fb59-4f6a-af19-bf9bdccda6d1",
   "metadata": {},
   "outputs": [
    {
     "data": {
      "text/html": [
       "<div>\n",
       "<style scoped>\n",
       "    .dataframe tbody tr th:only-of-type {\n",
       "        vertical-align: middle;\n",
       "    }\n",
       "\n",
       "    .dataframe tbody tr th {\n",
       "        vertical-align: top;\n",
       "    }\n",
       "\n",
       "    .dataframe thead th {\n",
       "        text-align: right;\n",
       "    }\n",
       "</style>\n",
       "<table border=\"1\" class=\"dataframe\">\n",
       "  <thead>\n",
       "    <tr style=\"text-align: right;\">\n",
       "      <th></th>\n",
       "      <th>finish_position_1.0</th>\n",
       "      <th>finish_position_2.0</th>\n",
       "    </tr>\n",
       "  </thead>\n",
       "  <tbody>\n",
       "    <tr>\n",
       "      <th>0</th>\n",
       "      <td>0</td>\n",
       "      <td>1</td>\n",
       "    </tr>\n",
       "    <tr>\n",
       "      <th>1</th>\n",
       "      <td>0</td>\n",
       "      <td>1</td>\n",
       "    </tr>\n",
       "    <tr>\n",
       "      <th>2</th>\n",
       "      <td>0</td>\n",
       "      <td>1</td>\n",
       "    </tr>\n",
       "    <tr>\n",
       "      <th>3</th>\n",
       "      <td>0</td>\n",
       "      <td>1</td>\n",
       "    </tr>\n",
       "    <tr>\n",
       "      <th>4</th>\n",
       "      <td>0</td>\n",
       "      <td>1</td>\n",
       "    </tr>\n",
       "  </tbody>\n",
       "</table>\n",
       "</div>"
      ],
      "text/plain": [
       "   finish_position_1.0  finish_position_2.0\n",
       "0                    0                    1\n",
       "1                    0                    1\n",
       "2                    0                    1\n",
       "3                    0                    1\n",
       "4                    0                    1"
      ]
     },
     "execution_count": 323,
     "metadata": {},
     "output_type": "execute_result"
    }
   ],
   "source": [
    "Y.head()"
   ]
  },
  {
   "cell_type": "code",
   "execution_count": 324,
   "id": "189561d7-92df-4f64-903b-6d0d80f8f9a0",
   "metadata": {},
   "outputs": [],
   "source": [
    "train_x, test_x, train_y, test_y = model_selection.train_test_split(X,Y,test_size = 0.2, random_state = 0)"
   ]
  },
  {
   "cell_type": "code",
   "execution_count": 325,
   "id": "aacffc84-d101-4479-9134-4b94b8a434d4",
   "metadata": {},
   "outputs": [],
   "source": [
    "model = keras.Sequential(\n",
    "    [\n",
    "        layers.Dense(1400, activation='sigmoid', name='layer1'),\n",
    "        layers.Dense(700, activation='relu', name='layer2'),\n",
    "        layers.Dense(200, activation='relu', name='layer3'),\n",
    "        layers.Dense(20, activation='relu', name='layer4'),\n",
    "        layers.Dense(2, activation='softmax', name='output1'),\n",
    "    ]\n",
    ")"
   ]
  },
  {
   "cell_type": "code",
   "execution_count": 326,
   "id": "ec43159a-2c6f-41d7-aa13-b28a4f1a8276",
   "metadata": {},
   "outputs": [],
   "source": [
    "model.compile(loss = 'categorical_crossentropy' , optimizer = 'adam' , metrics = ['accuracy'] )"
   ]
  },
  {
   "cell_type": "code",
   "execution_count": 328,
   "id": "21ccc579-8ef5-469d-b881-e775b5f0a872",
   "metadata": {},
   "outputs": [
    {
     "name": "stdout",
     "output_type": "stream",
     "text": [
      "Epoch 1/20\n",
      "102/102 [==============================] - 1s 6ms/step - loss: 0.2076 - accuracy: 0.9352 - val_loss: 0.2252 - val_accuracy: 0.9273\n",
      "\n",
      "Epoch 00001: val_accuracy improved from -inf to 0.92725, saving model to weights.hdf5\n",
      "Epoch 2/20\n",
      "102/102 [==============================] - 0s 3ms/step - loss: 0.2076 - accuracy: 0.9352 - val_loss: 0.2250 - val_accuracy: 0.9273\n",
      "\n",
      "Epoch 00002: val_accuracy did not improve from 0.92725\n",
      "Epoch 3/20\n",
      "102/102 [==============================] - 0s 4ms/step - loss: 0.2075 - accuracy: 0.9352 - val_loss: 0.2250 - val_accuracy: 0.9273\n",
      "\n",
      "Epoch 00003: val_accuracy did not improve from 0.92725\n",
      "Epoch 4/20\n",
      "102/102 [==============================] - 0s 4ms/step - loss: 0.2075 - accuracy: 0.9352 - val_loss: 0.2250 - val_accuracy: 0.9273\n",
      "\n",
      "Epoch 00004: val_accuracy did not improve from 0.92725\n",
      "Epoch 5/20\n",
      "102/102 [==============================] - 0s 4ms/step - loss: 0.2075 - accuracy: 0.9352 - val_loss: 0.2250 - val_accuracy: 0.9273\n",
      "\n",
      "Epoch 00005: val_accuracy did not improve from 0.92725\n",
      "Epoch 6/20\n",
      "102/102 [==============================] - 0s 4ms/step - loss: 0.2076 - accuracy: 0.9352 - val_loss: 0.2251 - val_accuracy: 0.9273\n",
      "\n",
      "Epoch 00006: val_accuracy did not improve from 0.92725\n",
      "Epoch 7/20\n",
      "102/102 [==============================] - 0s 4ms/step - loss: 0.2075 - accuracy: 0.9352 - val_loss: 0.2250 - val_accuracy: 0.9273\n",
      "\n",
      "Epoch 00007: val_accuracy did not improve from 0.92725\n",
      "Epoch 8/20\n",
      "102/102 [==============================] - 0s 4ms/step - loss: 0.2075 - accuracy: 0.9352 - val_loss: 0.2249 - val_accuracy: 0.9273\n",
      "\n",
      "Epoch 00008: val_accuracy did not improve from 0.92725\n",
      "Epoch 9/20\n",
      "102/102 [==============================] - 0s 4ms/step - loss: 0.2075 - accuracy: 0.9352 - val_loss: 0.2250 - val_accuracy: 0.9273\n",
      "\n",
      "Epoch 00009: val_accuracy did not improve from 0.92725\n",
      "Epoch 10/20\n",
      "102/102 [==============================] - 0s 4ms/step - loss: 0.2075 - accuracy: 0.9352 - val_loss: 0.2250 - val_accuracy: 0.9273\n",
      "\n",
      "Epoch 00010: val_accuracy did not improve from 0.92725\n",
      "Epoch 11/20\n",
      "102/102 [==============================] - 0s 4ms/step - loss: 0.2075 - accuracy: 0.9352 - val_loss: 0.2249 - val_accuracy: 0.9273\n",
      "\n",
      "Epoch 00011: val_accuracy did not improve from 0.92725\n",
      "Epoch 12/20\n",
      "102/102 [==============================] - 0s 4ms/step - loss: 0.2075 - accuracy: 0.9352 - val_loss: 0.2250 - val_accuracy: 0.9273\n",
      "\n",
      "Epoch 00012: val_accuracy did not improve from 0.92725\n",
      "Epoch 13/20\n",
      "102/102 [==============================] - 0s 4ms/step - loss: 0.2076 - accuracy: 0.9352 - val_loss: 0.2251 - val_accuracy: 0.9273\n",
      "\n",
      "Epoch 00013: val_accuracy did not improve from 0.92725\n",
      "Epoch 14/20\n",
      "102/102 [==============================] - 0s 4ms/step - loss: 0.2076 - accuracy: 0.9352 - val_loss: 0.2252 - val_accuracy: 0.9273\n",
      "\n",
      "Epoch 00014: val_accuracy did not improve from 0.92725\n",
      "Epoch 15/20\n",
      "102/102 [==============================] - 0s 4ms/step - loss: 0.2075 - accuracy: 0.9352 - val_loss: 0.2252 - val_accuracy: 0.9273\n",
      "\n",
      "Epoch 00015: val_accuracy did not improve from 0.92725\n",
      "Epoch 16/20\n",
      "102/102 [==============================] - 0s 4ms/step - loss: 0.2075 - accuracy: 0.9352 - val_loss: 0.2250 - val_accuracy: 0.9273\n",
      "\n",
      "Epoch 00016: val_accuracy did not improve from 0.92725\n",
      "Epoch 17/20\n",
      "102/102 [==============================] - 0s 4ms/step - loss: 0.2075 - accuracy: 0.9352 - val_loss: 0.2250 - val_accuracy: 0.9273\n",
      "\n",
      "Epoch 00017: val_accuracy did not improve from 0.92725\n",
      "Epoch 18/20\n",
      "102/102 [==============================] - 0s 4ms/step - loss: 0.2075 - accuracy: 0.9352 - val_loss: 0.2250 - val_accuracy: 0.9273\n",
      "\n",
      "Epoch 00018: val_accuracy did not improve from 0.92725\n",
      "Epoch 19/20\n",
      "102/102 [==============================] - 0s 4ms/step - loss: 0.2076 - accuracy: 0.9352 - val_loss: 0.2250 - val_accuracy: 0.9273\n",
      "\n",
      "Epoch 00019: val_accuracy did not improve from 0.92725\n",
      "Epoch 20/20\n",
      "102/102 [==============================] - 0s 4ms/step - loss: 0.2075 - accuracy: 0.9352 - val_loss: 0.2249 - val_accuracy: 0.9273\n",
      "\n",
      "Epoch 00020: val_accuracy did not improve from 0.92725\n"
     ]
    }
   ],
   "source": [
    "#model.summary() # model architecture\n",
    "checkpointer = ModelCheckpoint(filepath=\"weights.hdf5\", monitor = 'val_accuracy', verbose=1, save_best_only=True) # save model's best weights\n",
    "\n",
    "history = model.fit(\n",
    "                    train_x, \n",
    "                    train_y, \n",
    "                    epochs=20,  \n",
    "                    callbacks = [checkpointer], \n",
    "                    validation_data = (test_x, test_y)\n",
    "                    )\n",
    "\n",
    "model_name = \"horserace.h5\"\n",
    "model.save(model_name)"
   ]
  },
  {
   "cell_type": "code",
   "execution_count": null,
   "id": "e1e7f692-15a9-4efc-b297-60f2b048c789",
   "metadata": {},
   "outputs": [],
   "source": []
  }
 ],
 "metadata": {
  "kernelspec": {
   "display_name": "Python 3 (ipykernel)",
   "language": "python",
   "name": "python3"
  },
  "language_info": {
   "codemirror_mode": {
    "name": "ipython",
    "version": 3
   },
   "file_extension": ".py",
   "mimetype": "text/x-python",
   "name": "python",
   "nbconvert_exporter": "python",
   "pygments_lexer": "ipython3",
   "version": "3.9.7"
  }
 },
 "nbformat": 4,
 "nbformat_minor": 5
}
